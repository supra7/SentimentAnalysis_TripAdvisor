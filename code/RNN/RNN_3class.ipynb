{
 "cells": [
  {
   "cell_type": "code",
   "execution_count": 3,
   "metadata": {
    "collapsed": true
   },
   "outputs": [],
   "source": [
    "import sys\n",
    "import tensorflow as tf\n",
    "import json\n",
    "import os\n",
    "n_epoch = 3\n",
    "import pandas as pd"
   ]
  },
  {
   "cell_type": "code",
   "execution_count": 7,
   "metadata": {
    "collapsed": false
   },
   "outputs": [
    {
     "name": "stdout",
     "output_type": "stream",
     "text": [
      "1325\n"
     ]
    }
   ],
   "source": [
    "import csv\n",
    "from pandas.io.json import json_normalize\n",
    "dirs = os.listdir(\"../../data/json/\")\n",
    "print len(dirs)\n",
    "with open('../../data/tripadv.csv','wb') as f:\n",
    "    writer = csv.writer(f)\n",
    "    writer.writerow([\"Ratings\",\"Content\"])\n",
    "    for filename in dirs:\n",
    "        with open('../../data/json/'+filename) as fi:\n",
    "            \n",
    "            try:\n",
    "                d = json.load(fi)\n",
    "            except:\n",
    "                d={}\n",
    "                d[\"Reviews\"] = []\n",
    "        for x in d[\"Reviews\"]:\n",
    "            if float(x[\"Ratings\"][\"Overall\"]) in [1.0,2.0,3.0,4.0,5.0]:\n",
    "                writer.writerow([float(x[\"Ratings\"][\"Overall\"].encode('utf-8')),x[\"Content\"].encode('utf-8')])"
   ]
  },
  {
   "cell_type": "code",
   "execution_count": 8,
   "metadata": {
    "collapsed": false
   },
   "outputs": [
    {
     "data": {
      "text/html": [
       "<div>\n",
       "<table border=\"1\" class=\"dataframe\">\n",
       "  <thead>\n",
       "    <tr style=\"text-align: right;\">\n",
       "      <th></th>\n",
       "      <th>Ratings</th>\n",
       "      <th>Content</th>\n",
       "    </tr>\n",
       "  </thead>\n",
       "  <tbody>\n",
       "    <tr>\n",
       "      <th>0</th>\n",
       "      <td>5.0</td>\n",
       "      <td>Usually stay near the airport, but this trip w...</td>\n",
       "    </tr>\n",
       "    <tr>\n",
       "      <th>1</th>\n",
       "      <td>4.0</td>\n",
       "      <td>Stayed at this Hilton for 2 nights. It was lik...</td>\n",
       "    </tr>\n",
       "    <tr>\n",
       "      <th>2</th>\n",
       "      <td>4.0</td>\n",
       "      <td>Stayed there one night, December 16, on the wa...</td>\n",
       "    </tr>\n",
       "    <tr>\n",
       "      <th>3</th>\n",
       "      <td>5.0</td>\n",
       "      <td>I just stayed here last weekend and have alrea...</td>\n",
       "    </tr>\n",
       "    <tr>\n",
       "      <th>4</th>\n",
       "      <td>5.0</td>\n",
       "      <td>My mother who is 90 and I stayed one night on ...</td>\n",
       "    </tr>\n",
       "    <tr>\n",
       "      <th>5</th>\n",
       "      <td>4.0</td>\n",
       "      <td>A fabulous stop. Clean, friendly, excellent lo...</td>\n",
       "    </tr>\n",
       "    <tr>\n",
       "      <th>6</th>\n",
       "      <td>4.0</td>\n",
       "      <td>I stopped here just for the night on a road tr...</td>\n",
       "    </tr>\n",
       "    <tr>\n",
       "      <th>7</th>\n",
       "      <td>4.0</td>\n",
       "      <td>Great spot close to shops and dinning but perh...</td>\n",
       "    </tr>\n",
       "    <tr>\n",
       "      <th>8</th>\n",
       "      <td>4.0</td>\n",
       "      <td>My husband and I go to Baltimore often as he h...</td>\n",
       "    </tr>\n",
       "    <tr>\n",
       "      <th>9</th>\n",
       "      <td>5.0</td>\n",
       "      <td>Super clean. Great hotel to stay at. We actual...</td>\n",
       "    </tr>\n",
       "  </tbody>\n",
       "</table>\n",
       "</div>"
      ],
      "text/plain": [
       "   Ratings                                            Content\n",
       "0      5.0  Usually stay near the airport, but this trip w...\n",
       "1      4.0  Stayed at this Hilton for 2 nights. It was lik...\n",
       "2      4.0  Stayed there one night, December 16, on the wa...\n",
       "3      5.0  I just stayed here last weekend and have alrea...\n",
       "4      5.0  My mother who is 90 and I stayed one night on ...\n",
       "5      4.0  A fabulous stop. Clean, friendly, excellent lo...\n",
       "6      4.0  I stopped here just for the night on a road tr...\n",
       "7      4.0  Great spot close to shops and dinning but perh...\n",
       "8      4.0  My husband and I go to Baltimore often as he h...\n",
       "9      5.0  Super clean. Great hotel to stay at. We actual..."
      ]
     },
     "execution_count": 8,
     "metadata": {},
     "output_type": "execute_result"
    }
   ],
   "source": [
    "import pandas as pd\n",
    "df = pd.read_csv('../../data/tripadv.csv')\n",
    "df.head(10)"
   ]
  },
  {
   "cell_type": "code",
   "execution_count": 3,
   "metadata": {
    "collapsed": false
   },
   "outputs": [
    {
     "data": {
      "text/plain": [
       "0    5.0\n",
       "1    4.0\n",
       "2    4.0\n",
       "3    5.0\n",
       "4    5.0\n",
       "5    4.0\n",
       "6    4.0\n",
       "7    4.0\n",
       "8    4.0\n",
       "9    5.0\n",
       "Name: Ratings, dtype: float64"
      ]
     },
     "execution_count": 3,
     "metadata": {},
     "output_type": "execute_result"
    }
   ],
   "source": [
    "X = df.Content\n",
    "y = df.Ratings\n",
    "X.head(10)\n",
    "y.head(10)"
   ]
  },
  {
   "cell_type": "code",
   "execution_count": 4,
   "metadata": {
    "collapsed": false
   },
   "outputs": [],
   "source": [
    "def get_positive_or_negative_classes_two_classes(y):\n",
    "    return y.apply(lambda val: 0 if val<=2 else 1)\n",
    "def get_positive_or_negative_classes_three_classes(y):\n",
    "    return y.apply(lambda val: 0 if val<=2 else 2 if val > 3 else 1)\n",
    "def get_positive_or_negative_classes_five_classes(y):\n",
    "    return y.apply(lambda val: 0 if val=='' else val)"
   ]
  },
  {
   "cell_type": "code",
   "execution_count": 5,
   "metadata": {
    "collapsed": false
   },
   "outputs": [],
   "source": [
    "import tflearn\n",
    "from tflearn.data_utils import to_categorical, pad_sequences\n",
    "from sklearn.model_selection import train_test_split\n",
    "X_train, X_test, y_train, y_test = train_test_split(X, y, test_size=0.1, random_state=42)\n",
    "y_train = get_positive_or_negative_classes_three_classes(y_train)\n",
    "y_test = get_positive_or_negative_classes_three_classes(y_test)"
   ]
  },
  {
   "cell_type": "code",
   "execution_count": 6,
   "metadata": {
    "collapsed": true
   },
   "outputs": [],
   "source": [
    "import string\n",
    "from sklearn.feature_extraction.text import CountVectorizer\n",
    "vect = CountVectorizer(ngram_range=(1,1), token_pattern=r'\\b\\w{1,}\\b')"
   ]
  },
  {
   "cell_type": "code",
   "execution_count": 7,
   "metadata": {
    "collapsed": false
   },
   "outputs": [
    {
     "data": {
      "text/plain": [
       "132362"
      ]
     },
     "execution_count": 7,
     "metadata": {},
     "output_type": "execute_result"
    }
   ],
   "source": [
    "vect.fit(X_train)\n",
    "vocab = vect.vocabulary_\n",
    "len(vocab)"
   ]
  },
  {
   "cell_type": "code",
   "execution_count": 8,
   "metadata": {
    "collapsed": true
   },
   "outputs": [],
   "source": [
    "def convert_X_to_X_word_ids(X):\n",
    "    return X.apply( lambda x: [vocab[w] for w in [w.lower().strip() for w in x.split()] if w in vocab] )"
   ]
  },
  {
   "cell_type": "code",
   "execution_count": 9,
   "metadata": {
    "collapsed": false
   },
   "outputs": [],
   "source": [
    "X_train_word_ids = convert_X_to_X_word_ids(X_train)\n",
    "X_test_word_ids  = convert_X_to_X_word_ids(X_test)\n"
   ]
  },
  {
   "cell_type": "code",
   "execution_count": 13,
   "metadata": {
    "collapsed": false
   },
   "outputs": [
    {
     "data": {
      "text/plain": [
       "87742     [61869, 117272, 96328, 91452, 103347, 53053, 6...\n",
       "178022    [20262, 102137, 130008, 14055, 80615, 73925, 6...\n",
       "214335    [57226, 4595, 118614, 126568, 117939, 127793, ...\n",
       "115399    [128249, 112180, 117939, 61869, 43304, 118986,...\n",
       "45982     [128249, 55082, 86553, 85218, 37384, 10077, 12...\n",
       "Name: Content, dtype: object"
      ]
     },
     "execution_count": 13,
     "metadata": {},
     "output_type": "execute_result"
    }
   ],
   "source": [
    "X_train_word_ids.head()"
   ]
  },
  {
   "cell_type": "code",
   "execution_count": 17,
   "metadata": {
    "collapsed": false
   },
   "outputs": [
    {
     "data": {
      "text/plain": [
       "87742     Ancient, Budget-Minded Hotel The Ramada Plaza ...\n",
       "178022    Beautiful rooms with american movie memorabili...\n",
       "214335    Great 1st Time Visit This was my first visit t...\n",
       "115399    We stayed this hotel due to a flight cancellat...\n",
       "45982     We gave our olders daughter a trip to New York...\n",
       "Name: Content, dtype: object"
      ]
     },
     "execution_count": 17,
     "metadata": {},
     "output_type": "execute_result"
    }
   ],
   "source": [
    "X_train.head()"
   ]
  },
  {
   "cell_type": "code",
   "execution_count": 10,
   "metadata": {
    "collapsed": true
   },
   "outputs": [],
   "source": [
    "X_train_padded_seqs = pad_sequences(X_train_word_ids, maxlen=20, value=0)\n",
    "X_test_padded_seqs  = pad_sequences(X_test_word_ids , maxlen=20, value=0)"
   ]
  },
  {
   "cell_type": "code",
   "execution_count": 11,
   "metadata": {
    "collapsed": false
   },
   "outputs": [
    {
     "name": "stdout",
     "output_type": "stream",
     "text": [
      "('X_train_padded_seqs.shape:', (249050, 20))\n",
      "('X_test_padded_seqs.shape:', (27673, 20))\n"
     ]
    }
   ],
   "source": [
    "print('X_train_padded_seqs.shape:', X_train_padded_seqs.shape)\n",
    "print('X_test_padded_seqs.shape:', X_test_padded_seqs.shape)"
   ]
  },
  {
   "cell_type": "code",
   "execution_count": 37,
   "metadata": {
    "collapsed": false
   },
   "outputs": [
    {
     "data": {
      "text/html": [
       "<div>\n",
       "<table border=\"1\" class=\"dataframe\">\n",
       "  <thead>\n",
       "    <tr style=\"text-align: right;\">\n",
       "      <th></th>\n",
       "      <th>0</th>\n",
       "      <th>1</th>\n",
       "      <th>2</th>\n",
       "      <th>3</th>\n",
       "      <th>4</th>\n",
       "      <th>5</th>\n",
       "      <th>6</th>\n",
       "      <th>7</th>\n",
       "      <th>8</th>\n",
       "      <th>9</th>\n",
       "      <th>10</th>\n",
       "      <th>11</th>\n",
       "      <th>12</th>\n",
       "      <th>13</th>\n",
       "      <th>14</th>\n",
       "      <th>15</th>\n",
       "      <th>16</th>\n",
       "      <th>17</th>\n",
       "      <th>18</th>\n",
       "      <th>19</th>\n",
       "    </tr>\n",
       "  </thead>\n",
       "  <tbody>\n",
       "    <tr>\n",
       "      <th>0</th>\n",
       "      <td>61869</td>\n",
       "      <td>117272</td>\n",
       "      <td>96328</td>\n",
       "      <td>91452</td>\n",
       "      <td>103347</td>\n",
       "      <td>53053</td>\n",
       "      <td>66643</td>\n",
       "      <td>83645</td>\n",
       "      <td>52456</td>\n",
       "      <td>13295</td>\n",
       "      <td>117939</td>\n",
       "      <td>66643</td>\n",
       "      <td>10077</td>\n",
       "      <td>126025</td>\n",
       "      <td>85205</td>\n",
       "      <td>61869</td>\n",
       "      <td>52456</td>\n",
       "      <td>120459</td>\n",
       "      <td>62984</td>\n",
       "      <td>58316</td>\n",
       "    </tr>\n",
       "    <tr>\n",
       "      <th>1</th>\n",
       "      <td>20262</td>\n",
       "      <td>102137</td>\n",
       "      <td>130008</td>\n",
       "      <td>14055</td>\n",
       "      <td>80615</td>\n",
       "      <td>73925</td>\n",
       "      <td>66825</td>\n",
       "      <td>0</td>\n",
       "      <td>0</td>\n",
       "      <td>0</td>\n",
       "      <td>0</td>\n",
       "      <td>0</td>\n",
       "      <td>0</td>\n",
       "      <td>0</td>\n",
       "      <td>0</td>\n",
       "      <td>0</td>\n",
       "      <td>0</td>\n",
       "      <td>0</td>\n",
       "      <td>0</td>\n",
       "      <td>0</td>\n",
       "    </tr>\n",
       "    <tr>\n",
       "      <th>2</th>\n",
       "      <td>57226</td>\n",
       "      <td>4595</td>\n",
       "      <td>118614</td>\n",
       "      <td>126568</td>\n",
       "      <td>117939</td>\n",
       "      <td>127793</td>\n",
       "      <td>81226</td>\n",
       "      <td>51245</td>\n",
       "      <td>126568</td>\n",
       "      <td>118986</td>\n",
       "      <td>82437</td>\n",
       "      <td>109690</td>\n",
       "      <td>53547</td>\n",
       "      <td>113974</td>\n",
       "      <td>118986</td>\n",
       "      <td>56335</td>\n",
       "      <td>43517</td>\n",
       "      <td>53326</td>\n",
       "      <td>95593</td>\n",
       "      <td>50598</td>\n",
       "    </tr>\n",
       "    <tr>\n",
       "      <th>3</th>\n",
       "      <td>128249</td>\n",
       "      <td>112180</td>\n",
       "      <td>117939</td>\n",
       "      <td>61869</td>\n",
       "      <td>43304</td>\n",
       "      <td>118986</td>\n",
       "      <td>10077</td>\n",
       "      <td>51742</td>\n",
       "      <td>117272</td>\n",
       "      <td>102048</td>\n",
       "      <td>66643</td>\n",
       "      <td>30439</td>\n",
       "      <td>14441</td>\n",
       "      <td>79581</td>\n",
       "      <td>117272</td>\n",
       "      <td>24973</td>\n",
       "      <td>105160</td>\n",
       "      <td>118986</td>\n",
       "      <td>20010</td>\n",
       "      <td>85205</td>\n",
       "    </tr>\n",
       "    <tr>\n",
       "      <th>4</th>\n",
       "      <td>128249</td>\n",
       "      <td>55082</td>\n",
       "      <td>86553</td>\n",
       "      <td>85218</td>\n",
       "      <td>37384</td>\n",
       "      <td>10077</td>\n",
       "      <td>120917</td>\n",
       "      <td>118986</td>\n",
       "      <td>82437</td>\n",
       "      <td>131691</td>\n",
       "      <td>52456</td>\n",
       "      <td>60174</td>\n",
       "      <td>56906</td>\n",
       "      <td>53718</td>\n",
       "      <td>60508</td>\n",
       "      <td>106351</td>\n",
       "      <td>59273</td>\n",
       "      <td>13783</td>\n",
       "      <td>127647</td>\n",
       "      <td>118986</td>\n",
       "    </tr>\n",
       "  </tbody>\n",
       "</table>\n",
       "</div>"
      ],
      "text/plain": [
       "       0       1       2       3       4       5       6       7       8   \\\n",
       "0   61869  117272   96328   91452  103347   53053   66643   83645   52456   \n",
       "1   20262  102137  130008   14055   80615   73925   66825       0       0   \n",
       "2   57226    4595  118614  126568  117939  127793   81226   51245  126568   \n",
       "3  128249  112180  117939   61869   43304  118986   10077   51742  117272   \n",
       "4  128249   55082   86553   85218   37384   10077  120917  118986   82437   \n",
       "\n",
       "       9       10      11     12      13      14      15      16      17  \\\n",
       "0   13295  117939   66643  10077  126025   85205   61869   52456  120459   \n",
       "1       0       0       0      0       0       0       0       0       0   \n",
       "2  118986   82437  109690  53547  113974  118986   56335   43517   53326   \n",
       "3  102048   66643   30439  14441   79581  117272   24973  105160  118986   \n",
       "4  131691   52456   60174  56906   53718   60508  106351   59273   13783   \n",
       "\n",
       "       18      19  \n",
       "0   62984   58316  \n",
       "1       0       0  \n",
       "2   95593   50598  \n",
       "3   20010   85205  \n",
       "4  127647  118986  "
      ]
     },
     "execution_count": 37,
     "metadata": {},
     "output_type": "execute_result"
    }
   ],
   "source": [
    "pd.DataFrame(X_train_padded_seqs).head()\n"
   ]
  },
  {
   "cell_type": "code",
   "execution_count": 38,
   "metadata": {
    "collapsed": false
   },
   "outputs": [
    {
     "data": {
      "text/html": [
       "<div>\n",
       "<table border=\"1\" class=\"dataframe\">\n",
       "  <thead>\n",
       "    <tr style=\"text-align: right;\">\n",
       "      <th></th>\n",
       "      <th>0</th>\n",
       "      <th>1</th>\n",
       "      <th>2</th>\n",
       "      <th>3</th>\n",
       "      <th>4</th>\n",
       "      <th>5</th>\n",
       "      <th>6</th>\n",
       "      <th>7</th>\n",
       "      <th>8</th>\n",
       "      <th>9</th>\n",
       "      <th>10</th>\n",
       "      <th>11</th>\n",
       "      <th>12</th>\n",
       "      <th>13</th>\n",
       "      <th>14</th>\n",
       "      <th>15</th>\n",
       "      <th>16</th>\n",
       "      <th>17</th>\n",
       "      <th>18</th>\n",
       "      <th>19</th>\n",
       "    </tr>\n",
       "  </thead>\n",
       "  <tbody>\n",
       "    <tr>\n",
       "      <th>0</th>\n",
       "      <td>128249</td>\n",
       "      <td>100667</td>\n",
       "      <td>71238</td>\n",
       "      <td>128437</td>\n",
       "      <td>53718</td>\n",
       "      <td>10077</td>\n",
       "      <td>128437</td>\n",
       "      <td>64111</td>\n",
       "      <td>71200</td>\n",
       "      <td>125589</td>\n",
       "      <td>17194</td>\n",
       "      <td>117272</td>\n",
       "      <td>62984</td>\n",
       "      <td>124795</td>\n",
       "      <td>118986</td>\n",
       "      <td>51021</td>\n",
       "      <td>117272</td>\n",
       "      <td>21366</td>\n",
       "      <td>117551</td>\n",
       "      <td>33830</td>\n",
       "    </tr>\n",
       "    <tr>\n",
       "      <th>1</th>\n",
       "      <td>128249</td>\n",
       "      <td>58316</td>\n",
       "      <td>10077</td>\n",
       "      <td>73946</td>\n",
       "      <td>112153</td>\n",
       "      <td>17194</td>\n",
       "      <td>117272</td>\n",
       "      <td>61869</td>\n",
       "      <td>42991</td>\n",
       "      <td>14441</td>\n",
       "      <td>50444</td>\n",
       "      <td>17194</td>\n",
       "      <td>61231</td>\n",
       "      <td>117272</td>\n",
       "      <td>78921</td>\n",
       "      <td>81226</td>\n",
       "      <td>62784</td>\n",
       "      <td>14441</td>\n",
       "      <td>121817</td>\n",
       "      <td>29228</td>\n",
       "    </tr>\n",
       "    <tr>\n",
       "      <th>2</th>\n",
       "      <td>117272</td>\n",
       "      <td>78969</td>\n",
       "      <td>61869</td>\n",
       "      <td>27247</td>\n",
       "      <td>127793</td>\n",
       "      <td>66825</td>\n",
       "      <td>58316</td>\n",
       "      <td>117272</td>\n",
       "      <td>80386</td>\n",
       "      <td>110312</td>\n",
       "      <td>102048</td>\n",
       "      <td>84858</td>\n",
       "      <td>13295</td>\n",
       "      <td>117272</td>\n",
       "      <td>61977</td>\n",
       "      <td>128249</td>\n",
       "      <td>112180</td>\n",
       "      <td>126025</td>\n",
       "      <td>31845</td>\n",
       "      <td>20395</td>\n",
       "    </tr>\n",
       "    <tr>\n",
       "      <th>3</th>\n",
       "      <td>16717</td>\n",
       "      <td>10077</td>\n",
       "      <td>53368</td>\n",
       "      <td>126597</td>\n",
       "      <td>118986</td>\n",
       "      <td>62984</td>\n",
       "      <td>130728</td>\n",
       "      <td>97605</td>\n",
       "      <td>117939</td>\n",
       "      <td>61869</td>\n",
       "      <td>118986</td>\n",
       "      <td>15168</td>\n",
       "      <td>105151</td>\n",
       "      <td>10077</td>\n",
       "      <td>30439</td>\n",
       "      <td>61869</td>\n",
       "      <td>64111</td>\n",
       "      <td>117272</td>\n",
       "      <td>61869</td>\n",
       "      <td>66643</td>\n",
       "    </tr>\n",
       "    <tr>\n",
       "      <th>4</th>\n",
       "      <td>128249</td>\n",
       "      <td>99289</td>\n",
       "      <td>10077</td>\n",
       "      <td>232</td>\n",
       "      <td>20480</td>\n",
       "      <td>33021</td>\n",
       "      <td>40589</td>\n",
       "      <td>53718</td>\n",
       "      <td>117272</td>\n",
       "      <td>117272</td>\n",
       "      <td>99283</td>\n",
       "      <td>94081</td>\n",
       "      <td>127793</td>\n",
       "      <td>104880</td>\n",
       "      <td>14441</td>\n",
       "      <td>117272</td>\n",
       "      <td>87454</td>\n",
       "      <td>127793</td>\n",
       "      <td>126025</td>\n",
       "      <td>117272</td>\n",
       "    </tr>\n",
       "  </tbody>\n",
       "</table>\n",
       "</div>"
      ],
      "text/plain": [
       "       0       1      2       3       4      5       6       7       8   \\\n",
       "0  128249  100667  71238  128437   53718  10077  128437   64111   71200   \n",
       "1  128249   58316  10077   73946  112153  17194  117272   61869   42991   \n",
       "2  117272   78969  61869   27247  127793  66825   58316  117272   80386   \n",
       "3   16717   10077  53368  126597  118986  62984  130728   97605  117939   \n",
       "4  128249   99289  10077     232   20480  33021   40589   53718  117272   \n",
       "\n",
       "       9       10      11      12      13      14      15      16      17  \\\n",
       "0  125589   17194  117272   62984  124795  118986   51021  117272   21366   \n",
       "1   14441   50444   17194   61231  117272   78921   81226   62784   14441   \n",
       "2  110312  102048   84858   13295  117272   61977  128249  112180  126025   \n",
       "3   61869  118986   15168  105151   10077   30439   61869   64111  117272   \n",
       "4  117272   99283   94081  127793  104880   14441  117272   87454  127793   \n",
       "\n",
       "       18      19  \n",
       "0  117551   33830  \n",
       "1  121817   29228  \n",
       "2   31845   20395  \n",
       "3   61869   66643  \n",
       "4  126025  117272  "
      ]
     },
     "execution_count": 38,
     "metadata": {},
     "output_type": "execute_result"
    }
   ],
   "source": [
    "pd.DataFrame(X_test_padded_seqs).head()\n"
   ]
  },
  {
   "cell_type": "code",
   "execution_count": 12,
   "metadata": {
    "collapsed": false
   },
   "outputs": [
    {
     "data": {
      "text/plain": [
       "[2, 0, 1]"
      ]
     },
     "execution_count": 12,
     "metadata": {},
     "output_type": "execute_result"
    }
   ],
   "source": [
    "unique_y_labels = list(y_train.value_counts().index)\n",
    "unique_y_labels\n",
    "unique_y_labels_test = list(y_test.value_counts().index)\n",
    "unique_y_labels_test"
   ]
  },
  {
   "cell_type": "code",
   "execution_count": 13,
   "metadata": {
    "collapsed": false
   },
   "outputs": [
    {
     "data": {
      "text/plain": [
       "LabelEncoder()"
      ]
     },
     "execution_count": 13,
     "metadata": {},
     "output_type": "execute_result"
    }
   ],
   "source": [
    "from sklearn import preprocessing\n",
    "le = preprocessing.LabelEncoder()\n",
    "le.fit(unique_y_labels)"
   ]
  },
  {
   "cell_type": "code",
   "execution_count": 14,
   "metadata": {
    "collapsed": true
   },
   "outputs": [],
   "source": [
    "y_train = to_categorical(y_train.map(lambda x: le.transform([x])[0]), nb_classes=len(unique_y_labels))\n",
    "y_test  = to_categorical(y_test.map(lambda x:  le.transform([x])[0]), nb_classes=len(unique_y_labels))"
   ]
  },
  {
   "cell_type": "code",
   "execution_count": 15,
   "metadata": {
    "collapsed": false
   },
   "outputs": [
    {
     "data": {
      "text/plain": [
       "array([[ 1.,  0.,  0.],\n",
       "       [ 0.,  0.,  1.],\n",
       "       [ 0.,  0.,  1.],\n",
       "       ..., \n",
       "       [ 0.,  0.,  1.],\n",
       "       [ 0.,  0.,  1.],\n",
       "       [ 0.,  0.,  1.]])"
      ]
     },
     "execution_count": 15,
     "metadata": {},
     "output_type": "execute_result"
    }
   ],
   "source": [
    "y_train"
   ]
  },
  {
   "cell_type": "code",
   "execution_count": 16,
   "metadata": {
    "collapsed": false
   },
   "outputs": [
    {
     "name": "stdout",
     "output_type": "stream",
     "text": [
      "('y_train.shape:', (249050, 3))\n",
      "('y_test.shape:', (27673, 3))\n"
     ]
    }
   ],
   "source": [
    "print('y_train.shape:', y_train.shape)\n",
    "print('y_test.shape:', y_test.shape)"
   ]
  },
  {
   "cell_type": "code",
   "execution_count": 17,
   "metadata": {
    "collapsed": true
   },
   "outputs": [],
   "source": [
    "size_of_each_vector = X_train_padded_seqs.shape[1]\n",
    "vocab_size = len(vocab)\n",
    "no_of_unique_y_labels = len(unique_y_labels)"
   ]
  },
  {
   "cell_type": "code",
   "execution_count": 18,
   "metadata": {
    "collapsed": false
   },
   "outputs": [
    {
     "name": "stdout",
     "output_type": "stream",
     "text": [
      "('size_of_each_vector:', 20)\n",
      "('vocab_size:', 132362)\n",
      "('no_of_unique_y_labels:', 3)\n"
     ]
    }
   ],
   "source": [
    "print('size_of_each_vector:', size_of_each_vector)\n",
    "print('vocab_size:', vocab_size)\n",
    "print('no_of_unique_y_labels:', no_of_unique_y_labels)"
   ]
  },
  {
   "cell_type": "code",
   "execution_count": 19,
   "metadata": {
    "collapsed": true
   },
   "outputs": [],
   "source": [
    "net = tflearn.input_data([None, size_of_each_vector]) # The first element is the \"batch size\" which we set to \"None\"\n",
    "net = tflearn.embedding(net, input_dim=vocab_size, output_dim=128) # input_dim: vocabulary size\n",
    "net = tflearn.lstm(net, 128, dropout=0.6) # Set the dropout to 0.6\n",
    "net = tflearn.fully_connected(net, no_of_unique_y_labels, activation='softmax') # relu or softmax\n",
    "net = tflearn.regression(net, \n",
    "                         optimizer='adam',  # adam or ada or adagrad # sgd\n",
    "                         learning_rate=1e-4,\n",
    "                         loss='categorical_crossentropy')"
   ]
  },
  {
   "cell_type": "code",
   "execution_count": 20,
   "metadata": {
    "collapsed": true
   },
   "outputs": [],
   "source": [
    "model = tflearn.DNN(net, tensorboard_verbose=0)"
   ]
  },
  {
   "cell_type": "code",
   "execution_count": 21,
   "metadata": {
    "collapsed": false
   },
   "outputs": [
    {
     "name": "stdout",
     "output_type": "stream",
     "text": [
      "Training Step: 7472  | total loss: \u001b[1m\u001b[32m0.68779\u001b[0m\u001b[0m | time: 787.549s\n",
      "| Adam | epoch: 003 | loss: 0.68779 - acc: 0.7353 -- iter: 249000/249050\n",
      "Training Step: 7473  | total loss: \u001b[1m\u001b[32m0.68677\u001b[0m\u001b[0m | time: 794.905s\n",
      "| Adam | epoch: 003 | loss: 0.68677 - acc: 0.7338 | val_loss: 0.66764 - val_acc: 0.7367 -- iter: 249050/249050\n",
      "--\n"
     ]
    }
   ],
   "source": [
    "model.fit(X_train_padded_seqs, y_train, \n",
    "          validation_set=(X_test_padded_seqs, y_test), \n",
    "          n_epoch=n_epoch,\n",
    "          show_metric=True, \n",
    "          batch_size=100)"
   ]
  },
  {
   "cell_type": "code",
   "execution_count": 22,
   "metadata": {
    "collapsed": true
   },
   "outputs": [],
   "source": [
    "import numpy as np\n",
    "from sklearn import metrics"
   ]
  },
  {
   "cell_type": "code",
   "execution_count": 23,
   "metadata": {
    "collapsed": false
   },
   "outputs": [
    {
     "name": "stdout",
     "output_type": "stream",
     "text": [
      "\n",
      "RNN Classifier's Accuracy: 0.73671\n",
      "\n"
     ]
    }
   ],
   "source": [
    "pred_classes = [np.argmax(i) for i in model.predict(X_test_padded_seqs)]\n",
    "true_classes = [np.argmax(i) for i in y_test]\n",
    "print('\\nRNN Classifier\\'s Accuracy: %0.5f\\n' % metrics.accuracy_score(true_classes, pred_classes))\n",
    "\n"
   ]
  },
  {
   "cell_type": "code",
   "execution_count": 24,
   "metadata": {
    "collapsed": false
   },
   "outputs": [
    {
     "name": "stdout",
     "output_type": "stream",
     "text": [
      "('Confusion Matrix:', array([[ 2079,     0,  2462],\n",
      "       [  840,     0,  3203],\n",
      "       [  781,     0, 18308]]))\n",
      "Classification Report\n",
      "             precision    recall  f1-score   support\n",
      "\n",
      "          0       0.56      0.46      0.50      4541\n",
      "          1       0.00      0.00      0.00      4043\n",
      "          2       0.76      0.96      0.85     19089\n",
      "\n",
      "avg / total       0.62      0.74      0.67     27673\n",
      "\n"
     ]
    },
    {
     "name": "stderr",
     "output_type": "stream",
     "text": [
      "/Users/savinaynarendra/anaconda2/envs/cs670/lib/python2.7/site-packages/sklearn/metrics/classification.py:1113: UndefinedMetricWarning: Precision and F-score are ill-defined and being set to 0.0 in labels with no predicted samples.\n",
      "  'precision', 'predicted', average, warn_for)\n"
     ]
    }
   ],
   "source": [
    "print ('Confusion Matrix:', metrics.confusion_matrix(le.inverse_transform(true_classes), le.inverse_transform(pred_classes)))\n",
    "print ('Classification Report')\n",
    "print metrics.classification_report(le.inverse_transform(true_classes), le.inverse_transform(pred_classes))"
   ]
  },
  {
   "cell_type": "code",
   "execution_count": 25,
   "metadata": {
    "collapsed": false
   },
   "outputs": [
    {
     "name": "stdout",
     "output_type": "stream",
     "text": [
      "We returned last week from a week in Las Vegas at the Orleans. I used travelaxe to find the best rate, then contacted the hotel directly, and they gladly matched the rate. They even took off the commission that the booking company would have received that is built into their price. Result: room was $5 per night cheaper than the lowest competitor's price. The Orleans was the best hotel in 7 trips that I have stayed in. Everyone from check in to check out was friendly and helpful. The room was a standard non-smoking room on the 10th floor. It also looked as though it had just been remodeled. EVERYTHING looked new. Very, very nice. It seemed roomier than when I stayed at the Golden Nugget. It is also the first trip that I've taken and come back with more money than I left with. Some was from blackjack, the rest from nickle video poker. Second day there, I hit a progressive royal flush for $432.10 (not bad for nickles) and must have had at least 30 sets of quads--all on the same machine all week. Food that we had was very good. We only ate at four of the 14 restaurants. My travel companion (younger brother) isn't much for diversity. We mixed up the menu items each meal, but ate at the pretty much the same restaurants. They also offer a free shuttle to the strip, which we took advantage of. The return trip however, found us with about 60 others waiting to ride a much smaller capacity shuttle back from their sister property, The Barbary Coast. We snatched onto another couple and split the cab fare back to The Orleans ($9.80 plus tip). We were back while I'm guessing the others will still waiting for a shuttle they may not all fit onto. Again, best trip ever. Food wise, gambling wise, room wise, hotel in general. You just can't miss with The Orleans. Make sure to get a rental car. Ya can't walk anywhere from here, but you may not want to with 14 restaurants, 18 screen movie theatre, and 70 lane bowling alley. The pool area is nice too. Well landscaped with lots of palm trees.\n",
      "('pred_class:', 2)\n",
      "('true_class:', 2)\n",
      "\n",
      "We had a lovely stay at the Hotel Drisco and felt at home the minute my husband and two children (14 and 12 years old) walked in the front door . We were offered hot towels to refresh ourselves after our long drive. The front desk staff was very nice, especially Marti, who gave us many ideas. Our suite was sun drenched and spotless and very nicely decorated. We were all thrilled. We couldn't have asked for a better breakfast! I loved the location in the very beautiful neighborhood and there were wonderful places to eat within walking distance. We are looking forward to returning to Hotel Drisco!\n",
      "('pred_class:', 2)\n",
      "('true_class:', 2)\n",
      "\n",
      "The Mirage Hotel & Casino was fabulous. It had the most spacious room of all the hotels we stayed in. Very comfy bed and facilities. Only pain was the fridge which was full of mini bar items (no room for your own water or anything). It was clean and the staff were always there to help. It had a few stores on site. My favourite for fashion items and gifts was Paradiso. The Kevin Vo Salon and Spa was awesome. I had my hair done there as well as a spa pedicure and my nails done (refills). They do a wonderful job and well worth paying that little bit extra. The Casino itself was lots of fun and the Cocktail Waitresses were awesome. Drinks are free to Casino Patrons, you generally tip the waitress when she brings them around to you (say $1 each drink). Loved that :o) They had the Beatles 'Love' Cirque Du Soleil show on at The Mirage and a dedicated Lounge Bar called Revolution which was cool. For dining BB Kings always had a good feed as well as Carnegies. My favourite spot was the Secret Garden where they had Dolphins and Big Cats. Overall a great stay however the airconditioning when you walk down the hallway to the rooms was near on freezing down our end which seemed to go for miles. Once in the room though you could control the climate. All in all we would definitely stay again.\n",
      "('pred_class:', 2)\n",
      "('true_class:', 2)\n",
      "\n",
      "As a frequent visitor to NYC, I would recommend this hotel to anyone seeking a safe, clean hotel in midtown. The hotel is quite large (52 floors), so checking in-out/ retrieving your car can take some time, especially on weekends. Parking is on the pricing side - $45 per night. Most hotels, eg. Sofitel, charge around $30 per 24 hrs. Tip: one can request a room on a higher floor with views of Times Square.\n",
      "('pred_class:', 2)\n",
      "('true_class:', 2)\n",
      "\n",
      "We rented a 1 bedroom condo directly from the owner. The rental process was seamless and the owner was very accommodating. The price of the condo was a fraction of what you would pay for an equivalent unit at a big name hotel on Kaanapali. It was a 1 bedroom OCEANFRONT with a full kitchen, washer/dryer, and living room. I couldn't find a standard room with a view of the parking lot at the main resorts for the same price. The unit had two 42\" plasma tvs. We barely watched the tvs but it's a good gauge of the quality that was put into this condo. The furniture and decor was elegant and beautiful. The unit was as clean as could be. As I'm sure everyone knows, the view is ridiculous good. All the units are oceanfront and you can just stare out at the ocean for hours if you wanted. The side of the condo that faces the ocean is all glass windows and a balcony. The balcony was a good size and we spent many nights out there with drinks watching the sunset between Molokai and Lanai. We saved a staggering amount of money because of the condo. We went grocery shopping the first night at Star Market just down the road and picked up stuff to make breakfast and alcoholic beverages. Yes groceries are expensive, but not nearly as expensive as it would be to go out for every meal. Somehow they have found a way to charge $80 for breakfast for two in Maui at the hotels. We cooked breakfast at the condo every morning before we went out. We did carryout for most lunches when we were near the condo. Again, a huge savings over sitting at a restaurant with a beautiful view of the ocean. You are paying for the view and location but if you're staying at the Mahana you already have that view....plus you have privacy plus the booze is a fraction of the cost because you got it from the grocery store. There are a lot of places to pick up fresh fish or whatever you want right on the main drag that the Mahana is on. We loved The Fish Market Maui, went there twice on our 4.5 day trip. Get the ono burrito. The only downsides were very small issues for us. We had to drive and pay for parking when we wanted to go to Black Rock for snorkeling plus we just really liked the beach right in that area. But then again we didn't have to pay for parking at the Mahana or internet as we would have done at a hotel so we still felt like we were still ahead. The beach in front of the hotel is not good for swimming but you can go a little further down each way for better beaches. Once again we just drove to Black Rock because the main part of Kaanapali beach really is awesome. The pool is small but then again I really feel like the ocean water is too awesome to be sitting in a pool. I understand kids like pools so maybe it's worth paying a lot more money if you have kids to stay the Hyatt or Sheraton. I used to be a pool person but when the water is as clear and warm as in Maui and the beaches so soft and inviting you're wasting your time in the pool. Our flight out was not until 8:40 pm and the owner allowed us a 6 pm checkout. How many hotels will allow that? Not many unless you pay for another day. It essentially gave us an extra day in Maui since we were able to have a base of operations the whole last day and clean up before we headed to the airport. Hey if money is no object by all means go with a 1 bedroom oceanfront suite at one of the swanky resorts but for the rest of us the Mahana is a great way to enjoy Maui and save enough money to go back again next year.\n",
      "('pred_class:', 2)\n",
      "('true_class:', 2)\n",
      "\n",
      "Every where I went in this hotel I was greeted by a wide smile and a friendly hello. My room was comfortable, though the bathrooms are on the smallish size - I'm guessing because it's an older property. My balcony was huge, though, and looked out onto the lovely courtyard, pool and hot tub. The fitness center was clean and well appointed.\n",
      "('pred_class:', 2)\n",
      "('true_class:', 2)\n",
      "\n",
      "We stayed at the Tropicana \"club tower\" for 4 nights in late Oct. I was not impressed with the room, which I thought was newly renovated. They simply put in new furniture. The bathroom tile was old, chipped, cracked and dirty. The silicone around the tub was coming off and going black, It was obviously leaking,not sure how it wasn't running into the room below. I went to the front desk\" 2 mile walk\" to ask for a new room, girl was not happy about this like she took personaly or something. She gave us a new room one floor below and it was worse. This hotel is just plain unintresting, we kept leaving to go to anywhere else. There's a big list of hotels that are so much cooler. Good bed, but that was it, had better rooms at the Days Inn and it wasn't even all that cheap.\n",
      "('pred_class:', 2)\n",
      "('true_class:', 0)\n",
      "\n",
      "Really the best there is We visited this hotel in December 2003 for my husband's 40th birthday and had such an amazing time we decided to return for the week before Christmas 2004. Only I was a bit worried that it wouldn't be as good as I remembered it. I couldn't have been more wrong, this was even better the second time around.I agree with another reviewer, why is this not in the top 5 hotels. The staff (all the same as the year before) were fantastic, they all remembered us and made us feel like we'd come home. The hotel itself is fantastic, great location, great rooms, fabulous bar, and Foley's food is not only great, but you cannot beat the view. Obviously the hotel would stand up on it's own, but what makes this hotel outstanding are the staff, I don't want to name any of them in particular as they are all as good as each other, from front door to concierge to waiters to maid service to managers. We both want to go back again next year, but sadly finances won't allow (that is unless we win the lottery!!), one thing is for sure though I will miss this place until we can return again, and when we do return I know that we will be welcomed again with open arms. We've travelled a lot and this is one of the best and friendliest places we've stayed in all over the world, our home in New York. Thanks guys!\n",
      "('pred_class:', 2)\n",
      "('true_class:', 2)\n",
      "\n",
      "We stayed at the Outrigger Eldorado over Christmas week. This was our first time in a condo and we really enjoyed it. We have stayed in hotels and all inclusives and we really prefer the condo. There is a kitchen so you can cook or just have drinks and eat out. There is a washer dryer so you don't have to haul all your dirty stuff home. We had a view of the ocean which was nice. The pools were well maintained and never crowded. The BBQs were available to use which was great - we BBQd Christmas dinner. This would be an excellent place to have different parts of the family meet up and vacation together.\n",
      "('pred_class:', 2)\n",
      "('true_class:', 2)\n",
      "\n",
      "We stayed here for two week in October, the villa was brilliant, and close to all the theme parks. The staff are very helpful and friendly, and the complex is great for security. One night we stayed in the pool longer than my sister, and because we didnt have a key she left the door slightly open. When we got back there was someone from security there checking everything was alright within the space of 10 minutes. Also i was ill in the first few days, and we rang the reception up about 10:00pm at night and asked them to get a doctor for me, within minutes they rang back telling us when he will be there and within half and hour he came. The only bad point was ants in the kitchen but this is to be exspected in that heat we was staying in, in America. But even that the next morning someone was round trying to sort it out. I would recommend this place to everyone, it's great for all ages!\n",
      "('pred_class:', 2)\n",
      "('true_class:', 2)\n",
      "\n",
      "My wife and I stayed at the Metropolitan on December 19 -21 and we had a wonderful time. Our room was very nice, it had a nice plasma tv, a very big comfortable bed and a new bathroom. The staff was very friendly... The hotel is at an amazing location! It's in walking distance to TimeSquare, Central Park, Rockefeller Center, Broadway theatres and much more... The staff was very friendly and answered any questions that we had. The concierge was really good! When it was raining and we needed a taxi to get to Broadway they went out of their way to get a cab for us, even almost getting hit...lol Everytime I go to NYC I probably will stay at the DoubleTree/Metropolitan...I just hope I get it at the same price I got it for in December ;)\n",
      "('pred_class:', 2)\n",
      "('true_class:', 2)\n",
      "\n",
      "hotel m茅diocre   showReview(18890319, 'full');\n",
      "('pred_class:', 2)\n",
      "('true_class:', 0)\n",
      "\n",
      "The Roosevelt is amazing! My husband and I enjoyed our stay very much at this luxurious hotel. The service and friendliness were phenomenal, as well as the amenities. It's almost a self-contained vacation spot...we didn't want to leave to go do what we had planned to do in the Quarter. I can't wait to go back!\n",
      "('pred_class:', 2)\n",
      "('true_class:', 2)\n",
      "\n",
      "When we go to Vegas, my husband and I look for two things: a friendly, clean casino and a quiet room in which to get a good night's rest. Treasure Island fit both bills perfectly. Casino staff was warm, service was friendly and frequent and we had as good a time losing quarters for 3 days, as two people can! But this is about the room. We got a great deal on the lowest-tier room and were blown away by the silence, the comfort and the easy zen decor. Having stayed in places like Monte Carlo, where you could hear the poor guy next door throwing up at 7 am (argh), the silence at TI was a godsend. Yes some people still find it hard to close a door quietly, or keep their voices down in the halls, but that's par for any hotel. If you want a clean, stylish & quiet room, TI is a great deal. We'll return, for sure...if only to visit our money in the casino!\n",
      "('pred_class:', 2)\n",
      "('true_class:', 2)\n",
      "\n",
      "We finished out our 9 day vacation of the San Francisco Bay Area with a two day stay in Napa. The high ratings drove us to stay here even though it was the most expensive place we stayed in all of our trip (Downtown San Francisco & Monterey Included). The building has a very cozy feel to it and the staff was very friendly. If you can afford it, request room 207. It seemed to be the biggest in the whole place. One of the largest rooms I've ever stayed in. Pictures attached for proof. There was a jacuzzi tub in the bathroom as well which was nice and I loved the extra room for showering as well. The room was very clean overall and the bed was very comfy. They even supply you with a couple nice white robes in the closet. There is no swimming pool but there was a hot tub out back. It's very warm and relaxing. Grab the robes after a long day of sightseeing and head out there at night. The included breakfast is pretty much the nicest continental type breakfast I've had and, since the place only has 20 rooms or so, there aren't any mad lines or rushing. The lobby is also filled with tons of info for sightseeing and also a little box with coupons for free winetesting. Look for it! Free fresh baked chocolate chip cookies and milk on ice are served in the lobby at 6PM every night as well. They are to die for! I highly recommend this Inn to anyone staying in the Napa area.\n",
      "('pred_class:', 2)\n",
      "('true_class:', 2)\n",
      "\n",
      "We arrived late to check-in and we loved the rooms. Two tween girls got the pullout and the rest of us the big king bed. I sat on the balcony and had some wine and chocolate after a long drive from San Francisco. The morning we were hungry and ready to hit the beach for the few hours we were there, too bad the room service waitress forgot our order. We got a call to see how breakfast was before we even had received it. She forgot to ask how we wanted the eggs on the hash and so she called and got that info. We wanted longer with still a no show, finally the manger got involved and within about 10 minutes we got our food. He comped it of course since it took over an hour and half for eggs!!! The girls (all of us really) were hungry and wanted to get to the beach! The manger told us to help ourselves to the mini bar food and we did to stop our stomachs from growling as we waited and he comped all that too. We needed something from our Van but they had forgot to tag it when we came in and could not find it so 30 minutes later I went down and got the stuff out myself. We only had one day at Venice Beach and we spent two hours waiting around for them to get things right. The other thing I heard after on was that the room next to ours was very loud so the tweens did not sleep much. Once the manger heard of our day, he comped our whole stay and gave us an extra hour after late check-out so we could get to the beach. Everyone, but the room service person was polite and kind during all of this. So once again when the Manager heard what was happening he stepped up and fixed it. Thank you for being accountable for your staff. I will give them a second try, the location and rooms were worth it.\n",
      "('pred_class:', 2)\n",
      "('true_class:', 2)\n",
      "\n",
      "Received a great email package offer and decided to take our chances at the MGM Grand instead of the luxurious Signature suites located next door and also owned by MGM. Convenient airport check-in eliminated the need to stand in line in the hotel lobby. We were credited with the wrong package, but most $$ worked out even. BEWARE: Do not purchase the shuttle service. At $15/person round-trip, we were promised a speedy exit from the airport to the hotel. The posted fare in the shuttle bus is $12/person, round-trip. So $6 lost before my husband and I even started to gamble! The shuttle waited 25 minutes before leaving. The driver expected a tip? No way. Take a taxi!! It's faster and cheaper. We booked our Hollywood Suite in September and , as always, requested a high floor. We were given a 5th floor, end of the hallway, room, as all others were occupied. On a Tuesday? Closer inspection of this \"upgraded\" room revealed a horrible view: right next to the tram station, right above the construction dumpster and delivery ramps, a wonderful view of the parking garage, and a level above all the spotlights! I called the front desk to complain before unpacking. Only other available suites were on the 2nd - 3rd floors. With great trepidation, we decided to stay put for one night and were promised a different, better room, for the next two nights. What a horrible decision! More on that later. Although the carpet was relatively new, the quality of workmanship was greatly lacking: huge gaps in the seams, pulled threads, and already several spills not cleaned properly. The closet door almost fell off when I went to hang clothing. My husband stood in 2 inches of water in the shower, and all the extremely slow drains \"gurgled\" when water flowed into only one. The couch and chairs were also recently replaced, but most of the old wood furniture was chipped and some badly damaged. In our 2nd room, the door to the refrigerator wouldn't close. Old, 27 inch TV's with spotty cable reception need to be upgraded. Of course, it only costs $14/day for internet access! What a night! Constant tram noise, complete with the automated warning voice. The green spotlights pointed right at our windows, and attempts to block the light were useless. We were awakened at 5am to the sound of delivery truck ramps hitting the pavement. Thought the building was being hit by a wrecking ball! A total of 4 hours sleep that night. After a decent breakfast at the Studio Cafe, we complained to the manager. She did give us a room on the 10th floor with a different \"view.\" Also apologized and took the breakfast off our bill, and arranged for a late check-out on Friday. Too bad, our new room wasn't ready until 2pm. The maid wasn't happy about waiting to clean the old suite. This room had a view of the Port-Cochere--where all the taxis, buses, etc. come to drop-off and pick-up guests. Also a great view of the busy street and Hooters! Traffic noise is constant, and because of the close proximity to the airport, we were happy to hear all the planes taking off . At least most waited until after 5am! About half of the employees here are delightful. Others are sullen and angry. At least they have jobs. Had a wonderful meal at NobHill Tavern--the tasting menu is well worth the price. MGM Grand's glory days are over---and so are our days of staying here.\n",
      "('pred_class:', 2)\n",
      "('true_class:', 0)\n",
      "\n",
      "We stayed here as my husband was attending a convention. The room was lovely and a nice big bathroom too. However, I was disappoionted that it was extra to use the pool and exercise room. It was extra to use the business center. Also 800 numbers cost $1.50 too.\n",
      "('pred_class:', 2)\n",
      "('true_class:', 0)\n",
      "\n",
      "stayed at the fairmont atop nob hill or as locals call it \"snob\" hill over the july 4th weekend. it was a great stay. we stayed in one of their original suites in the main building it had a separate living room and a balcony that stretched the entire length of suite. the balcony looked out upon their rooftop garden. very classic room with great character, didnt have the best view of the city though. for better views of the city i would recommend getting a room in the towers and ask to face north. the front dest service was exceptional they were very willing to accomodate to try to get us the best view possible. we decided on the suite for its charm and huge balcony. just poked our head into the tonga room and looks like could be fun, tiki and polynesian feel bar. the workout facilities are pretty good. the hotel has a great central location to all the touristy stuff. walkable to chinatown. we also walked to fishermans wharf but wouldnt reccomend walking back since its all uphill. the cable car lines are very accessible, all the lines have a stop right by the hotel. definitly recommend getting a citypass for however long your staying as the $5 cable car rides add up. i think they're only $18 for 3 days unlimited rides. we didnt get the citypass thinking we werent going to use the cable car lines but were we wrong we used them everyday to get to all the major tourist spots. there's also great bike rentals around the city. didnt try any of the restaurants at the hotel but did get breakfast room service daily and it was very delicious! the maid staff was great cleaned the room twice a day. overall thought this hotel was great with its location and service. do keep in mind that the hotel is very old it has lots of history and is one of the key landmarks in san francisco. so if your looking for all new modern sleek hotel then this probably isnt right for you. now that doesnt mean its shabby by any means. its very grand and old school feeling with great marble columns and the rooms all have flat screen tvs. just remember its got lots of history behind it!\n",
      "('pred_class:', 2)\n",
      "('true_class:', 2)\n",
      "\n",
      "Stayed 3 nights around the 4th of July. Our stay was very pleasant. Rooms in new section were clean and nice with beautiful view of the bay. There is a town park adjacent to hotel with a large grass field that we enjoyed. I can understand how some guests would complain about noise at night but with a/c on we were fine. We had a picnic at this park and enjoyed a beautiful sunset and watching the boats come home at dusk. Would return again.\n",
      "('pred_class:', 2)\n",
      "('true_class:', 2)\n",
      "\n",
      "My wife and I just returned from our honeymoon in Maui! The people at the Royal Lahaina were incredibly hospitable and friendly. We were upgraded upon check-in to a deluxe ocean-view room on the 11th floor (of 12). The first night there we ate at the restaurant in the hotel, and the food was excellent, and very reasonably priced especially for Maui! I think the total including appetizer, a drink each, dinner, dessert, and tax and tip was around $70. Not bad given the beautiful beachfront atmosphere, and the romantic live music and dancer. The breakfast buffet (included in some packages) was quite sufficient, and the restaurant service was great! Did I mention you have the terrific option of adding 2 Mai Thais ($18 value) to your parking package everyday for only $6?! VERY worth it! =) We noticed the Royal Lahaina seemed to have far fewer children than other hotels, providing an even more romantic environment. The pool isn't as nice as some of the other hotels, and we never actually climbed in, but another couple told us it was a very comfortable temperature. The ocean water for us was as good as it gets. The snorkeling is awesome from this hotel ---10 minutes walk in either direction gave us better snorkeling rewards than our excursion snorkeling trip to Molokini and Lanai. We only had a couple complaints which were eventually taken care of by the hotel staff. --- We had booked a package that included a sunset-dinner cruise. Two days into our trip, we went to guest relations to pick the evening we would take the cruise, and we were told that the more desirable boat with the better dinner/drink option was completely booked. After complaining for a few minutes, the lady at guest relations called a manager (Corey) over. Corey listened attentively to my complaint, and he explained that when we booked the package it never specified which boat we would be on or what the menu would be (which is all true) but he promised to call the company we wanted to cruise with, and see if they could do anything. Eventually he told us if the cruise was completely booked, there was nothing he could do about that. Our options were that we could cruise on a different boat with a less desirable menu, or he could credit us some money back. Neither option sounded good to me, so I told him I would think about it. The next day he called and told us we could do a Cocktail cruise on the original boat of choice, and he would credit us with dinner. We agreed to this option, and were satisfied that he continued to show concern. A few hours later, Corey called me again, and said someone had canceled their sunset dinner cruise on the boat we had originally wanted, and if we wanted it, the open spots were ours, (which we happily accepted)! When we went to the desk to pick up our confirmation number for the sunset cruise, Corey handed us 2 of the most gorgeous leis (that we KEPT getting complimented on) that were hand made by the lady we had originally complained to in guest relations!!! What a great show of concern for their guests! =) The only other complaint, which really isn't their fault, was that the air conditioning went out, and could not be fixed for about 3 days because the part had to be ordered from the main land. This really only affected us at night because we were gone for most of the day anyway. And if you have enough drinks... you never notice the temperature anyway! =) What an amazing place! We are already planning our return trip for our first anniversary!!!\n",
      "('pred_class:', 2)\n",
      "('true_class:', 2)\n",
      "\n",
      "My husband and I went on our Honeymoon in July of 05. We stayed at this hotel for 4 days. The day we booked this trip with Apple vacation this hotels is alert that we are honeymooners. The day we checked in we were told that they are out of king sizes bed. So we room with 2 beds. The reception that checked us in was Not friendly at all. Maybe she had a bad day but that's no excuse. On our 2nd day we requested a king size bed and they were able to move us. They told us not to worry about the luggage and will have bellman move our luggage to new room. 10 hrs later after comming back from our long day we did not see our luggage in our new room when we were told that the lugguage will arrive before we come back. We had to called reception to track down our luggage. I find this very annoying. Our room was clean, The door to the patio was really hard to open. It made alot of noise when we tried to open it. The fridge does not work in the room. We called and asked reception and was informed that none of the fridge works in the room. I don't understand why they still have it in the room. Besides having problems with the room. we enjoyed the fact that our room is so close to the beach. The breakfast was average. It's buffet style with eggs,cereals,juice and fruits like most hotels. We did not have a chance to eat at the restaurant so sorry can't give feedback on that. The pool was very clean and nice. It wasn't to crowded. We were able to find chairs and lay out for couple of hours. Anyone looking for an average hotel to stay at I do recommend this hotel but if you are looking for luxury I suggest you shop elsewhere. Hope my experience help you decide.\n",
      "('pred_class:', 2)\n",
      "('true_class:', 0)\n",
      "\n",
      "Was very impressed with the room on the 14th floor of the Club Tower. Everything about the room top to bottom, including electrical outlets, furniture, baseboards, wall coverings, everything about the bathroom is completely new. Garden tub/shower was nice. Club Tower is directly over top of the convention center and very convenient for meetings. Casino is not huge, but was bright and not smokey. Only downside of the Club Tower location is that it is a bit of a walk from the registration desk (which is also new and attractive). Closest major casino hotel to the airport, and quick walk to MGM, New York New York, etc.\n",
      "('pred_class:', 2)\n",
      "('true_class:', 2)\n",
      "\n",
      "I visited the Mandalay Bay Hotel from June 12 to June 16, 2006, to attend the eBay Live 2006 Convention. eBay Live was superb! The Mandalay Bay Hotel was not. I will begin this review with my qualifications to provide a realistic review of a high quality Hotel. I was Vice President of Inter-Continental Hotels, until my retirement in 1998. I was responsible for the design and construction of the Hotels in my region. Prior to that assignment, I managed the design and construction of Hotels for Inter-Continental and Sheraton. Summary 6 Star prices 3 Star facilities 2 Star services - some good, many poor Valet, Bells & Reception Valet and Bells provided fast, efficient, polite and personable services. They seemed well organized and trained. Front Desk Reception service was brusque, disorganized, tedious and erratic. No direction was provided being provided by Hotel Staff to assist guests and expedite the check-in process. You had to pick your line and then wait, wait and more waiting. After waiting in a line and arriving at the check in position, the clerk closed the position and directed me to another line. The Front Desk clerks carefully avoided eye contact with the guests. Finally, I arrived at the Front Desk after waiting in the second line. The clerk, this time, was willing to accept my reservation and check me into the Hotel. She was not quite rude, but her manner was not very welcoming either. Even though I was, supposedly, a VIP guest, ( they upgraded me to to a Suite for no additional charge), they had increased my first night room rate by $100 over the agreed charge (the rate was increased to $304 for one night). The Front Office Manager removed the $100 excess charge when I called down to complain and apologized for the error Elevators & Corridors Elevator decor was worn. I noted cracked marble flooring in at least one elevator. Corridors were worn and a bit shabby. The carpets were stained and unattractive. There is a fire exit at the end of each of the excessively long corridors on the guest floors. I was able to find emergency exit stairs only at the ends of each corridor. I was unable to find central exit stairs at the central elevator lobby. I assume that they counted the elevators as the required, second emergency exit for the corridors. I did not measure the corridors, but the travel distance to the emergency exits seemed excessive. The Inter-Continental design standards did not allow the use of elevators for exit in a fire emergency. Guest Room My suite consisted of a large guest room with a equally large bathroom. Room amenities were sadly lacking. There was no coffee maker. Bottled water was provided at $4.95 per bottle. Two small water glasses were provided at the small guest room refrigerator (not a Mini Bar as the refrigerator was empty). There were no other glasses provided in the suite. The bathroom has double sinks, make up mirrors, and the other normal Hotel bath equipment. The bath had marble walls and floors. The floor marble was polished marble. It was very slippery when wet and there were no grab bars or warnings provided. Bath marble is poorly matched. The shower floor is the inexpensive molded variety. At least the floor in the shower was not slippery marble. The shower door did not close properly. The bath had a large Jacuzzi style tub with several defective jets. The water flow at the jets was also not balanced. Water pressure in the shower, on the 16th floor, was poor. The toilet has a Sloan pressure system for flushing. It is effective office or commercial type toilet fixture, but not at all residential. There was a sign in the bath noting that linens would be changed only once every 3 days, unless special arrangements were made with the hotel. The message noted that this was due to the need to conserve water. While I salute the hotel's apparent concern for the environment, I also recognize that this results in a sunstantial reduction in hotel operating as well as a capital cost reduction for fewer pars (full sets of room linens) that was not reflected in the room rates. If the hotel was really concerned with water conservation, they would close all the outdoor water features, pools, etc. to reduce the evaporation losses in the desert environment. The hotel provides high speed, wired or wireless Internet connections in the rooms for an added charge of $11.99 per day. The cost to the hotel for this service is only a very small fraction of this charge, probably considerably less than $1.00 per room per day. It is the highest cost I have ever seen at a hotel for this service. Needless to say, I eschewed the usurious Internet rates at the hotel and utilized the free ebay wireless connections at the convention. There is a sofa located in the center of the suite. It has a cheap and unattractive green fabric. The sofa blocks the view of the lower part of the TV screen when viewed from the bed. There is a 27 inch color TV in an armoire at one end of the suite. The TV is 23 feet +/- from the head of the bed and no binoculars were provided. The sleep timer on the TV remote control was inoperable. The TV needs to be raised about 12 inches to be able to view the entire screen from the bed. There is a shelf in the armoire above the TV. There is a large hole in the back of the armoire above the shelf. It appears that the shelf was designed to hold some electrical/electronic aparratus that was missing in my suite. The lower part of the armoire contains 3 self opening drawers. When you open the lower cabinet doors, the drawers roll open, whether you want to open them or not. The acoutical insulation for the rooms was very inadequate. Slamming doors, plumbing noise and guests shouting in the corridors woke us several times during our stay. In retrospect, I have to wonder if fresh air for the rooms is being drawn under the entry doors from the corridors. Most modern Hotels have drop seals at the entry doors to provide compartmentalization for improved acoustics and fire safety. The room carpet was a monotonous, stained, tufted beige colored carpet that appeared to be well beyond its useful life. Our room, which was supposed to be a non-smoking room, smelled of stale cigarette smoke. There were ash trays located in the drawers of the bedside tables. Obviously, the Hotel had little concern for the fact that guests may smoke in rooms designated as non-smoking rooms. Housekeeping Hosuekeeping was excellent. The room was very clean without considering the worn state of the fabrics and furnishings. There was no dust on any surfaces in the room and the beds were well made. Bath linens were refolded and placed neatly. No linen changes seemed strange for a hotel charging more than $200 a night for a standard guest room. Restaurants Due to the exorbitant pricing at the restaurants in the hotel, we avoided them, as much as possible. Together with Joyce Banbury, we had organized a breakfast for the Education Specialist group attending eBay Live. The breakfast was held on June 14 in the Bayside Buffet restaurant. We had contracted with the hotel for a setup charge of $125 and, so we thought, a charge of $11.99 per person plus tip. To our surprise, we were charged $13.99 per person ($2 in excess of what was verbally agreed with the hotel Manager of Group Dining) for the meal plus an 18% service charge. Together with tax, it brought the actual charge per person to nearly $18. The 18% service charge provided each person with one glass of juice served by wait staff and the busing of soiled china and silver. 18% service charge for buffet service is ridiculous. The scrammbled eggs were dried out by the steam table and bore a visual resemblance closer to popcorn. The waffles looked good, but were soggy. I had a much better breakfast on Friday, at another hotel for $5.99. It was a full breakfast, well served and I left a 20% tip. I wonder if the hotel management believes that having smoking and non-smoking areas in a hotel restauant is possible due to the fact that cigarette smoke remains at the smokers table only and does not circulate throughout the restaurant and the hotel? Obviuosly, they do not agree with the Surgeon General's warnings on the dangers of second hand smoke. Convention/Meeting Spaces and other Public Areas Most of the guests were seated on the floors of the break out spaces for the meeting rooms due to the lack of adequate seating spaces. The only area I noticed with more than adequate seating was at the slot machines in the Casino. There were sufficient empty chairs there to line the walls of the corridors and meetings space lobbies. Thsi may be due to the fact that several local residents advised me that the Mandalay Bay slot machines were notoriously STINGY. Public area lighting was of dated design and often appeared to be poorly polished and maintained. I had a thought that some of the ceiling light fixtures looked as though they had been purchased at a \"used\" lighting store. Meeting room acoustic separation was very poor. The only advantage being that you could hear two meetings at the same time. It is obvious that the hotel installed movable partitions with inferior acoustical qualities. Conclusion The Mandalay Bay Hotel is in dire need of an extensive renovation. This hotel is in stark contrast to the newer the HOTEL at Mandalay Bay. The interior design, furniture, fixtures and equipemnt are far superior at the HOTEL and the room rates are only about 25% more than the standard room rates at the Mandalay Bay Hotel. Stay at the HOTEL. I suggest that you avoid the Mandalay Bay Hotel. Many other hotels on the Strip are much less costly than the Mandalay Bay Hotel.\n",
      "('pred_class:', 2)\n",
      "('true_class:', 0)\n",
      "\n",
      "Great little historical hotel located in the heart of Back Bay. Recently renovated while maintaining old world charm. We stayed here with our baby in September. The staff were very friendly and accommodating. The lobby is decorated in a contemporary style and felt cozy. We didn't eat at the restaurant or bar with all of the food options nearby so I can't comment on the dining in the hotel. The room was tiny which I guess is expected when you're in the heart of the city. The room was clean and the decor was obviously recently updated. The bathroom was ok, the tub was really old which I thought was odd when everything else was updated. Not the best shower either. The bed was comfy. And we didn't have any issues with noise from outside. Overall, I think this was a good option for the price we got it for using Priceline to name my price. The location is what makes this hotel really good as well as the boutique feel. The hotel is really close to shopping, restaurants, etc. We actually stayed at the Fairmont Battery Wharf for a night after our stay here and I think I would choose the Fairmont over this hotel especially since I got it for almost the same price with a special friends and family discount.\n",
      "('pred_class:', 2)\n",
      "('true_class:', 2)\n",
      "\n",
      "Absolutely fabulous property!!!!! Great pool complex. I can see why there are negative reviews when kids are out of school, as the water slides and other amenities are great for kids. I visited while kids were in school, so they didn't bother me. Wailea is the best location in Maui.\n",
      "('pred_class:', 2)\n",
      "('true_class:', 2)\n",
      "\n",
      "Decided to treat myself and my boyfriend to a 5 star holiday in New York from Ireland. Our agent advised that the W was a young hotel suited to our age and lifestyle and booked straight away. We were in New York for 5 nights, however due to crazy weather we were snowed into the hotel for a couple of days, and I got the flu for the first two, but we still managed to have a brilliant time. The first morning we decided to have breakfast in the hotel, which was not included in the price. We ordered scrambled eggs and they were absolutely disgusting, water floating around the plate and obviously cooked in a microwave as it was still in one large lump, the eggs were full of bizarre herbs and some veg and we just left, I'm embarrassed to say we instead found an Irish pub that served yummy rashers and sausages and ate there instead, something I never do when I leave Ireland as I like to try more native places but without decent food in our bells we would have been useless. The hotel was very very quiet, the girl at the bar hit on my boyfriend, though he was delighted and I found this hilarious but it wasn't dry professional. The room for the 5 nights was about â‚¬800 approx â‚¬1000 USD, and it seemed overpriced. I found the boxes of grass growing for decor around the hotel particularly hilarious. The cleaning staff were absolutely amazing, so friendly, and when I was I'll the first few days they kept checking I was okay and left me extra robes and towels just in case despite not asking for these. I was excited to visit this hotel to make use of the Bliss Spa, however this was closed while I was there, not sure why. The shop downstairs although tiny, I managed to dent a hole in my wallet buying myself shoes and jewellery when the weather was too bad to leave. The room bill at the end was enough to induce heart failure, almost â‚¬1000, we got a film, and had some stuff from the minibar but was unprepared for that, the water I was drinking when I was sick turned out to be over $10, which is daylight robbery but I was grateful for it at the time. The location is quite good, nothing too exciting in the immediate vicinity but you never had to walk far to experience New York at its finest. All in all despite everything this is still my favourite holiday, However for my next trip I think I'll stay somewhere less 'chic' and somewhere with a bit of an atmosphere as aside from sleeping (in the tiny even for New York rooms) there wasn't much else going on worth staying in for. Just to mention consierage were fantastic, anything we needed we got before we finished asking for anything. We had some bizarre requests all met with professionalism. We mentioned we were visiting music shops to buy an instrument and before we left consierage had printed us addresses, numbers, maps and details of all music shops in the city. We couldn't have gotten better off them\n",
      "('pred_class:', 2)\n",
      "('true_class:', 1)\n",
      "\n",
      "We've stayed here before. The location is awkard to find at first, but once you know the ins and outs, it's easy to get on or off the freeway. It has a mini space for kitchen, which has a sink, mini fridge and a coffee maker. Tons of counter space for brushing teeth, the toilet/shower is tiny. Nice desk space, couch space to relax, and turnable TV. The only thing that I'm not happy with are the towels. They are worn and has a dark tint to it. Most hotels use bleach to whiten the towels and an added bonus as disinfectant. So, I hope that was a fluke. The check-in person was grumpy, so even though the lobby and food area is welcoming, I hate to go down to that area just to avoid her.\n",
      "('pred_class:', 2)\n",
      "('true_class:', 1)\n",
      "\n",
      "My friends and I stayed at the GN in August. We checked in early in the morning and were able to go right to our room. Later in the day I did notice long lines like others have commented on. We stayed in Carson Tower. It was clean and quiet. The only thing is the beds are small. They are double not Queen size. The beds are very comfortable though!! We did call the desk and they said they are all this size. They sent a roll away up at no charge. We didnt go in the pool but after a lond day we would go back to the motel and sit out by the pool. Not many people out there and nice to just relax. Didn't eat in GN. Went to DuPar restaurant in Golden Gate Casino on Freemont Street. Great food and service! Excellant pancakes in morning!!!\n",
      "('pred_class:', 2)\n",
      "('true_class:', 2)\n",
      "\n",
      "My sister and I usually stay at the Barclay Intercontinental when in New York, but it was booked and we found an affordable promotion through the hotel's web site. We were very impressed with the hotel and liked it much better than the Barclay for many reasons. Although the folks at the front desk were a little aloof, the rest of the staff was cheery, friendly and helpful, even the poor man who had to fix our toilet at 11:00 p.m.! We had requested a non-smoking room and got one, however it was clear the previous guest had smoked and so we requested another room. We were upgraded to a larger room right next door. Although the hallways were a little worn, the room was very well decorated and included a large flat-screen TV and Jonathan Adler pottery. Room service was extremely expensive so we opted to eat downstairs in The Library. Breakfast was yummy and, to top it off, there were bowls of M&Ms everywhere! It is a kid-friendly and pet-friendly hotel and even has a place for kids to play right next to the restaurant. If we can afford it we will definitely return to the Loews Regency.\n",
      "('pred_class:', 2)\n",
      "('true_class:', 2)\n",
      "\n",
      "Excellent hotel with some interesting quirks. The hotel lobby is on the 12th floor, you need to take the elevator past all the parking floors to reach it, then a different set of elevators to your room. Check in was friendly and smooth. In the lobby are free internet terminals and comfy sofas. Also on the 12th floor is the fitness room which was never busy when I used it with several good machines, and a small pool and jaccuzi. Pool is not really big enough to swim in but fine for cooling down etc. The hotel bar is comfortable and offers a decent happy hour ($4 margaritas!) with a nice selection of snacks. The suites are awesome. On the 24th floor we had a view of the flgith path into San Diego airport, not a problem and we rarely heard aircraft noise over the airconditioning. The bedroom is behind glass doors, and is a small but pleasant room with its own tv and window. The lounge is bigger than the bedroom and has a sofa, desk and small kitchen area where there's a countertop and a microwave. Fridge is available on request and incurs a small fee IIRC. Bathroom looks old but isn't. It was always spotless with a seperate (excellent) shower and bathtub. Only issue is parking. Either pay $20 for self parking, or $25 for valet. Self parking is arduous, up an enclosed spiral concourse for 7 levels before reaching parking and then another 4 levels before reaching hotel parking so we used valet after 1st night. No parking really available nearby so you are kinda captive. Overall, excellent hotel, and would happily use again and recommend but take into account the need to use valet parking.\n",
      "('pred_class:', 2)\n",
      "('true_class:', 2)\n",
      "\n",
      "My husdand and I just returned from from a trip which included our children ages 6, 4 and 9 months and my parents( in their 50's). We loved the hotel, it was perfect for families! We shared a 2 bedroom unit. The room was spacious and we had an ocean view even though we paid for garden view. We booked a package through Pleasant Holiday and got a great deal for our April/May trip! Like others have mentioned the kitchen needs updating but it worked. The rest of the room was nice and the bed was very comfortable. The kitchen floor was really dirty but they sent someone up to clean it. I would reccommend getting a ground floor unit because we had to walk all the way around the building to get to the stairs/elevator when returning from the pool or beach. The beach was not the best on Maui but was fine for our purposes and even had chairs in the shade. It was quite windy a lot of the time. We snorkled right in front of the hotel! The restaurant was fine. My only real complaint was that the \"kids eat free\" we were offered through Pleasant ended up being valid only from 11:30-4 pm each day. They have nightly dinner specials for $18 including salad which is a deal on Maui. The Star Market across the street was very convienent and the pizza place was great. Check out the Farmer's market down the street on Friday mornings! Our outings included Iao Valley , a nice hike/walk for kids and adults with a small nature center. Snorkeling at Black rock was only a short drive away. You have to go see Warren and Annabel if you have not done so! We ate at Cheesburger in Paradise with the kids and Kimo's and Hula Grill without them. Overall, this is a great place for families and I wouldn't hesitate to stay here again. However, if my hubby and I can sneak away without the kids I would look for something else..there are lots of kids here!\n",
      "('pred_class:', 2)\n",
      "('true_class:', 2)\n",
      "\n",
      "Horribly noisy hotel. You would think that a hotel across the street from the airport would have noise remediation but the walls were even thinner than usual. The decor is nice, and the staff is friendly and efficient, but you will not get any sleep here. The views of the harbor from both sides are utterly destroyed by the noise of the airplanes. You also hear everything your neighbors are doing (I mean, EVERYTHING). Not pleasant. My room smelled of body odor that wasn't mine. I was not able to get any sleep at all. Most egregious was the energy-efficient thermostat. You could only manually get the fan to blow on high for five minutes, then it switches automatically to \"auto.\" So, no hope for white noise to drown out the other noises.\n",
      "('pred_class:', 0)\n",
      "('true_class:', 0)\n",
      "\n",
      "Got a priceline rate of $125 per night for July 13 and 14th. While my reservation said check-in was at 4, I was able to get my room at 1 Pm when I arrived. I got a good sized room on the 21st floor(which is part of a smaller elevator bank)- my room had two double beds, two arm chairs, a desk, coffee service, room enough to set up the ironing board and not have it be in the way. The room was clean, there was enough room for me to exercise without sitting on the bed, my airconditioning was too cold!-I turned it down. The only odor I noticed was in the morning- someone was obviously smoking on the non-smoking floor. I guess the hotel must have a wide range of rooms since the reviews I see are so uneven-anyway, I had a great time, great location(Starbucks and juice bars right across the street) and would go back tomorrow!\n",
      "('pred_class:', 2)\n",
      "('true_class:', 2)\n",
      "\n",
      "excellent condo hotel and very personable with the best service The property is very well kept and upgraded and canatrally located with just a few steps to the beach. Surrounded by shopping and nice restaurants.Pool area nice and quaint, they even have a barbeque area for your convenience and a boutiqish style spa.Rooms are very nice and decorated like someone's home.Very good amenities and continental breakfast included every morning and one night a week a managers cocktail/snack hour.Very family friendly.\n",
      "('pred_class:', 2)\n",
      "('true_class:', 2)\n",
      "\n",
      "We stayed here for a week while visiting New York. We parked in the hotel and upon arrival our bags were removed and car was parked within minutes. Reception: Excellent service, fast efficient and very helpful Room: We had a corner room which was quite big by NY standards. It included a large walk-in wardrobe that accommodated all of our luggage. The room itself was a little old but was spotless and comfortable. Given what we have paid in similar priced hotels in NY this was easily the biggest room we have stayed in. Location: Perfectly located for all shops in 5th Avenue and approx a 15 minute walk to Union Square. Overall I would highly recommend this hotel. It is a little old fashioned, but the service was perfect and coupled with a fantastic room and location, it was well worth the cost.\n",
      "('pred_class:', 2)\n",
      "('true_class:', 2)\n",
      "\n",
      "I have stayed at a few Kimptons before and this one was not nearly as nice. I purchased a room through priceline, but only saved about $20 off the regular room rate. When I called the 1-800 number to ask for double beds, the woman on the phone told me that it would be impossible to get double beds because priceline purchases are \"read only\" in their computer system. Knowing this to be untrue, I called the 1-800 again and was able to reserve a double bed room easily. Unfortunately, when I got to the hotel, no double bed rooms were available. Knowing this to be a risk with priceline, I was not upset. However, the one bed rooms at this hotel are tiny. There was an obvious attempt to \"update\" the decor in the room, but it was just cheesy and out of date for a 4 star hotel. After returning home, I noticed a $15 charge on my card from the hotel. I called the hotel directly and was told that I was charged for a missing wine glass. I told the representative that I had used a wine glass but that it was still in the room. She said I must have taken it, to which I responded that I live across the country and do not need to steal used wine glasses to take home to the east coast. She finally relented and removed the charge, indicating that when items are moved around the room and not returned to their original location, guests are often charged for taking them. How does that work? Conclusion: in my humble opinion this is a 3 star hotel at best with a good location but not worth the 4 stars or amount it costs.\n",
      "('pred_class:', 2)\n",
      "('true_class:', 1)\n",
      "\n",
      "1st off let me say we would stay here again. They have on site parking which is nice but it is limited and it's $30 per day plus tax. ($33.60 a day). Our room (201) was nice. It only had a full size bed. (Can't remember the last time I stayed in a hotel with a full size bad), and the room was a little noisy (balcony doors don't close tight, and over looked the motor court). It has a nice little pool with seating around. The bar (an old bordello) is very nice. It is on Dauphine St which is 1 block away from Bourbon St. That helps it be a little quieter but it is still easy to enjoy the night life.\n",
      "('pred_class:', 2)\n",
      "('true_class:', 2)\n",
      "\n",
      "My partner and I bid on this hotel last minute as I wanted a cheap - but decent - place to catch some sleep because of a 9 hour layover. We got there at about 130am..the staff were nice. The lobby seemed funky and dated, but decent. It had a tad of an old sad, washed out feeling of days of yesteryears...its glamor days long gone. We went into the room and it was small and dark, dirty feeling and creepy. The beds were sagging a little and I felt like I was in a flop house. The bathroom had been remodeled and oddly really fancy and nice... when I discovered the room had wet carpet, I went downstairs and got another room - and wow....what a difference..the next room was very spacious and nice, very clean. The bathroom was once again, very nice and I could tell had been recently remodeled. I would stay there again, but it would not be my first choice and I would make sure I got a nice room. Since I only saw 2 rooms, one horrible and one nice, I cant really say which one represents the hotel as a whole. Hope this helps.\n",
      "('pred_class:', 2)\n",
      "('true_class:', 1)\n",
      "\n",
      "For my first trip to Las Vegas, I had hoped that I would be able to experience the luxury that I have heard about. Unfortunately, I did not have a very positive experience at the Las Vegas Hilton. I was booked into one of the older rooms in the hotel. It is a shame that not all rooms are updated - as my room didn't seem to have been modified much since the hotel was built. I tried to upgrade to a newer room, but was not successful. While the room was clean and large, it was extremely dated. The bathroom was pink, and the toilet and shower had seen better days. They were clean, but very worn. The shower head bracket was not securely attached to the wall, and the vents seemed broken in the bathroom. The room iteself was quite large and the bedding was new. As I was traveling for work, I was disappointed to see that not only was internet $14, but the fitness center was $20. This is after I realized my room rate was approximately $50 higher than the specials that were running that week. This hotel is attached to the Las Vegas Convention center and it seems that much of their business is for the convention center. If so, this hotel certainly does not cater to the business traveler. I can understand that these charges may be standard in Las Vegas. However, for a hotel which is not on the strip and needs to be a destination for many visitors, it seems that the amenities are not up to par.\n",
      "('pred_class:', 2)\n",
      "('true_class:', 0)\n",
      "\n",
      "als Durchreisehotel geeignet   showReview(11419246, 'full');\n",
      "('pred_class:', 2)\n",
      "('true_class:', 1)\n",
      "\n",
      "The Handlrey is basically two hotels in one. Before arrival we thought \"wow\" we have run of the house in the Historic Section. After travelling the UK with prestigious historic hotels we thought this should be great. Not so. The older section of the hotel is just that, basic bed and shower affair. Upon viewing the suites in the new section it was like being in a different hotel, at a cost of course. That said, once we moved into the suites they were excellent. Plenty of space, good fittings (although new flat screen TV's would improve them even more). We had two suites for our party of 5 (Grandma, Mum, Dad and 2 kids) and had no complaints with level of service, housekeeping etc. The hotel is right next to Union Square and getting on the cable cars to Fishermanâ€™s Wharf is a breeze. California has extremely liberal laws and beggars are a blight on San Francisco. Our younger children were often left feeling quite scared by their aggressive nature. No fault of the hotel, but if you have young children consider staying at a hotel near Fishermanâ€™s Wharf as they don't seem to be as abundant there. Other than the high cost of internet access (US$5 per 20 mins) we had no complaints about the hotel or the staff. Special mention has to be made of the bellhops, job well done.\n",
      "('pred_class:', 0)\n",
      "('true_class:', 2)\n",
      "\n",
      "My husband and I and 35 others had the pleasure of staying at Embassy Suites North LAX in LA. This hotel was perfect for our group as we were overnighting on our way to Fiji. The hotel served up a great hot to order breakfast, helped us get on the trolley to Manhattan Beach and even stored our luggage for the day as we had a late flight out. Kelly the sales manager was excellent to work with making sure all our requests were met. When we came back from Fiji we overnighted again in LA. This was a nice break from such a long flight. The hotel checked us in earlier, offered us free snacks and beverages in the evening and even prepared a box breakfast for those leaving early in the morning prior to breakfast. If you are looking for a stop over hotel at LAX look no further Embassy Suites was perfect.\n",
      "('pred_class:', 2)\n",
      "('true_class:', 2)\n",
      "\n",
      "The Bellagio is the most overrated hotel I have ever been to. It's tacky and dirty, not to mention full of THIEVES! I am truly disgusted. There wasn't an inch of clean carpet. There was blood on the house coat. There were burned out lights. Stains on the bed sheets. We got a smoking room even though we requested a non-smoking months in advance. It was so terrible that I was going to write a bad review BEFORE I REALIZED THAT THEY STOLE A $20K FAMILY HEIRLOOM OUT OF MY SUITCASE. I am going to cry.\n",
      "('pred_class:', 0)\n",
      "('true_class:', 0)\n",
      "\n",
      "I booked this room without knowing its identity, on Hotwire - only paid $129/nite plus the $20/nite fee for parking-still quite a deal compared to their published rates-after I got the name of the hotel, I quickly checked reviews to find some negative comments about the hotel - I called the hotel directly- and worked with them on getting the Bay Tower - which the rooms are Larger ( or so I am told)-----and honestly, they gave us a Bay facing room on the 7th floor - we watched three sets of fireworks on our patio the night of the Fourth, and it was a great view......I would say to just be sure about which building you want to be in when you make the reservation...for us, a larger room was more important than the larger pool area that the other tower offered....the experience was a lot better than I expected, given the online reviews that I had read in advance of getting there - yeah, their computers were not working when I tried to check in, but , that wasn't so bad - we just left our luggage and checked in later.\n",
      "('pred_class:', 2)\n",
      "('true_class:', 2)\n",
      "\n",
      "Great Location The hotel location is convenient. Its a block from the subway station, within walking distance of Central Park  great restaurants. The front desk service is excellent, check in is prompt  efficient, no street noise, rooms are clean, maid service is excellent  best of all the rates are reasonable. I highly recommend.\n",
      "('pred_class:', 2)\n",
      "('true_class:', 2)\n",
      "\n",
      "We just completed another stay at the GWR in late may early June and we had a great time. What the Grand Wailea is: Very expensive, cannot be mentioned in the same sentence with Four Seasons, Ritz and JW's in service; mediocre in food and has the audacity to charge handsomely for shade at the pool. Why do we keep coming back? The resort itself is amazing. The pools are the highlight, the beach is one of the best anywhere, the offshore reef is an easy swim to see the sea turtles, and the artwork and gardens make you feel like you've found paradise. We were guests in 1991 when the resort opened and again shortly after the hotel was award 5 Diamonds so we are dissapointed that the hotel has becom indifferent to all the small things that differentiate a good resort from a great one. But let's face it, this place is fun, beautiful and if you are a business person who spends significant time away from the family, the GWR allows you to have fun together as a family and reconnect. To maximize your enjoyment of the resort you need to go in understanding that you won't have the personal service of the 4S, yes a drink will cost $13 at the pool and this is an activity based resort, lot's of kids and adults who are acting like kids. If you want quiet this is not the place for you. My last advice is eat offsite when you can. We had great meals at Joe's at the Wailea tennis club go at sunset and order the pumpkin seed coated Mahi. If you're in the mood for a steak, Ruth Chris is next door. We had a poor experience at Nick's at the Fairmont (dry Mahi and a very stingy poor of Sonoma Cutrer for $15).\n",
      "('pred_class:', 2)\n",
      "('true_class:', 2)\n",
      "\n",
      "Friendly staff, family feel to the resort, quiet (except for the restoration work taking place) and absolutely stunning views. Nice breakfast, great views again, beautiful environment. Just bliss. Well equipped room (pleased to find a good fridge, freezer and corkscrew for wine!!) Great shower (pressure was perfect). Liked the feel of the place. Good value for money. Room was clean, good size, loads of storage and felt safe and private. Free wifi-always a bonus, easy parking. Quite a unique place. Would defininately recommend.\n",
      "('pred_class:', 2)\n",
      "('true_class:', 2)\n",
      "\n",
      "I had booked 2 rooms, one for my me and my spouse, the other for friends coming in from a different location a few hours later. We got there quite a bit earlier than the listed check in time but thought we would ask the front desk if they had any rooms available. The front desk person (Cookie?) said we couldn't get our rooms until noon and would not be able to get even one smoking room. We had no problem with that other than she was unfriendly - no smile, no pleasantries, no offering to leave our bags with the concierge until we could check in. We left and happened to be back by the hotel at about 10:30 and thought we would check again to see if we could get in early. This time we dealt with Pablo, who not only was extremely pleasant, but said if it was okay with us, we could get a non smoking room immediately, and a smoking room when our guest arrive at the hotel a few hours later. Perfect! The rooms were nice, the location was great, the maid staff was helpful. (When we were checking out, the first 3 elevators were full. She showed us where the freight elevator was and had us take it.) Everyone with the exception of the first front desk person was wonderful, particularly Pablo! I would stay there again.\n",
      "('pred_class:', 2)\n",
      "('true_class:', 2)\n",
      "\n",
      "We had our wedding at the La Bella Chapel her, it was perfect. We had about 20 people travel with us and they accommodated requests for rooms near each other and a request for my new husband and I to be away from the group. The casino is nice, not very busy, cocktails waitresses provided quick fast service. The brunch buffet was just ok, good food just nothing spectacular.\n",
      "('pred_class:', 2)\n",
      "('true_class:', 2)\n",
      "\n",
      "Good value - rooms are older but have been remodeled. Overall I would recommend.\n",
      "('pred_class:', 2)\n",
      "('true_class:', 2)\n",
      "\n",
      "The Monte Carlo is so easy to get around in. You never feel like you don't know where you are. The bank of elevators is very convenient and fast. The Food Court offers almost eveything you can eat at very reasonable prices. The walk way to the tram is so easy to get to the Bellagio. You can also walk to Aria in about 5 minutes without going outside. The chinese restaurant is the best on the strip. Rooms are very nice for the price.\n",
      "('pred_class:', 2)\n",
      "('true_class:', 2)\n",
      "\n",
      "Staying in a downtown Boston hotel was an interesting first-time experience for us, seeing as we lived for 25 years less than a mile away from the Back Bay Hilton and still consider ourselves locals. This property is perfectly located in close proximity to many of Boston's cultural, dining, and shopping venues, and was for us a perfect home away from home. Commercial property available for new hotel construction has been virtually non-existent in Boston's congested downtown and Back Bay areas for decades. This would explain why the Hilton, a relatively recent arrival to the Boston hotel scene, is appreciably smaller than, for example, the much larger and older Sheraton directly across the street, which has the advantages and disadvantages of being integrated into the Hynes Convention Center and Prudential Center complexes. The Hilton, on the other hand, has a very small triangular footprint on a tiny lot and is only 26 stories tall; this gives it the unexpected and highly welcome ambience of a European-style boutique hotel rather than a big-city American commercial property. The feel of a boutique hotel was reinforced by the front desk staff, housekeeping staff, and other lobby service personnel, who were all extremely friendly, efficient, helpful, and solicitous, almost to a fault. We were greeted by one or more staff members each time we passed through the lobby. This level of personalized service is quite remarkable, even by high Hilton corporate standards, and especially so for this city. Bostonians in general have a well-earned reputation for being rather unfriendly and xenophobic; the thought idly occurred to me that perhaps all of the Hilton's staff had been recruited from non-natives imported from elsewhere. The room rates and parking fees are rather steep, as is normal for big-city hotels. The adjacent parking garage was well-maintained and convenient to the lobby. As Hilton Gold members. we were given a free upgrade to a corner room, which is somewhat larger, asymmetrical, and appreciably less claustrophobic than the standard rectilinear rooms. Our room seemed to have been recently rehabbed and was nicely decorated and well-equipped, including a large flat screen HDTV with a generous assortment of digital channels. The free breakfast served in the executive lounge was somewhat more limited in selection but far higher in quality and freshness than the standard breakfast fare served in Hampton Inns and Hilton Garden Inns in the Hilton family - in fact, it was much better than the restaurants in most Hilton hotels as well. We plan to give their adjacent 40 Dalton restaurant, which shares a common kitchen, a try on our next stay. All in all, this was one of the most satisfying and rewarding Hilton experiences we have had in recent years. To find this extremely high level of guest accommodations and service in our former home city was as astonishing as it was unexpected.\n",
      "('pred_class:', 2)\n",
      "('true_class:', 2)\n",
      "\n",
      "I stayed here for 3 nights in early November for a professional conference. The room was great (I upgraded to a club floor), and the club breakfasts and snacks were wonderful. Housekeeping did a great job each day; the overall location of the hotel was very good, and the concierge staff were extremely helpful.\n",
      "('pred_class:', 2)\n",
      "('true_class:', 2)\n",
      "\n",
      "The hotel is in the middle of no where, It's about a 10 minute car drive or a 15 minute bus ride to the milenium park. There is nothing around the hotel to walk to. The buss doesn't come very often, so you usually have to wait 15 to 20 minutes for it. The hotel doesn't provide a free business centre for it's custumers. The business centre charges 28 dollars an hour for internet!. The suiming pool is old, not preatty, and at least when we used it there was no one keeping it clean, there were used towels all over. The room was old, with old furniture, but very clean. You can hear your neghbours from your room, even if they're only talking. You can also hear people on the hallway. We did not try the restaurants. The service was preatty good at reception, but hit and miss with the concierges. Overall I would not stay here again. The hotel was not as good as other 4 star hotels, and the location was terrible.\n",
      "('pred_class:', 2)\n",
      "('true_class:', 0)\n",
      "\n",
      "This hotel is okay, but not worth the amount you pay (even for downtown Chicago). It appears old, run-down, and out-dated inside. The rooms also seem old and are *very* small (again, even for downtown Chicago). None of the staff are very friendly. We also listened to housekeeping staff being extremely loud, laughing and talking about personal matters every morning in our hallway. Very unprofessional. Most Chicago hotels are better than this one.\n",
      "('pred_class:', 0)\n",
      "('true_class:', 0)\n",
      "\n",
      "I just returned from a trip to Boston and a two-night stay at the Colonnade. The Colonnade's website promises \"large rooms,\" but not mine. I was right next to the elevator with a large chunk cut out of my room to make room for the elevator shaft. The room was both small and noisy. When I checked in, I asked if a room with a couch were available, and I offered to pay extra to get a large room with a couch. I was told no such rooms were available (I subsequently learned they indeed were available for the nights I was there--just not to me). I asked for a room on a high floor, away from any noise. I was put on one of the lowest floors, in an area where everyone had to walk by to get to their large rooms with couches. It was as if the young woman checking me were trying to thwart me in every way possible. The door to my bathroom was broken (no handle, no lock). Was I treated the way I was because I was a middle aged woman? I have no idea, but I am used to being treated well in hotels, so I will never return to the Colonnade and hope no one else will either. In fact, the only pleasure I had at the Colonnade (lying awake listening to the noise from the elevator) was writing this review in my head. The adjacent restaurant, though, is lovely. I recommend you stay elsewhere (anywhere else) and eat breakfast or lunch at the Colonnade's lovely French bistro. The very French manager came over to my table to talk about restaurants we had both enjoyed in Alsace. HE knew how to make a patron feel good.\n",
      "('pred_class:', 2)\n",
      "('true_class:', 0)\n",
      "\n",
      "Rooms are clean and comfortable. Extremely convenient location - there is a Starbucks just off of the lobby of the hotel, it's connected to the Copley mall and steps away from Trinity Church and Newbury street. I've stayed at several hotels in the area and this is the best value. They also allow dogs to stay at a reasonable price.\n",
      "('pred_class:', 2)\n",
      "('true_class:', 2)\n",
      "\n",
      "Stayed there for one night when connecting at LAX (Marc 31 st to April 1st 2007). Efficient and fast shuttle service from and to airport. Quick check-in and check-out. Comfortable room. Very good breakfast buffet. Good value for money. Only downside is pool (very small and located in an unpleasant courtyard). Eric Beylon\n",
      "('pred_class:', 2)\n",
      "('true_class:', 2)\n",
      "\n",
      "My friend and I stayed here in a very hot and humid July. We had real difficulties finding somewhere for a reasonable price with an ensuite bathroom. The Comfort Inn was good value for money, we had our own bathroom and the A/C cooled the room down nicely. We loved the location, good restaurants and really easy to get on the Subway. Our room was a bit noisey with the coming and goings of other guests in the corridor but we were right by the lift and stairs. the breakfast was adequate but sometimes difficult to get a seat in the tiny dining area, most days we just grabbed something for the local deli. I think for New York this is perfectly fine, we didn't have cleaning issues and we were able to spend money on seeing the sights rather than paying for an over-priced hotel.\n",
      "('pred_class:', 2)\n",
      "('true_class:', 1)\n",
      "\n",
      "This is the best place we've found to stay ON the boardwalk be right where all the action is on the boardwalk. We got an ocean front view room, and weren't disappointed. The deck is small but sweet. You see the ocean as well as everyone on the boardwalk-- a picturesque view. You can even see people eating at Connor's, the hotel's 2nd story bar and restaurant. It's a nice place for a drink or meal, overlooking the action. The room is like a small suite. You get a sofa in which you can see the view. You get a little kitchenette with fridge, microwave, china and silverware. Everything in the room looks new and all was very clean. The hallways, the lobby, the elevators-- everything is new and clean. There is an outdoor pool, though a little small. It gets crowded with 6 or 7 other people in it. But it's clean and nice, with restrooms right there. We've found that in the sweet spot of the boardwalk where this is, most hotels have no pool, and those that do don't have a bigger pool than this. Elevators worked well, though of two elevators, only one goes to the parking lot ground level-- remember which one. Service all around was great. The parking lot was never full in mid July, so we could be away from other cars if we chose. Absolutely nothing to dislike here, and everything to like. It's a bit pricey to be here in high season, but after shopping around, we found this to be the best choice to be right in the middle of the best of the boardwalk.\n",
      "('pred_class:', 2)\n",
      "('true_class:', 2)\n",
      "\n",
      "Hotel was so much nicer than I expected, especially for the price I paid. We only used the pool once. It was nice. We basically just slept there. It is a great location for going to Disney. I would stay here again.\n",
      "('pred_class:', 2)\n",
      "('true_class:', 2)\n",
      "\n",
      "We just got back from a six day stay in Vegas, three of those days courtesy of a blizzard in Denver that shut down the airport. We were stranded in Vegas. *Sigh* I know, sad isn't it? We had been staying at Treasure Island, a sister property to the Monte Carlo, but TI was sold out for both Friday and Saturday night. We called the Monte Carlo figuring we might get decent rates. We got great rates. We are frequent hotel guests as our travels take us many places. We know hotels good and, unfortunately from time to time, bad. We got some of the best service we have had in years at the Monte Carlo. We checked in less than an hour later coming straight from the airport. The gentleman checking us in, Joel, was fantastic putting us at ease about our travel being interrupted. He had the \"If you need anything just let me know\" approach that was refreshing. Recently Vegas seems to have developed a rather rude reputation particularly along The Strip but the old Vegas customer service is alive and well at the Monte Carlo. The room we got was clean and roomy. Great view and we were close to just about everything we wanted to see. The staff was incredibly polite. Housekeeping was marvelous as was each and every staff member we encountered. That is hard to say in this day and age. Construction? Yeah there is construction going on but there is construction everywhere in Vegas right now. We bailed on the Paris for our reservations this time because the Paris has had so much construction going on inside the hotel. Joel, the gentleman checking us in at the Monte Carlo, was nice enough to place us on a high, quiet floor and we found it quite peaceful. The restaurants in the Monte Carlo are great. Andre's is one of the top 100 restaurants in the US. They even have a brew pub! A number of the mega-hotels are overrated in my opinion and the customer service is greatly lacking. We got the kind of service Vegas was once known for. The Monte Carlo is far better than middle of the road and rivals the big four (Caesar's, Bellagio, Veneitan, Paris) center-strip cornerstones. It may be one of the best kept secrets in Vegas. We will go back to Vegas and we will not be shopping for a hotel next time. We will be at the Monte Carlo.\n",
      "('pred_class:', 2)\n",
      "('true_class:', 2)\n",
      "\n",
      "The Venetian IS the place to stay in Las Vegas. The hotel was spectacular. Their customer service EVERYWHERE in the hotel was superb. The restaurants were amazing...the only one I would steer clear from is the mexican one. Why eat mexican when you have SO many amazing dinner choices! Zeffirino's restaurant usually offered a 3-course lunch for $25. TAKE ADVANTAGE OF THIS!!! The food was delicious. The Tao Nightclub inside the hotel was amazing. However, the club is ONLY open from Thursdays-Saturdays. We went on a Sunday night to find that the club was closed but they only had the bar and the restaurant open...that was a bit dissapointing. Other than that, The Venetian is A+++++!!!\n",
      "('pred_class:', 2)\n",
      "('true_class:', 2)\n",
      "\n",
      "We spent two nights here as a break from staying in hotels and to give us a chance to catch up on some laundry. The villas are well located, surrounded by golf courses and trees and could be anywhere, rather than in the middle of Orlando: we even saw a bald eagle as we were leaving the resort. The villa was large and had an extremely well equipped kitchen, as well as a lounge, dining room, bedroom and spacious bathroom, with whirlpool bath. The decor was a bit dull, but everything was clean and well maintained.\n",
      "('pred_class:', 2)\n",
      "('true_class:', 2)\n",
      "\n",
      "Terrible service when we were here. Check in line was backed up when we got there- ok I get that. We checked in and decided we wanted to use the shuttle to go to Downtown Disney. Shouldn't be a problem since the shuttle runs there a few times. Went to the Guest Services desk to ask and was told that no the shuttle wouldn't take you there. So I questioned the girl because the shuttle info paper said it goes to all Disney properties. And she then told me oh, well maybe it does, I don't know this is my first day. So I had to wait in another line to have a Maingate employee tell me that there is no way to do Downtown Disney unless I call a cab. I asked is any of it could be walked and was told no it was too much of a mess to do that. Well we decided to hop on a shuttle anyway and see what we could find. And guess what? You can get therem quite easily in fact, from the shuttle. Thankfully the gentleman at Disney was much more helpful. Similarly the next day we asked about buying Disney tickets and another girl told us she didn't know anything about tickets because it was her first day as well. So helpful! Room was basic-not terribly clean. Best part was having a fridge and the 24 hour Walgreens right in front of the hotel. Can't get anywhere without a cab and even though there is a free shuttle, the times for some parks (7:30 am for Universal?) are inconvenient. Unless you know exactly what you are doing and how to get around, I would avoid this place. Also there is free internet but its really really slow, i.e. not worth even trying.\n",
      "('pred_class:', 0)\n",
      "('true_class:', 0)\n",
      "\n",
      "We spent seven days at Radisson, and everything was just perfect. Polite staff, a spacious room, perfect location central for everything incl subway access just outside the hotel and a little park in front of the hotel where you can have your breakfast etc. The beds were superb. It is no coincidence that the hotel is the choice of many airlines for their staff.\n",
      "('pred_class:', 2)\n",
      "('true_class:', 2)\n",
      "\n",
      "My Wife and I really like the location of the Hotel . It was really close to Time square. The staff was friendly and helpful. At check in they upgraded our room from a Queen to a King .The Room was good except it did not have a fridge. We stayed one night but we would return.\n",
      "('pred_class:', 2)\n",
      "('true_class:', 2)\n",
      "\n",
      "This was a nicely decorated and well kept inn! The room was comfortable, especially the bed. We really loved the rooftop terrace. It was a great place to relax as we overlooked the market and the bay! The location of the inn was it's best feature! Right at Pikes Market! (Although we thought that the market wasn't as nice as we expected!) We didn't venture out after dark, though, as there seemed to be lots of sketchy characters around!! During the day we enjoyed walking everywhere, from the market to the downtown shopping areas! We enjoyed all the choices of food alongside the market...especially Beechers cheese store's macaroni and cheese!!!!!! Try It!!!! It's WONDERFUL!! In all it was a great place to stay!\n",
      "('pred_class:', 2)\n",
      "('true_class:', 2)\n",
      "\n",
      "I am very picky. I researched for hours before choosing the Drisco. The Hotel Drisco met all my needs. The hotel was charming and architecturally pleasing, the bathroom and deluxe king room very clean and comfortable, the water hot, the window on the courtyard opened to let in sweet air, the area provided easy parking unlike the Marina where I used to stay and gather tickets, quiet residential surroundings, and central to all activities I enjoyed like the byobw on Lombard, (see youtube for a laugh) a hike up Stow Lake, Chestnut street bbq, and cooking Easter dinner near the Haight for family. Wine and cheese at night and a hearty delicious breakfast in the morning and meeting couples from Oklahoma and South Carolina with whom to share stories were pluses. The staff was nowhere to be seen but always there to keep everything perfect. How do they do that!? And the best thing of all was a knock on my door to find a chocolate bunny waiting for me. I love the Drisco and it met all my expectations and more. I will always stay at the Drisco! Thanks to you all who recommended it!\n",
      "('pred_class:', 2)\n",
      "('true_class:', 2)\n",
      "\n",
      "We stayed here in September 2011 for 2 nights. We have stayed at many Courtyard Marriott's and have come to know a standard level of quality. However, this hotel must have been missed by the quality control people at Marriott. The lobby and general areas are nice, so we figured it would be a standard hotel room. However, upon checking in, we found that our room was SO small. Barely room for 2 people and 2 beds. This is Boston, not NYC or Tokyo, so I was surprised at how small the rooms were. The bathroom was very small and outdated and did not have a bathtub, only a shower. The rooms appeared to be mostly clean but I did find a few hairs here and there. The most disappointing part of the room was the noise problem. We were in an adjoining room, and the door between the rooms appeared to be paper thin. We could hear the man next to us even when he was just speaking at normal level. He was up all night arguing with his partner on the phone, and every conversation we sat wide awake for - we know waaaay too much about this random's man love life and marital problems. We also were awakened at bar closing time due to large crowds and many sirens outside our windows. I honestly felt like we were in a bad movie staying at some dumpy motel. I couldn't believe that this room cost what it did and this is what it was. The location of the hotel is good and within walking distance of many other hotels. However, the price at this hotel was comparable to the Nine Zero hotel (actually the exact same) and we have stayed at the Nine Zero, and it is 1,000 times nicer. We used Marriott points for one night of our stay which is the only reason we stayed there, and I honestly can't believe people would pay $250 and up to stay at this hotel. Also, FYI, parking is $40 a night, which is high even by Boston standards. I would NOT recommend this hotel to anyone.\n",
      "('pred_class:', 2)\n",
      "('true_class:', 0)\n",
      "\n",
      "Hotel was recommended from a business associate. Near new carpets , paint, furniture. Clean rooms and very good cleaning service. Very friendly staff and close to the main San Francisco attractions. I have no hesitation in recommending this hotel to my friends.\n",
      "('pred_class:', 2)\n",
      "('true_class:', 2)\n",
      "\n",
      "My friend and I took our kids to Branson, 2 fun filled days at White Water and Silver Dollar City. The location couldn't have been better and the staff was wonderful to us. I would recommend anyone to Comfort Inn West!\n",
      "('pred_class:', 2)\n",
      "('true_class:', 2)\n",
      "\n",
      "I have stayed at three out five of the Applecore hotels in New York City and this is one of my favorites. It is perfectly situated on 32nd St between 5th and 6th avenue in Korea Town just steps from a subway station. It takes just a few minutes to get to Rockefeller Center, Times Square and anywhere else you might want to go. My cousin lives way up on the west side and it is easy for me to get to his neighborhood by subway. It is a tourist mecca because it's right around the corner from the Empire State building and Macy's is practically across the street, but even if you don't plan to do \"touristy\" stuff, it's exceptionally convenient. If you think you can't afford to visit New York during the holidays, this is the place for you. It's not fancy and could definitely use some refurbishing, but if you simply want a clean, safe, convenient place to stay, La Quinta is a great. As others have said, the lobby is small and you can smell cooking odors from the restaurant next door, but there are many pros: Free computers downstairs, free breakfast (cereal, breads, fruit, and boiled eggs), free in-room safe, free wi-fi, etc. Also, there are a number of very inexpensive places to eat nearby - even late at night. Finally, if you're a woman traveling alone, this area feels very safe and comfortable. They have new mattresses since I stayed here in 2009 and they're very comfortable (memory foam). Rooms also have flat screen TVs (not that you'll spend much time watching it with all there is to do nearby) with lots of channels. This is not the Plaza, so if you are looking for a fancy, romantic place to stay, this isn't the place, but again, if you want to enjoy all that NYC has to offer during the holiday season, the La Quinta is very affordable.\n",
      "('pred_class:', 2)\n",
      "('true_class:', 2)\n",
      "\n",
      "just back three days ago from the big apple and stayed in the flatotel for 6 nights. not a bad thing to say about it except that one of the staff (a guy) tried to screw us to get a taxi to jersey gadens he wanted 300dollars for 6 of us. we went by bus and it cost something like 20dollars for two. Of course that is not the hotels fault he prob thought he wud make a quick buck from the gullable irish (but he was wrong). As for new york Oh my God it was fantastic. Deffo recommend the top of the rock (magic), Ellis island(an eye opener),Jersey gardens(Shopping),empire at night(breath taking), and ground Zero(a stillness and peaceful) and last but not least a horse and carriage in central park(romantic) 6 nights were brilliant would highly recommend that many nights if you cud. so much to see and do. bring plenty of bucks not as cheap as we thought but worth it all the same\n",
      "('pred_class:', 0)\n",
      "('true_class:', 2)\n",
      "\n",
      "I'm not sure why this hotel gets such good reviews. My experience was extremely unpleasant. The front desk person that checked me in was rude and condescending, My room stunk of cigarette smoke, there was no air conditioning, the wireless network rarely worked, and the place was dirty. I stayed in B Tower which hasn't been renovated, (at least I don't think it has) and maybe A Tower would have been better. Some of the staff were friendly and helpful, (the man that stored baggage was wonderful) but most of the staff tended to look right through you. The bartender in the afternoon was surly and rude. I will NEVER stay here again even though the location is perfect.\n",
      "('pred_class:', 0)\n",
      "('true_class:', 0)\n",
      "\n",
      "I was horrified when I checked in to this room. It smelt horrible, moldy and old. There was a two inch gap by the door so every night I had put a towel by the door to ensure things didn't crawl in. The walls were paper thin we were woken up at night when the neighbors came home. This place needs major renovation and updating. We gave notice, stayed two nights and moved across to the Comfort it. The comfort inn was friendly and the rooms were much better.\n",
      "('pred_class:', 0)\n",
      "('true_class:', 0)\n",
      "\n",
      "The parking is truly a problem, and there are maybe 2 luggage carts in the entire hotel. The hotel staff are rude. The stairways are covered in cigarette butts. We woke up one morning to find no running water available anywhere in the hotel. Another night, someone walked into my room and then walked out. When it rained, water came into our room from the window. We didn't get the room we requested when we made the reservation. The breakfast was the best part of this hotel, and it was just okay.\n",
      "('pred_class:', 2)\n",
      "('true_class:', 0)\n",
      "\n",
      "We just returned from an eight night stay at Cypress Harbour and we LOVED it! My husband and I stayed in the 2 bedroom villa with our two children ages 4 and 2. The villa was very spacious with a large living room/dining area, a smaller bedroom in the front with a queen bed and a pull out sofa and a bath with tub. There was a door that could close off the bedroom and bath making it it's own mini suite. The master had a king bed, whirlpool tub, double vanity and shower. There was also a laundry room w/ full size washer and dryer and there was a screened balcony. The beds were super comfy! We were in building #64 and the location could not have been better. It was right between the activity center and the bridge to the island pool. The full kitchen is great for preparing meals for the family. Everything you need is right there. A Publix grocery store is 5 minutes away, so stocking up is a breeze. The resort has a Pizza Hut express on site, which is nice for a quick snack when you are pool side and there was a restaurant called the Galley Grill that was very good as well. My husband loved the buffalo wings and ordered them quite a few times. The Marketplace store was great in the mornings for Starbucks coffee and Krispy Kreme donuts. They also sold all types of snacks, pool toys etc. The poolside bar was great as were the bartenders. The pools were very clean. There were three separate pool areas, the island pool, the clubhouse pool and the bayside pool. We never used the bayside pool, but it looked nice when we walked past. We spent our time at the other two pools and had a great time doing so. Our kids had a blast meeting other kids and playing in the pool. The grounds of the resort were so beautiful. I spent a lot of time walking around and exploring. It is situated on 48 acres and they are well cared for and manicured. There is an actual nature preserve on the property as well as an abundance of wildlife. We saw many different types of birds, lizards, and even spotted one of the resident gators who make the lake home. We did go on a nature tour given by the resort. Our guide, Justin, was very knowledgeable. The resort offers lots of activities to take part in. I took my 2 year old to toddler time, my husband and son took part in the fishing derby and we went to see the Royal Polynesian Show. These are only a few of the things they offer. You get an activity schedule when you check in, so you can plan what you want to do. Campfire smores was fun too!! The resort is located less than 5 minutes from Seaworld and less than 15 from Universal.. There is a trolley stop right in front of the resort, outside the main gate. We have stayed at the Harbour Lake resort across the street twice before, and decided to mix it up and stay at this property and were so glad we did!! We will be back next year for sure!\n",
      "('pred_class:', 2)\n",
      "('true_class:', 2)\n",
      "\n",
      "We really enjoyed our stay at the Bellagio. If you can, try to go for the fountain view rooms. It was amazing watching the fountains every night. Just be warned that the water cannons can be pretty loud at night if you are a light sleeper (the shows stop at midnight). The rooms weren't as \"outdated\" as I expected from reading other reviews. Also, complaints about having to walk through the casino to get to your room, the smoky casino, the expensive restaurants, etc....well, this is typical for a Vegas casino. Plus, how many 5 star hotels do you know of where you can stay for 140 a night?? Useful tips.... There is a CVS 2 blocks north of the Bellagio where you can buy water, beer, treats, etc for very reasonable prices! (the water in the Bellagio room cost $7 if you took it). Also, during the day there are mexicans on the skywalks that cross many of the main roads that are selling water for $1 a bottle. We didn't go to any of the Bellagio restaurants, but there are lots of reasonably priced places all around (California Pizza Kitchen, Outback, etc.). Check out the \"Tix 4 Tonight\" booths where you can buy half price shows, exhibits and restaurant tickets.\n",
      "('pred_class:', 2)\n",
      "('true_class:', 2)\n",
      "\n",
      "Very nice hotel in a good location. The price was reasonable, pool was awesome and on-site restaurants were nice. There are also many other dining options in walking distance.\n",
      "('pred_class:', 2)\n",
      "('true_class:', 2)\n",
      "\n",
      "we stayed 10/8 & 10/9/11 our room was fabulous... the pool was great. Quite a walk from m&m store and coke store... weather was fine, very windy. We saw Garth Brooks at the Wynn. His first 45 minutes was a lot of stories of what influenced his music, and then he sang a few songs...\n",
      "('pred_class:', 2)\n",
      "('true_class:', 2)\n",
      "\n",
      "I just spent a portion of my honeymoon at XV Beacon and I regret having made the reservation. Upon check-in, our room had a broken switch for the fireplace, the glass on the fireplace was covered in soot, the small tv in the bathroom was hanging out its wall mount by its own wiring, the bathrobe had a tennis-ball sized hole in the armpit, the blanket on the duvet had a hole in it, the curtain rod detached upon contact, the bottom-drawn window shade detached upon contact, and the curtain on the wall had a large tear. I am not kidding. In the days that followed, room service got our breakfast order wrong three consecutive mornings as well as one evening, our room was rarely turned down in the evening despite requesting it again and again, the drain in the bathtub was malfunctioning to the point where we showered up to our ankles every morning in water despite repeated requests to fix the problem, nobody at the front desk wished us a happy honeymoon, one front desk clerk still didn't know our name or room number despite a six night stay, the teapots from room service were always badly chipped, and worst of all we returned one evening to our room to find that the stereo components had been pulled halfway off their shelf with their cords yanked out. We wrote a polite letter to the GM halfway through our stay that went unanswered for a day and a half until my travel agent called and addressed him. Only then did he send a note to us, but he failed to ever apologize and he never followed-up on making personal contact despite promising to do so. He did send us a bottle of sparking wine -- wow. When we checked out, our bill included 5 breakfasts despite the fact that breakfast was included. Don't believe the hype about this hotel -- they don't care, they are not enthusiastic or proud of their jobs, and their leadership is clearly lacking. For $400 per night, do yourself a favor and head elsewhere -- unless you want to be treated like you don't count because that's how we were made to feel...and we were on our honeymoon!\n",
      "('pred_class:', 2)\n",
      "('true_class:', 0)\n",
      "\n",
      "Small rooms, dusty, some cigarettes and ashes found under the bed, expensive Internet access... I would'nt recoommend this hotel.\n",
      "('pred_class:', 0)\n",
      "('true_class:', 0)\n",
      "\n",
      "We stayed in the Hyatt for 1 night prior to our cruise. For one night and the price we paid (quite low) - it was ok - but I wouldnt want to spend more than 1 night there. The restaurant - overpriced - better to take a little walk to the people mover and go to Bayside or McDonlads. Decor - similar to what other reviewers noted - for a place that was just recently reno-ed - it look like a throw back to the 80's; dusty (beds were comfy though). Our balcony window was sealed shut. Any ways - for one night not bad, for anymore...I would rethink\n",
      "('pred_class:', 2)\n",
      "('true_class:', 1)\n",
      "\n",
      "Sheraton Waikiki - AWESOME!!! LOCATION, LOCATION, LOCATION Stayed for 7 nights in late July 2008 and enjoyed the Sheraton Waikiki very much. All regular rooms are updated and they are working on refurbishing some suites. The rooms, as many have stated, are very nice with modern furnishings. We had a partial ocean view which faced the Halekulani hotel next door. Hotel has 10 elevators and we never waited more than 2 mintues for one. Room was a nice size due to the absence of a dresser. In its place, the closet is neatly organized with many cubbie holes for clothes. Bathrooms are small, but nice too! Maid service was spotty and that is why the docking one bullet hole. Maid service did not clean are room twice as scheduled and had to be called later in the afternoon to be cleaned.Must do's:-Buy the Entertainment.com Hawaii book before you go and SAVE, SAVE, SAVE!!!-Have a drink anyday 4-6, but especially Wednesday (all 50% off)at RumFire, really nice and a good thing to do on your arrival day before dinner.-Have dinner or appetizers and drinks at the Room Without A Key next door at the Halekulani. Exceptional waiter service and good food. We had the Spaghetti with meat sauce and the Chicken Ceasar, they even grilled the Chicken for my wife upon request.-Visit the Hula Grill, located in the Outrigger Waikiki right past the Pink Palace in front of Waikiki Beach between 4-6. They have 3.75 - 4.25 drink specials and an amazing Foccacia Chicken Sandwhich with fries for under $7.00. Many other discounted pupus as well, check it out. -Visit Duke's Barefoot Bar as many times as you can, the place is awesome and reasonably priced too. All times of the day, many drinks starting at $6.75. The atmosphere is top notch too, always packed and lots of happy people. Drinks are strong!!! Try the Tropical Itch and the Hawaiian Island Ice Tea!!!-Do all your shopping at the Int'l Marketplace right down Kalakaua Ave- Stop at Hanauma Bay and snorkel the day away, it is so beautiful. Take the #22 TheBus to get there. Parking is always full so heed the warning.-Check out the Kalakaua Ave nightime entertainment, they have a silver guy, a gold guy and the best of all the Newspaper machet guy! -Have the Sheraton concierge reserve you a convertible Mustang from the Budget rent a car located in the Hyatt Waikiki and drive up the shore past Diamond Head, Hanauma Bay, up to the North Shore. Make sure to check out Kailua Beach and Lanikai Beach right next door. Calm waters and you can rent a Kayak and go out to one or two islands. We went to flat island and it was incredible. Rented from a little shop before you get to Kailua Beach. Right next to a Shaved Ice shop, they wear yellow shirts. Very professional shop.-Stop and check out the Turtle Bay Resort, it is beautiful. They have their own coral reef, surfing on the other side and just amazing location. -Drive into Haleiwa and stop at Macky's world famous Shirmp Truck, you can't miss it. It is all the way through the town right next to a 7-11 store or if you come in down the middle of Oahu, it will be the first stop in Haleiwa. We had the Butter  Garlic Shrimp and the Fried Coconut Shrimp. The most amazing meal we had and we had some fancy one's too. About 8 fresh jumbo sized shrimp, freshly cooked, with two heaps of rice, fresh salad and a pineapple wedge. Yummy, I want to go back.-Watch the sunset in Haleiwa Beach after you eat at Mackey's and feast your eyes on the massive Mt. Ka'ala to the left and the beautiful Hawaii sunset straight ahead. Ahhhhhhh.......- Go Parasailing with Hawaiian Parasail - great group and you can get buy one get one free with the Entertainment.com Hawaii book.I can't say enough about our trip, but don't miss out. Feel free to contact me if you have any questions.\n",
      "('pred_class:', 2)\n",
      "('true_class:', 2)\n",
      "\n",
      "Very beautiful hotel with an amazing lobby! Nice and spicey bloody marys at the lobby bar :) We stayed on one of the 'executive' floors and I really recommend doing so! They have a few separate elevators specifically for the executive level floors, so you don't end up waiting long at all -and you get breakfast and apps on the 23rd floor. Perfect location as well!\n",
      "('pred_class:', 2)\n",
      "('true_class:', 2)\n",
      "\n",
      "Stayed for 3 nights in May. We had a double double room on 6th floor overlooking the pool. The room was clean and comfortable. Bathroom small. It took the hot water 5 minutes (yes 5 minutes!) to travel along the plumbing to our room. We called the reception and someone came to our room and told us yes thats right it will take 5 minutes. (What a waste of water) The hotel was well located although a little seedy area. I felt safe being across the road from the Police station. There is a great Deli next door to the hotel. The heating the the room was great, although there was no fridge. We paid $160 pn for Thur & Friday and $195 for Saturday night. Location is great - only 10 min walk to Times Square.\n",
      "('pred_class:', 2)\n",
      "('true_class:', 2)\n",
      "\n",
      "My family and I previously had stayed at this resort in 1998 when it was still operated by Aston. We had good memories of the place and booked another \"budget\" vacation stay there. I spent extra for an upgraded room which was tolerable but sorely in need of a bit of updating. The AC was not working at all when we arrived; After alerting hotel they repaired, but it barely worked and was noisy. My family and I enjoy swimming and time by pool and beach. Their pool was not warm and in such terrible condition that we didn't use it. After two days we decided that we could no longer stay at Kaanapali Villas, especially having been placed in a room near an area of wall sanding and painting. We had to cross through the area of remodel anytime we left the room and had to breath the dust. The elevator also was out of operation on our second day making the six floor climb, with our groceries and beach gear, an extra pain. We moved the remainder of our stay to another ResortQuest Hotel at Kaanapali Shores where we found a much cleaner, updated, and finer looking property.\n",
      "('pred_class:', 2)\n",
      "('true_class:', 0)\n",
      "\n",
      "I'd stay here again. I read reviews posted here before we booked. But despite the warnings, the $50/night Internet rate couldn't be beat...and my wife and I (I'm an American -- she's Japanese if it matters to you) decided that ultimately, we'd be sending the majority of our time NOT at a hotel anyway. Parking? It's valet parking. They do the parking and retrieving. Zero problems for us.Noise? We were on the 12th floor across from Nike Town. Zero noise. In the morning, we could hear the buses below and some sidewalk construction.Breakfast? As with other cheap hotels, bought pastries, hot coffee, some juice and toast upon request. The service? Everyone was friendly and helpful. Location? Though it took about 20 minutes, we walked from the New Otani hotel on the Diamond Head side of Waikiki to the Waikiki Gateway...that's basically from one end of Waikiki to the other. It's not far from anything. The Bus to the Ala Moana shopping center is right outside the front door, and the Bus to Diamond Head is just across the street.If we got the same rate or close to it, we'd stay there again. At a higher rate, perhaps we'd look for a hotel even more central with a better view and perhaps a fresher continental breakfast...but, hey, going budget is going budget.Have a good trip.\n",
      "('pred_class:', 2)\n",
      "('true_class:', 2)\n",
      "\n",
      "This was our first stay at the Hotel Monteleone. We enjoyed it so much that it well be our go-to place for all our future trips to New Orleans. The hotel is lovely, extremely clean and full of amenities: supercomfortable bed, well-equipped fitness room, rooftop heated pool even in winter, excellent service. The cafe offers an excellent breakfast buffet that is delicious and extensive with many food choices. The famous Carousel bar and lounge is hopping and services great cocktails. And the location, right at the entrance to the French Quarter on Royal St, is ideal. One tip for your trip: no need to rent a car as a taxi from the airport (standard fee) is cheaper and faster than an airport shuttle, and since you can walk easily walk to everything, you also avoid the hotel parking fee! Do take the walking tours and guided tours that are great sources of the history of this great town.\n",
      "('pred_class:', 2)\n",
      "('true_class:', 2)\n",
      "\n",
      "We wanted to treat ourselves to a 36th Wedding Anniversary and stay in a luxury hotel. We always liked visiting the Solarium at the Bellagio and always enjoyed the great buffet. So staying at the Bellagion Hotel was the natural perfect choice. Daily maid service was never intrusive and room was always clean, neat and fresh. Never any bad or musky ordors. Checking in was simple, fast, curteous and very friendly but respectful. For some, this would be just an okay place. But for us, it was a very special and memorable 36th anniversary celebration.\n",
      "('pred_class:', 2)\n",
      "('true_class:', 2)\n",
      "\n",
      "I went with a group of girlfriends and we had a great time. The rooms were a good size and a great value. The hotel was clean, the bathroom was pretty big and the beds are really comfortable. Treasure Island is right in the middle of the strip, so it was easy to get everywhere. We ate at the buffet and Canters deli. Both were really good. The pool area was fun too, they had music playing. It's really crowded though, we couldn't all sit next to eachother. The pirate show was pretty cool, if a little cheesy. This was my first trip to Vegas so everything was exciting. We actually saw the show from outside and then again from inside Christian Audiger. This is definitely a better view if you want to see the guy's ship.\n",
      "('pred_class:', 2)\n",
      "('true_class:', 2)\n",
      "\n",
      "Wow..Staff rude from check in to check out. Room unsafe and dirty, balcony railing loose, no smoke alarm.. just wires sticking out of the wall. Hotel room phone did not work. Bath Towels smelled like old wet socks. Bathroom shower had 2 H labels faucets..I found out after I got scalded. The worst part of the experience was the manager and staff..Their attitude..They could not care less if one's room is in working order or not. No offer of apology or monetary refund. Place is overpriced for what one can truly get for 100 bucks a night. We were here on a family reunion. They lost another family members reservation..once again no apology no cares, in fact they threatened to have her arrested when she complained..We were told by management \"Not our problem..it's your problem\" even though they had written confirmation. The unprofessionalism exhibited by the staff was an all time high witnessed by me.\n",
      "('pred_class:', 0)\n",
      "('true_class:', 0)\n",
      "\n",
      "Stayed 4 nights at the beginning of November after 3 nights in Las Vegas. Arrived at hotel and requested non smoking quiet room, we were given a tiny double room at top of building which stunk of smoke, went back to reception and he then moved us to another double room on 3rd floor which was slightly larger, smoke free but not enough room to turn in the bathroom and really dark and old fashioned. Again we went back to reception and asked about Club Rooms which I had read about on web site, he let us have a look at one and we took it. It was a lot better than the others, the room itself was big with a very comfortable bed and overlooked the swimming pool. The bathroom again left a lot to be desired and was very small but we had a small dressing area outside it so overcame that problem. The common areas of the hotel away from reception look pretty worn and tatty. The concierge was the most unhelpful person I know he did not seem to know what was going on anywhere or be able to advise on anything we wanted to know. The restaurant next door called Daily Grill serves some good food and not too pricey and always busy with good atmosphere. If you want a real American blow out breakfast suggest you go to Mama's by Washington Square. Overall the location is excellent you are right by all the transport and shops but the hotel is very average and not what we expected from an American hotel.\n",
      "('pred_class:', 2)\n",
      "('true_class:', 0)\n",
      "\n",
      "Unfortunately it was NOT what some reviews said. To start off the location is great but not the hotel itself. The rooms are very beaten up, the air conditioner unit is very noisy, there is great humidity which leads to mold, which is visible in bedroom and the bathroom walls, and not to even mention the smell of the room was just unbearable. The closet hangers are embarrassing- old abused-wire dry cleaning hangers, the door handle was broken. Every time we opened the door the handle would fall on our feet. I did let the front desk know, but there was nothing they could do about it, and no offer of any option to reacommodate us or look for a solution.\n",
      "('pred_class:', 0)\n",
      "('true_class:', 0)\n",
      "\n",
      "Great Hotel! Good Location! I stayed at the Embassy Suites in Washington DC from October 10th until October 12th 2007. This is the Embassy Suites around M and 22nd Street - not to be confused with Embassy Suites Convention Center. I did not stay there.I would stay at this hotel again. It was great. We had a very large room with a queen bed. 2 tvs, one in the bedroom and one in the lounge area. A large eating table which would double as a work desk. A good sized bathroom and 3 sinks! one in the bathroom, a bar sink in the lounge and another sink in the bed room. There was a bar fridge, coffee maker and I think a microwave as well. The room was very clean and the service was excellent. you can self park on the property as well which we did and it has in and out privilages. there is free internet access in the hotel - so even if you don't bring your notebook with you there are kiosks in the reception area you can use. There is a decent gym too.I was pleased with the room and with the service. they called us when we got to the room to ask us if everything was ok. Our fridge started to leak so I called down and they came up immediately, changed the sink and dried the carpet for us.you get a free breakfast which you have lots to choose from. I'm a picky breakfast eater so I wasn't nuts about what they had but I still found something. they have fruit, yougurt, hard boiled eggs, cooked to order omlets (I found them kind of greesy and the mushrooms are canned so I didn't care for it), make your own waffles, pancakes, cereal, juice, bacon, scrambled eggs, etc. Location wise, this place is great. you're close to Dupont circle metro and close to Foggy Bottom. you're walking distance from George Town were all the stores are. you're walking distance from the white house too. Actually we walked to all monuments - some were a bit of a far walk but it's doable (could be up to a 45 min to 1 hr walk). But if you don't want to walk to some of those further sites, pop on the metro and you're there in minutes.In terms of food, I read one comment that there wasn't much around there. Actually there is lots of food around there, you need to stay on M street there is lots of food there.\n",
      "('pred_class:', 2)\n",
      "('true_class:', 2)\n",
      "\n",
      "The rooms were lovely, but the hotel was massive. Too big to get anywhere in less than 20 minutes. To get to anywhere you have to go through the casino, and in theory I can understand that since that's the lure, it makes sense. But... who wants to walk through a casino clad in a swim suit and towel to get to the spa, pool or hot tub. There are more than 20 restaurants in the hotel, and lots and stores and shops. For those that don't mind the massiveness, again the rooms are very nice. Take your walking shoes - you'll need them just to maneuver through this behemoth!\n",
      "('pred_class:', 2)\n",
      "('true_class:', 1)\n",
      "\n",
      "We stayed here in May. One of the best hotels we have stayed at in Vegas. It is an all suite hotel and the setup made us feel right at home. Great upscale decor with a modern flare. We have stayed at many hotels on the strip including Venetian and this is way better. We also stayed at Four Seasons in the same complex and all though we have never found anything that can beat the Four Seasons service, we would prefer THEhotel because of the suite. Downstairs, the vibe is excellent. There is no hint of the casino in the lobby, just a modern, chic atmosphere. In fact, you don't even see the hotel reception unless you walk to the back. Just a nice ambience and cool place to hangout. Definitely recommend THEhotel.\n",
      "('pred_class:', 2)\n",
      "('true_class:', 2)\n",
      "\n",
      "typical of the Las Vegas glitter, the MGM grand does not disappoint. We spent the night in a comfortable room, walked the strip at night and tasted the food this modern hotel had to offer. The staff was eager to please and upgraded our room when the one we were in was too smoky for us. It had a beautiful foyer and casino that was always buzzing with actiivity\n",
      "('pred_class:', 2)\n",
      "('true_class:', 2)\n",
      "\n"
     ]
    }
   ],
   "source": [
    "ids_of_titles = range(0,100) # range(X_test.shape[0]) \n",
    "\n",
    "for i in ids_of_titles:\n",
    "    pred_class = np.argmax(model.predict([X_test_padded_seqs[i]]))\n",
    "    true_class = np.argmax(y_test[i])\n",
    "    \n",
    "    print(X_test.values[i])\n",
    "    print('pred_class:', le.inverse_transform(pred_class))\n",
    "    print('true_class:', le.inverse_transform(true_class))\n",
    "    print('')"
   ]
  }
 ],
 "metadata": {
  "anaconda-cloud": {},
  "kernelspec": {
   "display_name": "Python [conda env:cs670]",
   "language": "python",
   "name": "conda-env-cs670-py"
  },
  "language_info": {
   "codemirror_mode": {
    "name": "ipython",
    "version": 2
   },
   "file_extension": ".py",
   "mimetype": "text/x-python",
   "name": "python",
   "nbconvert_exporter": "python",
   "pygments_lexer": "ipython2",
   "version": "2.7.13"
  }
 },
 "nbformat": 4,
 "nbformat_minor": 1
}
