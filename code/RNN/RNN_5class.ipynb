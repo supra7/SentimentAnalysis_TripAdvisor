{
 "cells": [
  {
   "cell_type": "code",
   "execution_count": 1,
   "metadata": {
    "collapsed": true
   },
   "outputs": [],
   "source": [
    "import sys\n",
    "import tensorflow as tf\n",
    "import json\n",
    "import os\n",
    "n_epoch = 3\n",
    "import pandas as pd"
   ]
  },
  {
   "cell_type": "code",
   "execution_count": 2,
   "metadata": {
    "collapsed": false
   },
   "outputs": [
    {
     "name": "stdout",
     "output_type": "stream",
     "text": [
      "1326\n"
     ]
    }
   ],
   "source": [
    "import csv\n",
    "from pandas.io.json import json_normalize\n",
    "dirs = os.listdir(\"Downloads/json/\")\n",
    "print len(dirs)\n",
    "with open('tripadv.csv','wb') as f:\n",
    "    writer = csv.writer(f)\n",
    "    writer.writerow([\"Ratings\",\"Content\"])\n",
    "    for filename in dirs:\n",
    "        with open('Downloads/json/'+filename) as fi:\n",
    "            \n",
    "            try:\n",
    "                d = json.load(fi)\n",
    "            except:\n",
    "                d={}\n",
    "                d[\"Reviews\"] = []\n",
    "        for x in d[\"Reviews\"]:\n",
    "            if float(x[\"Ratings\"][\"Overall\"]) in [1.0,2.0,3.0,4.0,5.0]:\n",
    "                writer.writerow([float(x[\"Ratings\"][\"Overall\"].encode('utf-8')),x[\"Content\"].encode('utf-8')])"
   ]
  },
  {
   "cell_type": "code",
   "execution_count": 5,
   "metadata": {
    "collapsed": false
   },
   "outputs": [
    {
     "data": {
      "text/html": [
       "<div>\n",
       "<table border=\"1\" class=\"dataframe\">\n",
       "  <thead>\n",
       "    <tr style=\"text-align: right;\">\n",
       "      <th></th>\n",
       "      <th>Ratings</th>\n",
       "      <th>Content</th>\n",
       "    </tr>\n",
       "  </thead>\n",
       "  <tbody>\n",
       "    <tr>\n",
       "      <th>0</th>\n",
       "      <td>5.0</td>\n",
       "      <td>Usually stay near the airport, but this trip w...</td>\n",
       "    </tr>\n",
       "    <tr>\n",
       "      <th>1</th>\n",
       "      <td>4.0</td>\n",
       "      <td>Stayed at this Hilton for 2 nights. It was lik...</td>\n",
       "    </tr>\n",
       "    <tr>\n",
       "      <th>2</th>\n",
       "      <td>4.0</td>\n",
       "      <td>Stayed there one night, December 16, on the wa...</td>\n",
       "    </tr>\n",
       "    <tr>\n",
       "      <th>3</th>\n",
       "      <td>5.0</td>\n",
       "      <td>I just stayed here last weekend and have alrea...</td>\n",
       "    </tr>\n",
       "    <tr>\n",
       "      <th>4</th>\n",
       "      <td>5.0</td>\n",
       "      <td>My mother who is 90 and I stayed one night on ...</td>\n",
       "    </tr>\n",
       "    <tr>\n",
       "      <th>5</th>\n",
       "      <td>4.0</td>\n",
       "      <td>A fabulous stop. Clean, friendly, excellent lo...</td>\n",
       "    </tr>\n",
       "    <tr>\n",
       "      <th>6</th>\n",
       "      <td>4.0</td>\n",
       "      <td>I stopped here just for the night on a road tr...</td>\n",
       "    </tr>\n",
       "    <tr>\n",
       "      <th>7</th>\n",
       "      <td>4.0</td>\n",
       "      <td>Great spot close to shops and dinning but perh...</td>\n",
       "    </tr>\n",
       "    <tr>\n",
       "      <th>8</th>\n",
       "      <td>4.0</td>\n",
       "      <td>My husband and I go to Baltimore often as he h...</td>\n",
       "    </tr>\n",
       "    <tr>\n",
       "      <th>9</th>\n",
       "      <td>5.0</td>\n",
       "      <td>Super clean. Great hotel to stay at. We actual...</td>\n",
       "    </tr>\n",
       "  </tbody>\n",
       "</table>\n",
       "</div>"
      ],
      "text/plain": [
       "   Ratings                                            Content\n",
       "0      5.0  Usually stay near the airport, but this trip w...\n",
       "1      4.0  Stayed at this Hilton for 2 nights. It was lik...\n",
       "2      4.0  Stayed there one night, December 16, on the wa...\n",
       "3      5.0  I just stayed here last weekend and have alrea...\n",
       "4      5.0  My mother who is 90 and I stayed one night on ...\n",
       "5      4.0  A fabulous stop. Clean, friendly, excellent lo...\n",
       "6      4.0  I stopped here just for the night on a road tr...\n",
       "7      4.0  Great spot close to shops and dinning but perh...\n",
       "8      4.0  My husband and I go to Baltimore often as he h...\n",
       "9      5.0  Super clean. Great hotel to stay at. We actual..."
      ]
     },
     "execution_count": 5,
     "metadata": {},
     "output_type": "execute_result"
    }
   ],
   "source": [
    "import pandas as pd\n",
    "df = pd.read_csv('out.csv')\n",
    "df.head(10)"
   ]
  },
  {
   "cell_type": "code",
   "execution_count": 6,
   "metadata": {
    "collapsed": false
   },
   "outputs": [
    {
     "data": {
      "text/plain": [
       "0    5.0\n",
       "1    4.0\n",
       "2    4.0\n",
       "3    5.0\n",
       "4    5.0\n",
       "5    4.0\n",
       "6    4.0\n",
       "7    4.0\n",
       "8    4.0\n",
       "9    5.0\n",
       "Name: Ratings, dtype: float64"
      ]
     },
     "execution_count": 6,
     "metadata": {},
     "output_type": "execute_result"
    }
   ],
   "source": [
    "X = df.Content\n",
    "y = df.Ratings\n",
    "X.head(10)\n",
    "y.head(10)"
   ]
  },
  {
   "cell_type": "code",
   "execution_count": 24,
   "metadata": {
    "collapsed": false
   },
   "outputs": [],
   "source": [
    "def get_positive_or_negative_classes_two_classes(y):\n",
    "    return y.apply(lambda val: 0 if val<=2 else 1)\n",
    "def get_positive_or_negative_classes_three_classes(y):\n",
    "    return y.apply(lambda val: 0 if val<=2 else 2 if val > 3 else 1)\n",
    "def get_positive_or_negative_classes_five_classes(y):\n",
    "    return y.apply(lambda val: 0 if val=='' else val)"
   ]
  },
  {
   "cell_type": "code",
   "execution_count": 7,
   "metadata": {
    "collapsed": false
   },
   "outputs": [],
   "source": [
    "import tflearn\n",
    "from tflearn.data_utils import to_categorical, pad_sequences\n",
    "from sklearn.model_selection import train_test_split\n",
    "X_train, X_test, y_train, y_test = train_test_split(X, y, test_size=0.1, random_state=42)\n",
    "y_train = get_positive_or_negative_classes_five_classes(y_train)\n",
    "y_test = get_positive_or_negative_classes_five_classes(y_test)"
   ]
  },
  {
   "cell_type": "code",
   "execution_count": 10,
   "metadata": {
    "collapsed": true
   },
   "outputs": [],
   "source": [
    "import string\n",
    "from sklearn.feature_extraction.text import CountVectorizer\n",
    "vect = CountVectorizer(ngram_range=(1,1), token_pattern=r'\\b\\w{1,}\\b')"
   ]
  },
  {
   "cell_type": "code",
   "execution_count": 11,
   "metadata": {
    "collapsed": false
   },
   "outputs": [
    {
     "data": {
      "text/plain": [
       "132362"
      ]
     },
     "execution_count": 11,
     "metadata": {},
     "output_type": "execute_result"
    }
   ],
   "source": [
    "vect.fit(X_train)\n",
    "vocab = vect.vocabulary_\n",
    "len(vocab)"
   ]
  },
  {
   "cell_type": "code",
   "execution_count": 8,
   "metadata": {
    "collapsed": true
   },
   "outputs": [],
   "source": [
    "def convert_X_to_X_word_ids(X):\n",
    "    return X.apply( lambda x: [vocab[w] for w in [w.lower().strip() for w in x.split()] if w in vocab] )"
   ]
  },
  {
   "cell_type": "code",
   "execution_count": 15,
   "metadata": {
    "collapsed": false
   },
   "outputs": [],
   "source": [
    "X_train_word_ids = convert_X_to_X_word_ids(X_train)\n",
    "X_test_word_ids  = convert_X_to_X_word_ids(X_test)\n"
   ]
  },
  {
   "cell_type": "code",
   "execution_count": 16,
   "metadata": {
    "collapsed": false
   },
   "outputs": [
    {
     "data": {
      "text/plain": [
       "87742     [61869, 117272, 96328, 91452, 103347, 53053, 6...\n",
       "178022    [20262, 102137, 130008, 14055, 80615, 73925, 6...\n",
       "214335    [57226, 4595, 118614, 126568, 117939, 127793, ...\n",
       "115399    [128249, 112180, 117939, 61869, 43304, 118986,...\n",
       "45982     [128249, 55082, 86553, 85218, 37384, 10077, 12...\n",
       "Name: Content, dtype: object"
      ]
     },
     "execution_count": 16,
     "metadata": {},
     "output_type": "execute_result"
    }
   ],
   "source": [
    "X_train_word_ids.head()"
   ]
  },
  {
   "cell_type": "code",
   "execution_count": 17,
   "metadata": {
    "collapsed": false
   },
   "outputs": [
    {
     "data": {
      "text/plain": [
       "87742     Ancient, Budget-Minded Hotel The Ramada Plaza ...\n",
       "178022    Beautiful rooms with american movie memorabili...\n",
       "214335    Great 1st Time Visit This was my first visit t...\n",
       "115399    We stayed this hotel due to a flight cancellat...\n",
       "45982     We gave our olders daughter a trip to New York...\n",
       "Name: Content, dtype: object"
      ]
     },
     "execution_count": 17,
     "metadata": {},
     "output_type": "execute_result"
    }
   ],
   "source": [
    "X_train.head()"
   ]
  },
  {
   "cell_type": "code",
   "execution_count": 18,
   "metadata": {
    "collapsed": true
   },
   "outputs": [],
   "source": [
    "X_train_padded_seqs = pad_sequences(X_train_word_ids, maxlen=20, value=0)\n",
    "X_test_padded_seqs  = pad_sequences(X_test_word_ids , maxlen=20, value=0)"
   ]
  },
  {
   "cell_type": "code",
   "execution_count": 69,
   "metadata": {
    "collapsed": false
   },
   "outputs": [
    {
     "name": "stdout",
     "output_type": "stream",
     "text": [
      "('X_train_padded_seqs.shape:', (249481, 20))\n",
      "('X_test_padded_seqs.shape:', (27721, 20))\n"
     ]
    }
   ],
   "source": [
    "print('X_train_padded_seqs.shape:', X_train_padded_seqs.shape)\n",
    "print('X_test_padded_seqs.shape:', X_test_padded_seqs.shape)"
   ]
  },
  {
   "cell_type": "code",
   "execution_count": 11,
   "metadata": {
    "collapsed": false
   },
   "outputs": [
    {
     "data": {
      "text/html": [
       "<div>\n",
       "<table border=\"1\" class=\"dataframe\">\n",
       "  <thead>\n",
       "    <tr style=\"text-align: right;\">\n",
       "      <th></th>\n",
       "      <th>0</th>\n",
       "      <th>1</th>\n",
       "      <th>2</th>\n",
       "      <th>3</th>\n",
       "      <th>4</th>\n",
       "      <th>5</th>\n",
       "      <th>6</th>\n",
       "      <th>7</th>\n",
       "      <th>8</th>\n",
       "      <th>9</th>\n",
       "      <th>10</th>\n",
       "      <th>11</th>\n",
       "      <th>12</th>\n",
       "      <th>13</th>\n",
       "      <th>14</th>\n",
       "      <th>15</th>\n",
       "      <th>16</th>\n",
       "      <th>17</th>\n",
       "      <th>18</th>\n",
       "      <th>19</th>\n",
       "    </tr>\n",
       "  </thead>\n",
       "  <tbody>\n",
       "    <tr>\n",
       "      <th>0</th>\n",
       "      <td>117940</td>\n",
       "      <td>27635</td>\n",
       "      <td>14806</td>\n",
       "      <td>100844</td>\n",
       "      <td>16499</td>\n",
       "      <td>129388</td>\n",
       "      <td>126708</td>\n",
       "      <td>63449</td>\n",
       "      <td>61002</td>\n",
       "      <td>98215</td>\n",
       "      <td>44384</td>\n",
       "      <td>17548</td>\n",
       "      <td>117940</td>\n",
       "      <td>43140</td>\n",
       "      <td>83959</td>\n",
       "      <td>117940</td>\n",
       "      <td>52758</td>\n",
       "      <td>14806</td>\n",
       "      <td>17679</td>\n",
       "      <td>129388</td>\n",
       "    </tr>\n",
       "    <tr>\n",
       "      <th>1</th>\n",
       "      <td>0</td>\n",
       "      <td>0</td>\n",
       "      <td>0</td>\n",
       "      <td>0</td>\n",
       "      <td>0</td>\n",
       "      <td>0</td>\n",
       "      <td>0</td>\n",
       "      <td>0</td>\n",
       "      <td>0</td>\n",
       "      <td>0</td>\n",
       "      <td>0</td>\n",
       "      <td>0</td>\n",
       "      <td>0</td>\n",
       "      <td>0</td>\n",
       "      <td>0</td>\n",
       "      <td>0</td>\n",
       "      <td>0</td>\n",
       "      <td>0</td>\n",
       "      <td>0</td>\n",
       "      <td>0</td>\n",
       "    </tr>\n",
       "    <tr>\n",
       "      <th>2</th>\n",
       "      <td>51666</td>\n",
       "      <td>63449</td>\n",
       "      <td>14170</td>\n",
       "      <td>84176</td>\n",
       "      <td>10430</td>\n",
       "      <td>28576</td>\n",
       "      <td>62322</td>\n",
       "      <td>58600</td>\n",
       "      <td>17548</td>\n",
       "      <td>25872</td>\n",
       "      <td>63749</td>\n",
       "      <td>81749</td>\n",
       "      <td>50547</td>\n",
       "      <td>23913</td>\n",
       "      <td>62322</td>\n",
       "      <td>67114</td>\n",
       "      <td>110215</td>\n",
       "      <td>87187</td>\n",
       "      <td>64574</td>\n",
       "      <td>63449</td>\n",
       "    </tr>\n",
       "    <tr>\n",
       "      <th>3</th>\n",
       "      <td>63749</td>\n",
       "      <td>132436</td>\n",
       "      <td>65988</td>\n",
       "      <td>85956</td>\n",
       "      <td>56872</td>\n",
       "      <td>119676</td>\n",
       "      <td>126271</td>\n",
       "      <td>63449</td>\n",
       "      <td>131441</td>\n",
       "      <td>104520</td>\n",
       "      <td>119299</td>\n",
       "      <td>59703</td>\n",
       "      <td>89264</td>\n",
       "      <td>117940</td>\n",
       "      <td>21252</td>\n",
       "      <td>39522</td>\n",
       "      <td>85956</td>\n",
       "      <td>129653</td>\n",
       "      <td>132436</td>\n",
       "      <td>118618</td>\n",
       "    </tr>\n",
       "    <tr>\n",
       "      <th>4</th>\n",
       "      <td>63749</td>\n",
       "      <td>132436</td>\n",
       "      <td>82930</td>\n",
       "      <td>75287</td>\n",
       "      <td>132522</td>\n",
       "      <td>128890</td>\n",
       "      <td>119676</td>\n",
       "      <td>117940</td>\n",
       "      <td>129480</td>\n",
       "      <td>132436</td>\n",
       "      <td>79726</td>\n",
       "      <td>87187</td>\n",
       "      <td>85956</td>\n",
       "      <td>10430</td>\n",
       "      <td>27635</td>\n",
       "      <td>117940</td>\n",
       "      <td>72978</td>\n",
       "      <td>130345</td>\n",
       "      <td>82930</td>\n",
       "      <td>20370</td>\n",
       "    </tr>\n",
       "  </tbody>\n",
       "</table>\n",
       "</div>"
      ],
      "text/plain": [
       "       0       1      2       3       4       5       6       7       8   \\\n",
       "0  117940   27635  14806  100844   16499  129388  126708   63449   61002   \n",
       "1       0       0      0       0       0       0       0       0       0   \n",
       "2   51666   63449  14170   84176   10430   28576   62322   58600   17548   \n",
       "3   63749  132436  65988   85956   56872  119676  126271   63449  131441   \n",
       "4   63749  132436  82930   75287  132522  128890  119676  117940  129480   \n",
       "\n",
       "       9       10     11      12      13     14      15      16      17  \\\n",
       "0   98215   44384  17548  117940   43140  83959  117940   52758   14806   \n",
       "1       0       0      0       0       0      0       0       0       0   \n",
       "2   25872   63749  81749   50547   23913  62322   67114  110215   87187   \n",
       "3  104520  119299  59703   89264  117940  21252   39522   85956  129653   \n",
       "4  132436   79726  87187   85956   10430  27635  117940   72978  130345   \n",
       "\n",
       "       18      19  \n",
       "0   17679  129388  \n",
       "1       0       0  \n",
       "2   64574   63449  \n",
       "3  132436  118618  \n",
       "4   82930   20370  "
      ]
     },
     "execution_count": 11,
     "metadata": {},
     "output_type": "execute_result"
    }
   ],
   "source": [
    "pd.DataFrame(X_train_padded_seqs).head()\n"
   ]
  },
  {
   "cell_type": "code",
   "execution_count": 12,
   "metadata": {
    "collapsed": false
   },
   "outputs": [
    {
     "data": {
      "text/html": [
       "<div>\n",
       "<table border=\"1\" class=\"dataframe\">\n",
       "  <thead>\n",
       "    <tr style=\"text-align: right;\">\n",
       "      <th></th>\n",
       "      <th>0</th>\n",
       "      <th>1</th>\n",
       "      <th>2</th>\n",
       "      <th>3</th>\n",
       "      <th>4</th>\n",
       "      <th>5</th>\n",
       "      <th>6</th>\n",
       "      <th>7</th>\n",
       "      <th>8</th>\n",
       "      <th>9</th>\n",
       "      <th>10</th>\n",
       "      <th>11</th>\n",
       "      <th>12</th>\n",
       "      <th>13</th>\n",
       "      <th>14</th>\n",
       "      <th>15</th>\n",
       "      <th>16</th>\n",
       "      <th>17</th>\n",
       "      <th>18</th>\n",
       "      <th>19</th>\n",
       "    </tr>\n",
       "  </thead>\n",
       "  <tbody>\n",
       "    <tr>\n",
       "      <th>0</th>\n",
       "      <td>63449</td>\n",
       "      <td>128501</td>\n",
       "      <td>74099</td>\n",
       "      <td>53247</td>\n",
       "      <td>119676</td>\n",
       "      <td>117940</td>\n",
       "      <td>57402</td>\n",
       "      <td>127950</td>\n",
       "      <td>12661</td>\n",
       "      <td>63449</td>\n",
       "      <td>58745</td>\n",
       "      <td>105785</td>\n",
       "      <td>67296</td>\n",
       "      <td>85956</td>\n",
       "      <td>117940</td>\n",
       "      <td>121126</td>\n",
       "      <td>63449</td>\n",
       "      <td>128501</td>\n",
       "      <td>84176</td>\n",
       "      <td>10684</td>\n",
       "    </tr>\n",
       "    <tr>\n",
       "      <th>1</th>\n",
       "      <td>81749</td>\n",
       "      <td>56404</td>\n",
       "      <td>117940</td>\n",
       "      <td>80712</td>\n",
       "      <td>85956</td>\n",
       "      <td>117897</td>\n",
       "      <td>14806</td>\n",
       "      <td>63449</td>\n",
       "      <td>23469</td>\n",
       "      <td>10430</td>\n",
       "      <td>112472</td>\n",
       "      <td>102671</td>\n",
       "      <td>17548</td>\n",
       "      <td>117940</td>\n",
       "      <td>16610</td>\n",
       "      <td>52890</td>\n",
       "      <td>87117</td>\n",
       "      <td>126271</td>\n",
       "      <td>17062</td>\n",
       "      <td>63449</td>\n",
       "    </tr>\n",
       "    <tr>\n",
       "      <th>2</th>\n",
       "      <td>118618</td>\n",
       "      <td>67114</td>\n",
       "      <td>10430</td>\n",
       "      <td>83179</td>\n",
       "      <td>95059</td>\n",
       "      <td>14806</td>\n",
       "      <td>10430</td>\n",
       "      <td>57663</td>\n",
       "      <td>73724</td>\n",
       "      <td>52890</td>\n",
       "      <td>126993</td>\n",
       "      <td>85396</td>\n",
       "      <td>117940</td>\n",
       "      <td>20249</td>\n",
       "      <td>14806</td>\n",
       "      <td>82292</td>\n",
       "      <td>117940</td>\n",
       "      <td>102755</td>\n",
       "      <td>16477</td>\n",
       "      <td>119519</td>\n",
       "    </tr>\n",
       "    <tr>\n",
       "      <th>3</th>\n",
       "      <td>90093</td>\n",
       "      <td>130345</td>\n",
       "      <td>14149</td>\n",
       "      <td>59851</td>\n",
       "      <td>63449</td>\n",
       "      <td>51666</td>\n",
       "      <td>112831</td>\n",
       "      <td>18753</td>\n",
       "      <td>84719</td>\n",
       "      <td>64574</td>\n",
       "      <td>106175</td>\n",
       "      <td>52890</td>\n",
       "      <td>8235</td>\n",
       "      <td>63449</td>\n",
       "      <td>58745</td>\n",
       "      <td>10430</td>\n",
       "      <td>131060</td>\n",
       "      <td>119299</td>\n",
       "      <td>25872</td>\n",
       "      <td>40435</td>\n",
       "    </tr>\n",
       "    <tr>\n",
       "      <th>4</th>\n",
       "      <td>121430</td>\n",
       "      <td>97478</td>\n",
       "      <td>96355</td>\n",
       "      <td>29180</td>\n",
       "      <td>48253</td>\n",
       "      <td>101862</td>\n",
       "      <td>64574</td>\n",
       "      <td>117940</td>\n",
       "      <td>60159</td>\n",
       "      <td>85396</td>\n",
       "      <td>78839</td>\n",
       "      <td>128107</td>\n",
       "      <td>67114</td>\n",
       "      <td>11661</td>\n",
       "      <td>117940</td>\n",
       "      <td>128176</td>\n",
       "      <td>41924</td>\n",
       "      <td>119676</td>\n",
       "      <td>102349</td>\n",
       "      <td>28296</td>\n",
       "    </tr>\n",
       "  </tbody>\n",
       "</table>\n",
       "</div>"
      ],
      "text/plain": [
       "       0       1       2      3       4       5       6       7      8   \\\n",
       "0   63449  128501   74099  53247  119676  117940   57402  127950  12661   \n",
       "1   81749   56404  117940  80712   85956  117897   14806   63449  23469   \n",
       "2  118618   67114   10430  83179   95059   14806   10430   57663  73724   \n",
       "3   90093  130345   14149  59851   63449   51666  112831   18753  84719   \n",
       "4  121430   97478   96355  29180   48253  101862   64574  117940  60159   \n",
       "\n",
       "      9       10      11      12      13      14      15      16      17  \\\n",
       "0  63449   58745  105785   67296   85956  117940  121126   63449  128501   \n",
       "1  10430  112472  102671   17548  117940   16610   52890   87117  126271   \n",
       "2  52890  126993   85396  117940   20249   14806   82292  117940  102755   \n",
       "3  64574  106175   52890    8235   63449   58745   10430  131060  119299   \n",
       "4  85396   78839  128107   67114   11661  117940  128176   41924  119676   \n",
       "\n",
       "       18      19  \n",
       "0   84176   10684  \n",
       "1   17062   63449  \n",
       "2   16477  119519  \n",
       "3   25872   40435  \n",
       "4  102349   28296  "
      ]
     },
     "execution_count": 12,
     "metadata": {},
     "output_type": "execute_result"
    }
   ],
   "source": [
    "pd.DataFrame(X_test_padded_seqs).head()\n"
   ]
  },
  {
   "cell_type": "code",
   "execution_count": 19,
   "metadata": {
    "collapsed": false
   },
   "outputs": [
    {
     "data": {
      "text/plain": [
       "[5.0, 4.0, 3.0, 2.0, 1.0]"
      ]
     },
     "execution_count": 19,
     "metadata": {},
     "output_type": "execute_result"
    }
   ],
   "source": [
    "unique_y_labels = list(y_train.value_counts().index)\n",
    "unique_y_labels"
   ]
  },
  {
   "cell_type": "code",
   "execution_count": 20,
   "metadata": {
    "collapsed": false
   },
   "outputs": [
    {
     "data": {
      "text/plain": [
       "LabelEncoder()"
      ]
     },
     "execution_count": 20,
     "metadata": {},
     "output_type": "execute_result"
    }
   ],
   "source": [
    "from sklearn import preprocessing\n",
    "le = preprocessing.LabelEncoder()\n",
    "le.fit(unique_y_labels)"
   ]
  },
  {
   "cell_type": "code",
   "execution_count": 21,
   "metadata": {
    "collapsed": true
   },
   "outputs": [],
   "source": [
    "y_train = to_categorical(y_train.map(lambda x: le.transform([x])[0]), nb_classes=len(unique_y_labels))\n",
    "y_test  = to_categorical(y_test.map(lambda x:  le.transform([x])[0]), nb_classes=len(unique_y_labels))"
   ]
  },
  {
   "cell_type": "code",
   "execution_count": 41,
   "metadata": {
    "collapsed": false
   },
   "outputs": [
    {
     "data": {
      "text/plain": [
       "array([[ 0.,  1.,  0.,  0.,  0.],\n",
       "       [ 0.,  0.,  0.,  0.,  1.],\n",
       "       [ 0.,  0.,  0.,  1.,  0.],\n",
       "       ..., \n",
       "       [ 0.,  0.,  0.,  0.,  1.],\n",
       "       [ 0.,  0.,  0.,  1.,  0.],\n",
       "       [ 0.,  0.,  0.,  0.,  1.]])"
      ]
     },
     "execution_count": 41,
     "metadata": {},
     "output_type": "execute_result"
    }
   ],
   "source": [
    "y_train"
   ]
  },
  {
   "cell_type": "code",
   "execution_count": 89,
   "metadata": {
    "collapsed": false
   },
   "outputs": [
    {
     "name": "stdout",
     "output_type": "stream",
     "text": [
      "('y_train.shape:', (249481, 6))\n",
      "('y_test.shape:', (27721, 6))\n"
     ]
    }
   ],
   "source": [
    "print('y_train.shape:', y_train.shape)\n",
    "print('y_test.shape:', y_test.shape)"
   ]
  },
  {
   "cell_type": "code",
   "execution_count": 15,
   "metadata": {
    "collapsed": true
   },
   "outputs": [],
   "source": [
    "size_of_each_vector = X_train_padded_seqs.shape[1]\n",
    "vocab_size = len(vocab)\n",
    "no_of_unique_y_labels = len(unique_y_labels)"
   ]
  },
  {
   "cell_type": "code",
   "execution_count": 91,
   "metadata": {
    "collapsed": false
   },
   "outputs": [
    {
     "name": "stdout",
     "output_type": "stream",
     "text": [
      "('size_of_each_vector:', 20)\n",
      "('vocab_size:', 133076)\n",
      "('no_of_unique_y_labels:', 6)\n"
     ]
    }
   ],
   "source": [
    "print('size_of_each_vector:', size_of_each_vector)\n",
    "print('vocab_size:', vocab_size)\n",
    "print('no_of_unique_y_labels:', no_of_unique_y_labels)"
   ]
  },
  {
   "cell_type": "code",
   "execution_count": 16,
   "metadata": {
    "collapsed": true
   },
   "outputs": [],
   "source": [
    "net = tflearn.input_data([None, size_of_each_vector]) # The first element is the \"batch size\" which we set to \"None\"\n",
    "net = tflearn.embedding(net, input_dim=vocab_size, output_dim=128) # input_dim: vocabulary size\n",
    "net = tflearn.lstm(net, 128, dropout=0.6) # Set the dropout to 0.6\n",
    "net = tflearn.fully_connected(net, no_of_unique_y_labels, activation='softmax') # relu or softmax\n",
    "net = tflearn.regression(net, \n",
    "                         optimizer='adam',  # adam or ada or adagrad # sgd\n",
    "                         learning_rate=1e-4,\n",
    "                         loss='categorical_crossentropy')"
   ]
  },
  {
   "cell_type": "code",
   "execution_count": 17,
   "metadata": {
    "collapsed": true
   },
   "outputs": [],
   "source": [
    "model = tflearn.DNN(net, tensorboard_verbose=0)"
   ]
  },
  {
   "cell_type": "code",
   "execution_count": 18,
   "metadata": {
    "collapsed": false
   },
   "outputs": [
    {
     "name": "stdout",
     "output_type": "stream",
     "text": [
      "Training Step: 7472  | total loss: \u001b[1m\u001b[32m1.18473\u001b[0m\u001b[0m | time: 717.630s\n",
      "| Adam | epoch: 003 | loss: 1.18473 - acc: 0.4782 -- iter: 249000/249050\n",
      "Training Step: 7473  | total loss: \u001b[1m\u001b[32m1.18347\u001b[0m\u001b[0m | time: 727.044s\n",
      "| Adam | epoch: 003 | loss: 1.18347 - acc: 0.4773 | val_loss: 1.19817 - val_acc: 0.4743 -- iter: 249050/249050\n",
      "--\n"
     ]
    }
   ],
   "source": [
    "model.fit(X_train_padded_seqs, y_train, \n",
    "          validation_set=(X_test_padded_seqs, y_test), \n",
    "          n_epoch=n_epoch,\n",
    "          show_metric=True, \n",
    "          batch_size=100)"
   ]
  },
  {
   "cell_type": "code",
   "execution_count": 21,
   "metadata": {
    "collapsed": true
   },
   "outputs": [],
   "source": [
    "import numpy as np\n",
    "from sklearn import metrics"
   ]
  },
  {
   "cell_type": "code",
   "execution_count": 37,
   "metadata": {
    "collapsed": false
   },
   "outputs": [
    {
     "name": "stdout",
     "output_type": "stream",
     "text": [
      "<type 'numpy.ndarray'>\n",
      "<type 'list'>\n",
      "<type 'list'>\n",
      "\n",
      "RNN Classifier's Accuracy: 1.00000\n",
      "\n"
     ]
    }
   ],
   "source": [
    "pred_classes = [np.argmax(i) for i in model.predict(X_test_padded_seqs)]\n",
    "true_classes = [np.argmax(i) for i in y_test]\n",
    "print type(model.predict(X_test_padded_seqs))\n",
    "print type(pred_classes)\n",
    "print type(true_classes)\n",
    "print('\\nRNN Classifier\\'s Accuracy: %0.5f\\n' % metrics.accuracy_score(true_classes, pred_classes))\n",
    "\n"
   ]
  },
  {
   "cell_type": "code",
   "execution_count": 30,
   "metadata": {
    "collapsed": false
   },
   "outputs": [
    {
     "name": "stdout",
     "output_type": "stream",
     "text": [
      "('Confusion Matrix:', array([[ 957,   25,  242,  429,  545],\n",
      "       [ 447,   53,  451,  775,  617],\n",
      "       [ 272,   23,  753, 1931, 1064],\n",
      "       [ 169,   10,  506, 4069, 4262],\n",
      "       [ 165,    2,  190, 2424, 7292]]))\n",
      "Classification Report\n",
      "             precision    recall  f1-score   support\n",
      "\n",
      "        1.0       0.48      0.44      0.45      2198\n",
      "        2.0       0.47      0.02      0.04      2343\n",
      "        3.0       0.35      0.19      0.24      4043\n",
      "        4.0       0.42      0.45      0.44      9016\n",
      "        5.0       0.53      0.72      0.61     10073\n",
      "\n",
      "avg / total       0.46      0.47      0.44     27673\n",
      "\n"
     ]
    }
   ],
   "source": [
    "# print le.inverse_transform(pred_classes)\n",
    "print ('Confusion Matrix:', metrics.confusion_matrix(le.inverse_transform(true_classes), le.inverse_transform(pred_classes)))\n",
    "print ('Classification Report')\n",
    "print metrics.classification_report(le.inverse_transform(true_classes), le.inverse_transform(pred_classes))"
   ]
  },
  {
   "cell_type": "code",
   "execution_count": 20,
   "metadata": {
    "collapsed": false
   },
   "outputs": [
    {
     "name": "stdout",
     "output_type": "stream",
     "text": [
      "I was looking forward to the Grand Wailea after I had seen it on the travel channel. I was not able to stay there the entire time I was on Maui, because of price. I used Hilton pts for 2 nights. The first 2 nights on Maui were spent at the Marriott next to Grand Wailea....beautiful by the way...anyway. As we checked in, confirmation in hand, I was told there was a additional charge for having 4 people in the room. No where on my conf did it say that and I booked it for 4 people. Conf stated 4 people and 2 double beds. The woman checking us in had nothing to say except that is the rules. I asked to speak to the manager, but she just happened to step into a meeting at that exact moment. So, I asked for a phone call. Did I receive a call the 2 days we were there.....no!!!! The additional $200 they got from us, was the only money they got from us. We refused to eat or buy anything on that property. We walked to the shopping center and had the best breakfast on the island at Longhi's.......highly recommend! I agree with all the other comments regarding the chairs.....good luck! I basically stalked people and once they got up I would grab the chairs......so much for relaxing. I would not recommend this property to anyone even if you are staying for free.....because what I thought was going to be free.....ended up costing me and taking away from my excursions. Stay at the Marriott.....great property, pools, location and the food at the pool is great.\n",
      "('pred_class:', 0)\n",
      "('true_class:', 0)\n",
      "\n",
      "My girlfriend (at the time, more on that later) and I booked a standard room at the Aria for our Vegas vacation. As I had planned to propose on this trip, after the booking I sneakily called the hotel to upgrade to a nicer suite, which they were able to accommodate. I mentioned my intentions to propose as well. The check-in line was massive upon our arrival, but on the phone I had been told to check-in at the unmarked desk on the left that had a much shorter line - might be something to ask about. Upon checking in, we were told that we had been upgraded - I wasn't sure what this meant, perhaps they had been trying to cover up my upgrade in front of the gf? Once we got to our room I realized I was wrong - they had set us up in one of the penthouses, simply an amazing room with views to match. From the moment we arrived onwards, the service was outstanding. The bell-hop was quick to greet us and seemed friendly and happy, as did the staff at large. Chocolate and coconut strawberries were brought to our room the first day, along with a card stating \"we hope you enjoy your special occasion\" - was difficult to play that one off in front of the gf as I hadn't proposed yet. On the second day, I worked with the concierge to setup a trail of rose petals leading to the bed which was also covered in rose petals. They did an excellent job at this, and also provided champagne and more chocolate strawberries. She said Yes, and I'm happy to say I left our trip with a fiancee. Room service did a phenomenal job of cleaning the rooms. The pool was very nice as well. We didn't try many of the restaurants in the hotel - went to the buffet once that cost $60+ with tip for two people. The other restaurants looked very nice, just preferred to try other, more established restaurants in Vegas. Being at the heart of the strip, the hotel is in a great location to walk to many other locations. Hotel is also very close to the Crystals shopping mall. If your lady has an expensive taste, be careful there - lots of LV and Gucci proved quite a distraction. Only complaint is that the separate check-in area for the sky-suites was incredibly hot, almost broke a sweat in there! Perhaps a/c wasn't working at the time. Our stay at the Aria will be one that we will never forget.\n",
      "('pred_class:', 2)\n",
      "('true_class:', 2)\n",
      "\n",
      "This is a nice property and a great location for views of the bay and Navy ships. The rooms are tired and need of updating badly, so dont plan on spending much time in the room.\n",
      "('pred_class:', 2)\n",
      "('true_class:', 1)\n",
      "\n",
      "People will always have them. I first stayed ay NYNY in September 2008, for 5 nights. I had a wonderful time there, but did not see everything, so vowed to visit again. Being from the UK, it is not a place that you can \"pop\" to every 5 minutes, but I travelled again in May 2009. I stayed for 7 nights....okay the room I had 1st night had AC problems, but they moved me the following day without any quibbles. Every person who writes a review on here will have their own opinion, whether it be NYNY, or The Palazzo etc. You pay your money, and you take your chance. Me? I love the NYNY. Okay, it is brash, it is noisy. Some people also think that the pool is not big enough (I think it is fine), and there's not so much in the way of shopping. Some people also think that you don't get a great view from your room (well, if you want to spend time in your room, what are you doing holidaying in Vegas?). But because the NYNY is brash and noisy, it has character. and when I travel to Vegas again (hopefully September 2010), I fully intend to stay here again\n",
      "('pred_class:', 2)\n",
      "('true_class:', 2)\n",
      "\n",
      "Trendy place, real quick check in, excellent location. Right in the heart of mid town, Waldorf is across the street, walking distance to Rockefeller Center, Central Park and of Course the MAC store. Wife can shop or sight see while you work. The hotel itself is nice, I found the water to have a real strong smell of chlorine, small room didn't help,\n",
      "('pred_class:', 2)\n",
      "('true_class:', 2)\n",
      "\n",
      "I loved the resort. However, a few complaints. On check in day. I was told my room would be ready at the check in time - when I arrived to my room - housekeeping was still in the room cleaning the oven. She stressed that a housekeeper had cleaned the room earlier in the day but that she did not clean the oven well enough and left the room dirty - so she was cleaning after the original housekeeper. She then told me that I could come back in a hour and she could finish cleaning or she suggested we call the front desk. I called the front desk to complain and they were rather oblivious about the situation (this was at 630pm at night) and after a long day I was furious that the front desk was not more helpful. In the meantime, the housekeeper disappeared - never to be seen again. I called the front desk again and they said, they would get on it ASAP. The 2nd day, I went to front desk to remind them about my oven needing to be cleaned (it was filthy) - they said they would personally go to the room after a housekeeper went there to make sure it was up to \"Marriott Standards\". However, when I got back to the room that night, the oven was not touched. It was ridiculous. My other complaint is that the whirlpool tub in the room did not work really well - after several calls to the front desk, they sent a maintenance person who got it working but several minutes after he left, it stopped working again. A minor beware- there are ants in the room. I found a whole bunch of them by the balcony area before we left and did not realize they were there. The grounds are beautifully maintained. The main pool area is stunning as is the lake and other pools. Construction shut down a lot of the amenity areas but those were not missed. Oh yea, one more complaint: Every morning between 6am and 10am (automated calls came in from Marriott Vacation Club about going on a tour. Im not talking one call, im talking several calls all morning long and to top it off, all day long with additional calls from the MAZE about their activities for the day. It got very irritating. The MAZE activities were great and the nightly entertainment at the bar was nice. On check out day, beware that housekeeping will begin knocking on your door between 6am and 7am. My 1st knock was at 630am and continous knocks lated until 8am when I opened the door and the housekeeping lady told me that it was check out day and I had to be out soon. VERY RUDE. From up to the second we left the room for good, she kept pacing back and forth in front of the room waiting for us to leave. I loved the resort but I had a very disappointing personal stay at the resort.\n",
      "('pred_class:', 2)\n",
      "('true_class:', 1)\n",
      "\n",
      "We stayed here for a family weekend and enjoyed the easy location. We took the link light rail from the airport and it worked great - inexpensive and got to see some of the city and surrounding area. We stayed on the club floor and enjoyed the club lounge for a quick breakfast every day and drinks and munchies when we were around in the evening. The pool is great, even if you are not swimming, the corner views are good to see. Rooms were small but did the trick.\n",
      "('pred_class:', 2)\n",
      "('true_class:', 2)\n",
      "\n",
      "Rain Rain Go Away! We stayed at the Pacific Beach this past Christmas week, there were 8 of us. My mom and dad were celebrating their 50th anniversary, we were celebrating our 25th, plus I have 2 teenagers who came with us. It RAINED the entire time we were there. Not just a little tropical rain ....I mean a downpour of rain so hard you thought it was a monsoon. There is Mcdonalds right across the street, a Burger King a little walk down and a smoothy place in the lobby. The Oceanaium Resturant is great at the hotel. Something different and fun The trip could have been hideous due to the weather, but we had fun anyway. Thanks Pacific Beach. By the way, it doens't take that much to make us all happy, so the FREE SLIPPERS were a really nice touch, as was the mint and flowers on our pillow at night.\n",
      "('pred_class:', 2)\n",
      "('true_class:', 2)\n",
      "\n",
      "The hotel is undergoing some sory of facelift on the exterior so you may have trouble finding it at first with the scaffolding. The lobby area and rooms are nice. Did not hear any extraneous noise in my room (nice and quiet), but then I did not face the street either. If you sign up for the free InTouch loyalty program they'll give you free wifi and other perks. It looked like they had a fitness center. The location is decent, a little farther out than places like the parc-55 and westin st francis, but still in a central and overall decent location. Staff is friendly and helpful. Of the five times or so times I called for things like room service or front desk support (wake up call, questions) I did not get someone on two of the tries. But when you do get someone they are very helpful.\n",
      "('pred_class:', 2)\n",
      "('true_class:', 2)\n",
      "\n",
      "My wife and I wanted to go to somewhere tropical but all of the resorts or cruises we looked at were way too expensive or the dates didnt work out... We decided on Vegas as a back up and chose a tropical themed hotel... The hotel staff was very attentive and very pleasant to deal with... we did the shark reef experience, it was pretty cool but nothing compared to the aqaurium at the Mall Of America in Minnesota (for those who have been there) they tied in a dinner with the shark reef so it was cheaper if you plan on eating there... the Bayside Buffet was outstanding, i have eaten the seafood buffet at the RIO before, and this one blew that one out of the water... they actually had King crab legs on the buffet!! We enjoyed everything the hotel had to offer, we went to mamma mia (the musical) it was pretty good, (coming from a football guy) my wife loved it... we enjoyed the house of blues... our room was exactly how we had seen it from the virtual tour on their website... the bathroom is HUGE!! we didnt spend a lot of time in the room but it was extremely comfy/roomy how can you go wrong when there is a tv in the bathroom! the only thing that we didnt like was the fact that the 2 starbucks didnt open until 6am (8am our time, we are early risers) and no other place in the hotel has a coffee shop unless you wanted room service for $5 a cup! On our anniversary we went to eat at Stripsteak where i had the best steak of my life... everything is a little on the pricey side but there are many other places to eat in vegas.... the tram was very easy to shuttle ourselves around to the Luxor and Excalibur for cheaper resturants and coffee! I thought that we would have to wait for a couple of minutes for the elavators (we were on the 21st floor) but there are 8 elavators for floors 2-16 and 8 other elavators for rooms 17-32or 33, it seemed like about 10-15 seconds and we would have one... very pleasant experiance!!! WE WILL BE BACK!!! P.S. STAY AWAY FROM THE LITTLE SHOP NEXT TO THE ELAVATORS... $7 FOR A BAG OF CHIPS!!! but we did buy a postcard, although they dont selll stamps, how stupid is that! we went to the business center looking for a stamp and the clerk told us not to worry about it and threw it into their outgoing mail... and yes i know its only 42 cents or whatever, but we thought that was very kind in a day and age where nothing is free anymore!! oh yeah, the pool/beach is incredible!! it was a little windy and chillly while we were there, but fun none the less!!!\n",
      "('pred_class:', 2)\n",
      "('true_class:', 2)\n",
      "\n",
      "I stayed at the Tropicana a over the weekend to relax before attending a huge convention across the street at the Mandalay Bay. I reserved, and got, a \"Best in Class\" room in the Paradise Tower - it is the one with the Bamboo furniture and chaise lounge that is featured in their current ads. Got a great rate on getaroom.com. I was able to check in upon arrival before noon and the desk agent was knowlegable, friendly and efficient. Did not use the casino, so I cannot comment. it is smaller and brighter than most, and they do pipe in nice smells. Pool area was nice, but I agree, it will be better, post renovation. It got crowded in the afternoons, but people came and went so you could always find a chair. This is the source of my only complaint - un-related to the hotel itself - but I was grossed out by cigarette and cigar smoke out there - I moved several times to get away from the cigarettes, but one guy puffing on cigars stunk up the entire area one day. Everyone I met on staff was friendly and helpful - even got an extra hour before checkout on Sunday (ask nicely...) Last but not least, as I told everyone I saw at the Conference, my Trop room was WAY nicer than the Mandalay Bay room, and over $125 cheaper. HINT - if you are attending anything at Mandalay Bay - stay here - 10 minute (free) tram ride away\n",
      "('pred_class:', 2)\n",
      "('true_class:', 2)\n",
      "\n",
      "Overall a great place. We stayed in a renovated studio and loved falling asleep to the ocean waves. We paid $180/night. Nice tile floors, redone showers. The only downside was the mattress. It had no support. The pool was great, nice shuffle board and access to the great beaches and snorkeling. A bit of a hike to the highly talked about \"black rock\" snorkeling area but there's ok snorkeling right outside the hotel. Free parking and a full kitchen along with laundry (no restaurant in the hotel though). Some shuffleboard, too. They do annoy you like other resorts with the offer of a \"free\" breakfast as they tell you about the activities. Overall, we love it and would go back - but still wish for a solid mattress.\n",
      "('pred_class:', 2)\n",
      "('true_class:', 2)\n",
      "\n",
      "As lovely as the Palace is, it is not very organized. Family sent UPS/FedEx shipments to me at great cost - only for the items to linger in Caesar's mailroom for days. In fact, nothing was delivered until I made inquiries. And inquiries my family submitted (to keep the shipments a surprise from me), were directed to the mailroom and ignored. Very disappointing, and certainly put a damper on my trip!\n",
      "('pred_class:', 2)\n",
      "('true_class:', 0)\n",
      "\n",
      "Overall we had a pretty good experience at the Mahana. The problem with using a company that manages condos is that the room decor and upkeep differs on the owners of the condo. The condo we stayed at was on the 8th floor and was just the right size for my husband and I. The decor and upkeep of the condo itself was not great. The decor was dated and the maintenance wasn't the best. One of the kitchen cabinet doors kept falling off, the shower stall had some mold growth and a sheet was covering one of the windows. The view was hard to beat, though. We were right on the ocean and could listen to the waves at night. We could see Lanai and Molokai from our room. The beach area in front of the hotel is nice, but you have to walk about 100 yds in either direction to be able to avoid the reefs. While the restaurants were very easy to get in and out of in December, there were some strong trade winds. It was windy all but one out of 6 days that we were there. We lost power one day to the wind gusts and were not able to take a snorkeling trip. We did get to go ziplining, which was fun and drove the road to Hana which we would also recommend. Some great restaurants to try were Kimono's and Roy's. My husband and I have been to Maui, Oahu and Kauai and Kauai wins hands down. For anyone heading to Hawaii, we would recommend going to Kauai versus any other island. The island is quiet, not a lot of traffic and tons of things to do. If you enjoy nature, there are tons of things to see and do, without wearing yourself out sightseeing. While Maui was nice, it just did not come close to the beauty and serenity of Kauai.\n",
      "('pred_class:', 2)\n",
      "('true_class:', 2)\n",
      "\n",
      "Located nicely in midtown with easy access to the subway. Lots of selection for eating and shopping nearby. Some construction in lobby but this was minimally inconvenient. Room was clean and well proportioned, staff was friendly and helpful, even for NYC.\n",
      "('pred_class:', 2)\n",
      "('true_class:', 2)\n",
      "\n",
      "We just spent 4 nights relaxing at the Hyatt in Maui. They have a great pool area and great pool service. The staff were not only friendly but extremely helpful....they helped us with planning our day trips and tours. The boardwalk is a lovely walk down to Whalers village where you can find great shops and restaurant. If you continue along further on the boardwalk you will find Black Rock with a great beach and snorkeling. The hyatt rooms were clean and comfortable and perfect for two people. There was a small fridge to store some snacks and waters in the room. The town of Lahaina is a five minute drive from the hotel where you can spend a great day shopping and seeing the sites of the town. If you like to golf like we do the Hyatt is across the street from the Kaanapali Golf resort that has two fabulous courses to choose from. The construction at the hotel was not a bother. Yes the lobby was located upstairs and there was parts of the main walk through that were roped off, but it was really not a bother. The work did not start early in the morning and stopped prior to you being back in your room to get changed for dinner. It was our honeymoon and they provided some nice gifts including a bottle of champagne with one of our dinners (we enjoyed it at Japengo restaurant). We had a great stay at the Hyatt.\n",
      "('pred_class:', 2)\n",
      "('true_class:', 2)\n",
      "\n",
      "This was my second time at the Renaissance Orlando and it was a great stay again. The first time I was with my family and they loved it. This time I was attending a conference at the hotel. The conference was well organized, the meeting rooms were nice and well equiped. The catered conference food was pretty good too. The stateroom was large and clean with a good view of sea-world. the bathroom had two sinks a large shower and Aveda products. It had a fridge, safe, desk, couch, coffee table and chair with foot stool. I believe ths was the \"deluxe\" king room. The bed was excellent with a full pillow assortment and I slept well, which is rare for me at any hotel. It was very quiet in my corner of the building even though my door faced the open Atrium. The atrium is a good place to kill some time, especially at night. The pool area is worth several hours of your time at least and they also have some game areas/courts (and arcade). I would reccomend to anyone, my only complaint is parking at $15 a day.\n",
      "('pred_class:', 2)\n",
      "('true_class:', 2)\n",
      "\n",
      "We had the pleasure of staying here the weekend of May 12. The hotel is great and the staff professional, helpful, and patient. I would llike to thank you for the early check- in, which, we were EXTREMELY grateful for. The Radisson is in a great location to many restaurants, bars and tourist sites. We needed to catch two different \"T's\" and were within walking distance to both. Boston Commons, Chinatown and Fanuiel Hall were all walkable. Our hotel room was very clean, our housekeeper attentive and did a great job. The room was large enough for the three of us and our request for two beds was honored. An added plus was the balcony. The bathroom small but not an inconvenience. It was nice to be able to have coffee in your room upon waking, walking to a Starbuks, DD's or to the restaurant on the premises for breakfast. Although we didn't have time for swimming the pool area was was very nice, water felt warm. The staff was starting to put greenery and flowers on the outside deck area which overlooked the city...pretty neat. The conveniences and the price of the hotel are awesome. We visited the North End of Boston and walked the Freedom Trail and Fauniel Hall- all within walking distance of front lobby door. I would recommend the Trolley to take the tour of the city...then on to points of your interest. Off the subject, sorry - purpose is to recommend this hotel for all it has to offer. Another feature was to be able to print your boarding passes prior to arriving to the airport.\n",
      "('pred_class:', 2)\n",
      "('true_class:', 2)\n",
      "\n",
      "We attend Comic con every year and this is the first time we stayed here. This hotel is attached to the convention center and could not possibly be any more convenient. The staff were amazing despite the huge crowds and the room (11th floor in the south tower) was well kept. We even managed to get an afternoon by the pool with drinks and a really pleasant lunch.\n",
      "('pred_class:', 2)\n",
      "('true_class:', 2)\n",
      "\n",
      "Gut gelegen, aber nicht 4 Sterne wert   showReview(10012469, 'full');\n",
      "('pred_class:', 0)\n",
      "('true_class:', 1)\n",
      "\n",
      "Since this site helped us pick the Grand Wailea, I feel compelled to share our thoughts about our week at GW. In a word, outstanding. We booked two of the least expensive rooms. When we checked in, they had automatically upgraded one of the rooms to an ocean view. That was great but it put our children in another wing. By the next morning at 9AM, they had our children upgraded as well right next door. The staff was superb about it. We are even in the wing closest to the construction going on next door at the Wailea Beach Villas. It never bothered us at all. Ask for a refrigerator so that you can stock up on waters and snacks. (we bought ours plus wine at the General Store at the Shops of Wailea next door; very upscale - has a Ruth Chris Steakhouse and a Tommy Bahama restaurant). We asked for one for each room and they gave us the kid's one gratis. We have had two amazing breakfasts at Longhi's at the Shops of Wailea. Had breakfast at the hotel buffet which is very good but Longhi's is better. Get your chairs early at the pool as it will fill up by mid morning. Love that they have an adult only pool which is a great temperature. Lemon ice water available at the pool all day long. Only annoyance are folks on their cell phones at the pool thinking that other folks care to hear them. There was a corporate recognition event going on so lots of folks hobnobing at the pool. Husband and kids liked the slide. Walk the beach walk and it's a great 3 mile workout. Had two great dinners at Humu and Konshi in the hotel. The best was Nick's Fishmarket at the Fairmont Kea Lani two doors down. You can snorkel right off this beach. Went into Lahaina to see the show Ulalena. It's OK if you have small kids. Our 18 year old was bored. Ate at David Paul's in Lahaina which has the most amazing bread. Rest of the meal was very good. Went into Kehei to see a movie and ate a very low-key (bordering on dive), authentic Mexican dinner at Fernando's that one of the waitresses told us about. The Spa here is the best I've been to in a while. The prices of the manicures and pedicures are ridiculous but the treatments are reasonable when you consider that the hydrotherapy is free with any treatment. (if you need a manicure or pedicure, go into Kihei to the Nail Shop). That is an amazing set of different baths and showers that sooth and massage. And an attendant will loofah you down for free with a body scrub. Very well done. I treated my 18 year old son to an acne facial and he said it was very good (not great) but he loved the baths.\n",
      "('pred_class:', 2)\n",
      "('true_class:', 2)\n",
      "\n",
      "My wife and I stayed at the Maui Coast Hotel on the first night of our honeymoon. We wanted a familiar place for our first night back on Maui, the rest of our stay was at the Four Season Wailea so we were really excited for that. We were greeted with a friendly aloha and a big smile from the gentleman that checked us in(unfortunately I cannot remember his name). He immediately wished us a happy honeymoon and congratulations on our wedding. He then informed us that he was able to upgrade us to a 1 bedroom suite for our nights stay. When we got to the room it was clean and rather large. There were 2 Lanais and we could see the ocean from our 6th floor room. I really liked the bed, and the bathroom was pretty large also. I went to the pool bar to meet my brother and have a few drinks. The drinks were good and the bartender was awesome, our tab for the drinks was not too expensive at all. Later I met up with my wife again and we had dinner at spices(that is there restaurant). The service was not the best and the food was okay but not the best and that is why I did not give the excellent rating on this review. I also did not have time to check check out the fitness center but the pool was really nice. One more comment on the wifi service.... Since we were on the top floor the only time i could get wifi in our room was when i was crouched in the corner of our bedroom which kind of sucked but the wifi was free!!! Maybe in the future they can put another antenna on the roof or something? I plan on staying at the Maui Coast again in the future with my wife. We had a great time!\n",
      "('pred_class:', 2)\n",
      "('true_class:', 2)\n",
      "\n",
      "This is not your average hotel. Here are a few unique experiences...when I came out of my relaxing shower...the center of the mirror was steam free...allowing me to shave without any clearing of steam... My wife liked the black towel for mascara and make up removal. The recycling bins in the room made for purposeful cleaning. The pillows and bed was like a magnet, preventing from getting out of bed. The doors have a shock absorber that minimizes neighbors slamming doors. It was so quiet. The exercise room and pool was exceptional, with cleanliness and friendly staff.\n",
      "('pred_class:', 2)\n",
      "('true_class:', 2)\n",
      "\n",
      "We stayed at the Venetian last weekend from Thrursday-Sunday. Check-in was a breeze, and we were taken to our strip view room, also overlooking the construction of the new Venetian tower next door. I didn't mind that, until I was trying to go to sleep at 3am and I could still hear all the construction noise. I called down to the front desk and was informed that they had permits letting them work 24 hours! So if you are given a room overlooking the site, move immediately. We were moved to the Venezia Tower the next morning, after a few more calls to management. The Venezia Tower is the hotel within hotel. Its comprised of 12 floors, and the decor is much improved and soothing than the Venetian. The rest of the review will be for the Venezia Tower Room: The suite is wonderfully appointed and spacious. Soothing yellow silk walls, bathroom in a soft peach color. Marble floor, as well as the shower. Finally for the ladies, a vanity table with a stool! This makes such a huge difference. The bed was very comfortable, wish they would do away with the bedspreads though. The blackout curtains are the best I have ever experienced. Not one ounce of light was let in. Elvis would definately approve. Pool: I'm not certain whether Venetian guests are given access to the Venezia pool, in my opinion they shouldn't just because its so small. We arrived at the pool at 11:00 and there were no availabe chairs. I don't know if there were more people around this pool because of massive rennovations that are taking place at the main pool. I found one of the pool girls and slipped her a $20 and we got two chairs within minutes. Hey, its Vegas. 12th Floor Venezia Lounge: This is a real treat. You don't feel that you are in Vegas, but a small boutique hotel. There is a complimentary continental breakfast, fruits, bagesls, coffee & tea and juice. There is an afternoon tea with wonderful scones. The highlight of the lounge is for evening cocktails, from 5-8. Michael, the bartender is charming and pours a great lemon drop martini, also free! There is also cheese and crackers, fruits-Its a nice break from the maddness of Las Vegas. We talked with fellow guests, very classy. Maid Service: Excellent-clean spotless rooms-great turndown service. Dining: We ate at Grand Lux Cafe (owned by Cheesecake Factory), very good. We also ate at Cannoletto in St. Marks Square in the Palace Shops. It was a very pleasant meal.We also ate two fantastic meals at the Canyon Ranch Cafe, so healthy and tasty. Shopping: The Palace shops are my favorite on the strip. Such a wide array of choices, Bebe, Jimmy Choo-We didn't need to rent a car. In closing, I would stay at the Venetian again only if it were to be at the great rate we got for this trip, my husband went to a seminar at the hotel. The walk from the lobby to the Venezia Tower was far, I didn't mind the walk, but it was confusing at times. I know that the room that we were moved to in the Venezia Tower was very expensive, and I wouldn't pay the room rate for that room. But hey, its Vegas, and you can always ask to be upgraded. We realized that taxi service on departure day had the potential to be a nightmare so we asked the concierge to book a towncar for us. The service cost $45, and was well worth it as the driver was waiting for us in a air conditioned car with chilled water. We figured a cab would be $25-35, depending on traffic. So well worth the extra money, time is money, right, so we figured we got an extra hour of sleep and had no stress about catching our flight.\n",
      "('pred_class:', 2)\n",
      "('true_class:', 2)\n",
      "\n",
      "We loved everything about this hotel. The location- beautiful beach, walking distance to shopping, restaurants and Black Rock. Great Location. The room- It was very spacious and clean and had a huge bathroom. The view was amazing. We also liked the wireless internet and comfy beds! The Lobby area- amazingly beautiful with a lagoon and coffee shop and koi fish. It was a great spot to relax with a cup of coffee in the morning. The pool- It was HUGE, there were plenty of chairs available and place to swim without being on top of other people. The waterfalls were so pretty and my husband loved the water slide lol It is a wonderful property with a very warm and friendly staff.\n",
      "('pred_class:', 2)\n",
      "('true_class:', 2)\n",
      "\n",
      "First time in Vegas for me and I was really looking forward to this stay. Reception was very pleasant but due to the huge size of the hotel it was difficult finding the correct elevator to the room. In fact, even the bellman was challenged as we wandered around with him. Room was very basic, no life to it at all, couldn't get cheaper on the amenities - felt like an airport hotel room. The real kicker came when we called down for wine glasses and a corkscrew to enjoy a bottle of wine we had bought at a local winery - $10 charge for delivery!!! We offered to pick them up but were told that was not possible. Had fun at the piano bar until a drunk started in on me and hubbie had to deal with it - despite it being quite a rucus no security in sight. Tried a lox bagel one morning - salmon was obviously off. Took it back and was told that this is what smoked salmon tastes like! Um - no. Attempted to go for breakfast at a place which stated breakfast was served until 11am. Showed up at 10:50 and they were turning away a considerable amount of people \"as they had to get ready for lunch\". I did follow up with the hotel to let them know of our issues and got a bored response with the offer of an upgrade next time we stayed but only if it was in the next six months - NOT. Did get a great rate which included tickets for Cirque de Soleil which made the hotel about $30 a night, I don't think that was even worth that though.\n",
      "('pred_class:', 2)\n",
      "('true_class:', 0)\n",
      "\n",
      "we have made reservation for two nights in an ocean view room and had a very relaxed time there. check-in was quick and very friendly, they offer complementary parking in the garage of the hotel. everyone of the staff was very friendly and always greated with a smile. our room offered a beautiful view of the beach directly in front of the hotel which is located at front row. the area features a lot of hotels and condos but only small ones and it doesn't get really crowdy. the historic crystal pier and many restaurants are within walking distance. the pacific terrace itself only offers breakfast which was about $ 13 during our stay and of good quality.\n",
      "('pred_class:', 2)\n",
      "('true_class:', 2)\n",
      "\n",
      "I booked a quick getaway for my wife's birthday this past week-end. We always worry about picking the right hotel and spend way too much time reading reviews. You get excited about good reviews but start worrying about the bad ones. We bit the bullet and booked the W hotel and were pleasantly surprised. Yes the room and bathroom are small but who cares? We were there to roam the city and not spend our time cooped up in the room. The studio was just right for us. The hotek is very trendy and lively (loby & lounge) but when you get upstairs you can't hear a thing its as if you stepped into another world. Everything was so cleand and tidy and the staff was attentice and helpful. Three people nust be commended, Jessie on the 16th floor was extremely nice and friendly. She was pleasant as was David the guest coordinator(?) stationed right by the elevators. There was also the concierge (a pretty blonde) that was right on the money with all restaurant recommendations. In my booking notes I had indicated that it was my wife's birthday and wanted to do something special for her. I even discussed it with the clerk when I was checking in. Something was lost in translation because nothing special was done. For that David and Jessie were both very apologetic and that ws appreciated. The Hotel was central to all of the places that we wanted to visit and we will not hesitate to book them again. Management must commend their workers for a job well done!!!!!\n",
      "('pred_class:', 2)\n",
      "('true_class:', 2)\n",
      "\n",
      "I believe they should downgrade this hotel from hilton to a lower level hotel of the hilton family. This hotel is old! And not good old. For instance elevators were not working when we arrived, we had to take the service elevator. When we asked the staff about it, they said that elevators are always a problem there, and apparently the owner wouldn't pay for its modernization. At the room TVs are old small Tube TVs, something you can expect at a motel or hostel. I usually choose Hilton because you can't be wrong with it. But not at this one. I rather stay at a 2 or 3 star new hotel then heading to this Hilton again. Pay attention if there's an event going on Universal at night you may find it difficult to get back to your hotel.\n",
      "('pred_class:', 0)\n",
      "('true_class:', 0)\n",
      "\n",
      "Beware if you leave your vehicle here. We took advantage of the park & ride and unfortunately our vehicle was broken into.\n",
      "('pred_class:', 0)\n",
      "('true_class:', 1)\n",
      "\n",
      "My son and I stayed at this hotel over Veterans Day weekend. We were there to visit the University of Chicago. The Hilton Chicago is one of the hotels that UChicago recommends and the hotel provides a free shuttle service to and from the university. Our room at the hotel was very nice and very clean. I did not have any issues with the room at all. I ate 3 meals at the hotel and all were very good for the most part. The only complaint that I have is that the food on the breakfast buffet was lukewarm. Other than that, the food was good, and the wait staff was very attentive and friendly. I was greeted at the front desk when I arrived by a very friendly young man who was very helpful in explaining how the shuttle worked and where I could find different things in the hotel. I walked to the magnificent mile from the hotel, and also walked to Soldier Field and the shores of Lake Michigan. The hotel is in a nice safe area. Taxis are always out in front of the hotel so there was never a wait for a taxi. There is a great blues bar right behind the hotel called \"Buddy Guy's Legends\" and the food was very good and the live entertainment was very good too. We went to the early set from 6PM to 8PM since my son is under 21 and have a great time. There is no cover charge during that time either.\n",
      "('pred_class:', 2)\n",
      "('true_class:', 2)\n",
      "\n",
      "Nice hotel . Staff helpful. Very nice food court. Located next to city center. has a free monorail connection to city center and the Bellagio. Plenty to see and do around the hotel. For kids the M&M store is just opposite the hotel.\n",
      "('pred_class:', 2)\n",
      "('true_class:', 2)\n",
      "\n",
      "I stayed here for 5 nigths back in rainy Feb/March. Great rooms with amazing views, mine overlooked the front of the hotel. Massive bathrooms with bath and very large separate shower, plenty of room for a family of 4! I only ate breakfast in the htoel and again was good, service OK, great buffet selection but was over priced. Pool is outdoors, small but looked ok. I stayed here on business and would come back again on business or for a personal visit.\n",
      "('pred_class:', 2)\n",
      "('true_class:', 2)\n",
      "\n",
      "My family of three used our airline miles to book a room for one night. We asked for a non smoking room, that was our only choice given online. When we called to confirm, we asked to face the street and have a view. When we arrived way before check in time, to drop off our bags and sightsee, the very nice lady at the front desk asked us if we wanted to see if our room was ready at that time. It was not, but she even called our cell phone later when it was. She told us we had been upgraded and the room included a renovated bath. It was a terrific room and was enormous. VERY CLEAN! The bath had a separate shower and tub and good lighting. A little mildew along the caulk in the shower, but easily overlooked. The bed was the best thing about the room, no smell of any kind, it was like sleeping on a new mattress and pillow. I am really picky about odor, and my room was very fresh!!! The view was not so hot, just the building across the street, but the room was so pretty, I did not care. The staff was very nice and friendly. They stored our bags when we checked out for us. I would love to stay there again someday! Great location, very quiet at night, and right near the Met museum and in a great part of town.\n",
      "('pred_class:', 0)\n",
      "('true_class:', 2)\n",
      "\n",
      "Not Impressed I was not impressed with this hotel. The rate was reasonable for the fairly close proximity to the French Quarter. There was a ceiling fan in our room but it did not work.......the light would not come on either. There was a very small window with a poor excuse for a mini blind hanging in it. There was no way to block the light effectively. There was some type of white powder along the baseboards and there was newspaper stuffed between the brick and the baseboards in parts of the room and closet. But the worse part of the whole deal was the bed. It was the absolute worse bed I have ever slept on..................very very very hard and very uncomfortable.\n",
      "('pred_class:', 2)\n",
      "('true_class:', 0)\n",
      "\n",
      "This was my 2nd trip to NYC and first time with my kids (ages 14, 17, and 20). Location is great, but service was disappointing. We arrived 2 hours before the 4 pm check-in time and our room was not ready. Had to pay to leave our 5 bags until our room was ready (all small, carry-on type) with on-site service (a separate entity from the hotel). We never ate at the restaurant as there are so many choices nearby. Recommend \"Fluffy's\" across the street for quick, homemade, and inexpensive brkfst or light fare. Renowned Carnegie Deli is just across the street. Reception staff are surly. Concierge staff are overwhelmed - lineups every day, and reduced hours (no evenings in the week). No one asked about our stay. Since our room was prepaid (averaged $185/night for 2 Superior doubles booked well in advance), there was no comment or enquiry from the staff. On our last night, one of the kids found a beetle on the bed and captured it in an empty bottle. I will say that the beds were comfortable. We would have had to pay $18 US to leave our bags for one hour after checkout, so we decided to hang out in the lobby and bring our lunch there, while surfing the net with the free wi-fi available from the next door restaurant. That's another thing: if you want internet in your room, they charge an extra $14/day. Just felt nickel and dimed by this hotel. I paid less last year to stay at Sofitel during the same week, so I think if you plan in advance, there are other places that are so much better. I only booked the Park Central because they had rooms that had two double beds and this would accommodate us. I would not stay here again and I definitely would tell others to stay away.\n",
      "('pred_class:', 2)\n",
      "('true_class:', 1)\n",
      "\n",
      "This hotel was awful! I would suggest not taking the pictures that you see on the websites too seriously...the photos of this hotel had to be taken at least 20 years ago. I love old buildings and architecture, but this was a little extreme. I felt like I was going to die every time I rode the elevator (it shook like crazy and rubbed up against the side of the elevator shaft the whole ride), the toilet and sink to wash your hands were in two different rooms, AND the folks at the front desk were everything except friendly and courteous.\n",
      "('pred_class:', 0)\n",
      "('true_class:', 0)\n",
      "\n",
      "Was travelling to NY for 3 nights to attend Allman Brothers 40th Anniversary gig, and wanted a good value hotel. I certainly found it in the Helmsley. Although most of the customers seemed to buisness men, everyone was treated with the same care and attention from the moment the taxi dropped us off. I had read a couple of negative reviews, but in all honesty, do you really go to New York to have a working TV in your room? Get out there and see the place! The room was a great size, comfortable bed, and I had requested a room around the middle floor region due to my partners fear of heights and this was honoured. The room was tidied and cleaned every day, and complimentary toiletries replaced. Location, a couple of blocks from Grand Central, pick up points for the Airport express and a great breakfast to be had at Pershing Square diner.\n",
      "('pred_class:', 2)\n",
      "('true_class:', 2)\n",
      "\n",
      "We stayed at this Fairfield last week during our childrens spring break. This was the best hotel we've ever stayed at in Branson (we usually go 2 or 3 times a year). The staff was so nice, the breakfast was very good and extensive for a Continental Breakfast. Our room, including the bathroom, was immaculate. The beds were so comfortable with loads of pillows. Our daughter took ill the night before we left, and the front desk staff was so considerate, bringing extra blankets for us, etc, very quickly. I can't say enough nice things about this location. We will definitly be back.\n",
      "('pred_class:', 2)\n",
      "('true_class:', 2)\n",
      "\n",
      "We were so excited to celebrate a friend's 40th Birthday with an overnight stay in Chicago. Having stayed in Westins prior to this, we were anticipating everything to be perfect; it was far from that. We reserved two rooms (Kings) and requested the rooms be either together or atleast near each other and that the have a view of Michigan Ave. The first of the two rooms was ready by the desigated check in time of 3:00; However the second room was not ready until 5:00! The first room assigned to us (1418) was unacceptable with paint peeling off the ceiling in the bathroom. This was not how I remember a quality Westin hotel. We were assigned a new room on the 15th floor; our friends were assigned a room on the 14th floor as we were told our request to have our rooms together could not be accommodated but they could offer us a late check out of 2PM. I will say as a concession, a bottle of Champagne was placed in their room which was a much appreciated gesture. When you say \"Westin\", you think \"Heavenly Bed\"...we had the very comfortable bed but we couldn't sleep because of all the chaos in the halls. Security had to be called to the room next to us for a loud disagreement and then 3am and 4am...loud and obnoxious \"guests\" in the hallways (aka drunk/rude people who show no respect for others)...I could hear other frustrated guests threatening to call Security. On another note, we were shocked by the way our vehice was driven in our presence...The valet drove our vehicle recklessly in the garage. I gasped watching him \"gun it\" in reverse; certain that he came within inches of hitting the wall. Overall, there was no warm and fuzzy feeling here from the staff...more like...sorry, but there's nothing we can do...So..like I said, if I were you and I was considering staying at this particular Westin, I would keep looking!\n",
      "('pred_class:', 0)\n",
      "('true_class:', 0)\n",
      "\n",
      "Our experience at this hotel was first-rate. The staff was extremely courteous and helpful - we had arrived very early in the morning and were informed that a non-smoking room would be available within 2 hours (normal check-in time is 3 PM). The room was very nice - we booked through hotels.com for a bargain rate and I was not expecting the lovely room we received. Our room was very quiet; the bath was excellent and the bed was very comfortable. The location is wonderful - just off of Grand Central. We were extremely pleased with everything.\n",
      "('pred_class:', 2)\n",
      "('true_class:', 2)\n",
      "\n",
      "This is where I would come back to in a heart beat. I booked two nights the day of as I had left open the option to stay at the four seasons on lanai or go over to wailea. Instead, decided to take the ferry to lanai only for the day and stayed here. First, I booked with points and was STILL upgraded. I asked for the executive suite and she said none were available. (700 sq ft.) HOWEVER, she said the luxury suite was available for $200 more. So, for $200, I got a 1300 square foot room with an ocean view. UNBELIEVABLE! I booked the second night with cash and points and the same room, which would have cost $1300 a night, cost me only another $290 for the second night. Then, the service and food was fantastic. Full glasses of wine and strong drinks. The bellmen, the concierge, the front desk staff - ALL friendly. NEVER had an incident where I was told to wait or treated rudely despite the great deal they gave me. My daughter loved the giant waterslide here at this hotel the best of the Sheraton and the Westin Villas. She also loved the birds in the lobby and the flamingos. My favorite and we are already planning our next trip.\n",
      "('pred_class:', 2)\n",
      "('true_class:', 2)\n",
      "\n",
      "First off I read some of the reviews and was ready to cancel but thought I'm going to call and chat with someone. I chatted with Vicki who has worked here for 10 years. We arrived around 6:15 on a Sunday night was promptly greeted by hotel staff - wonderful but not the sharpest pencil around. They even helped us book our shuttle to the port in the am (it would help if they all spoke ENGLISH but that's a whole 'nother story). The room we had was HUGE, 2 Q's and yep right outside our window was the airport - didn't hear a SOUND!!!! The bed was comfortable and no it's not going to be like the bed at home that you've been sleeping on for 25 years but it's a hotel for goodness sakes. The breakfast was the typical bagels/toast/cereal muffins with variety of juices and coffee - not bad for eating for free (note: IHOP just a block or 2 away and just past that was McD's). The pool isn't on the proprty but it's just at the end of the parking lot across the street - shared with another sister hotel.\n",
      "('pred_class:', 2)\n",
      "('true_class:', 2)\n",
      "\n",
      "My wife and I, with children, stayed at the Fairmont over Thanksgiving. We chose this hotel based on the reviews on this site. Unfortunately, we were not as charmed as many of the other guest-reviewers. Pros: Very convenient and excellent beach. Fantastic weather. These are features of Maui, however, not the Fairmont in particular. The resort grounds are open and not as crowded as some of the neighboring hotels. Cons: The furniture in our room (ocean view) was old and knicked. This is not \"Hawaiian natural,\" it is just plain old. The upholstery on the couch was noticeably stained, and the carpet was dingy. The mattresses are not best of class, left us sore. The elevators to our level were shabby, with exposed electronics and soiled walls and floors. There is evidence of deferred maintenance throughtout the facility. Although the locale is great, this is not a romantic resort. The grounds, while open, are much too crowded by sunning adults and playing children. The adult's only pool looks boring. Finally, most irksome is the high cost for every item here. Of course we expect exaggerated prices at a Hawaiian resort. The prices seem whimsical, elevated inventions: $12.50 for the simplest drink, $100 for a simple snack for the family; the examples are endless. This is just greed.\n",
      "('pred_class:', 2)\n",
      "('true_class:', 1)\n",
      "\n",
      "From the DFW area on a get-a-way the day after Christmas. The staff were uniformly friendly and service oriented. Room was clean and well decorated. Only negative was we occupied a room on the Commerce Street side of the building and the 24-hour-a-day traffic noise took some getting used to. One of our favorite places to stay and we look forward to our retutn.\n",
      "('pred_class:', 2)\n",
      "('true_class:', 2)\n",
      "\n",
      "Hilton Quality All The Way Stayed in an ocean view room at the Hilton Hawaiin Village in the Kalia Tower for 6 nights Nov 8-15, 2003. The room was very nice, quiet, comfortable and clean. I can't comment on the price value because I used Hilton points to pay for the hotel. Yes, things at the HHV are expensive, but hey you're in Hawaii, go for a walk. Within a few blocks and you can find anything you want at much lower prices. The Bus has a stop right at the property and makes in simple to get around the island. The beach is by far the the best in Waikiki and the hotel grounds are beautiful. Don't miss the Friday night polynesian show and fireworks at the Super Pool. Arrive early for a good seat. Stock up at the ABC store and you will save money. Take a trip to Hanauma Bay to snorkel. It is one of the best places in all of Hawaii. It's like swimming in an aquarium. This was my 5th trip to Hawaii and 4th to Oahu. In the past I stayed at other hotels but now I can't imagine not staying at the HHV. It is a true full-service resort that exceeded by expectations.\n",
      "('pred_class:', 2)\n",
      "('true_class:', 2)\n",
      "\n",
      "I had high expectations for this hotel and the hotel lived up to them and even outperformed them. The location is great with BART, Muni and Union Square within easy walking distance. If you need a rental car for a trip out of town there are several options just around the corner. The rooms are as people mention, quite small, but are very nice decorated and our room had a nice stereo and even a cd with some cool music as well as an IHome for Ipod-docking. Combine that with free Internet (for InTouch-members) and that the hotel threw in complimentary continental breakfast in the Grand CafÃ© and a small welcome gift in our room along with the welcome note at arrival and you have a very nice package. We had a room on the 6th floor (requested a high floor room at the time of booking, a request they honored) On top of that you have friendly staff and of course the \"wine reception\" every afternooen with wine, some snacks, Nintendo Wii and a quick massage. People tend to talk about \"a home away from home\". Hotel Monaco is the hotel that I've visited that has been closest to that saying. I highly recommend this hotel!\n",
      "('pred_class:', 2)\n",
      "('true_class:', 2)\n",
      "\n",
      "Great Value First let me say, I was traveling on a budget and alone! I found this hotel on hotels.com for approximately $100.00 per night. I checked other reviews here on TripAdvisor and decided to go for it. I was pleasantly surprised. The staff was very accomodating in finding me a room that was in a main hallway so that I would feel comfortable in the fact that I was a female traveling alone. The breakfast that was included was not gourmet, but certainly a luxury that we Americans do not see very often. The room was very clean. Yes, it was small and the comforter wasn't down filled, but you should expect that if you are paying $100.00 a night.The decor' of the lobby and the sitting area was nice. There were three computers and a printer available with a swipe of a card. I found this particularly convenient the day I was leaving. I was able to check-in online for my flight and print my boarding pass. Finally...I was right around the corner from Union Square and plenty of desireable restaurants. I would recommend this hotel to anyone that doesn't feel the need to spend $400.00 per night for a room.\n",
      "('pred_class:', 2)\n",
      "('true_class:', 2)\n",
      "\n",
      "The casino could easily be in a nursing home...think wheelchairs & walkers. The room was clean & old fashion...like you are visiting your granny in Queens. If you get a great rate it is Ok for a place to sleep.\n",
      "('pred_class:', 2)\n",
      "('true_class:', 1)\n",
      "\n",
      "We stayed here on Dec 1 2011 as a layover hotel . The highlights were the breakfast and free shuttle to and from the airport. Be advised you must call the hotel upon landing to ensure pickup. The breakfast was ok but the waffles were premade and choices were mostly carbs ,coffee , and juice . The pool is outside and quite cold. The rooms are the most dated that I have stayed in . The was a fake wood floor in the bath that was buckleing . There is no mini fridge or microwave in the lower catagory rooms. There was alot of food options in walking distance. We stayed because of the price , shuttle and breakfast but do not expect the usual La Quinta look.\n",
      "('pred_class:', 2)\n",
      "('true_class:', 0)\n",
      "\n",
      "Our recent stay at this hotel was such a pleasant experience; I can't say enough positive things about it and felt compelled to pass them along. I would \"echo\" all positive comments I read above regarding spacious rooms and clean bedding which almost appeared to be new. All the public areas we were in, i.e. hallway, lobby, etc. appeared to have been remodeled recently. The hallway was wide, well lighted, attractive and very safe feeling. The staff were helpful and represented their jobs very well. Parking is \"tight\" but safe, no charge, and available. It is true the pool is on the small side and view not the best, but above things far out weighed these. Breakfast bar was very adequate and the lady who attended to it was so nice. I too cannot imagine the previous negative comments stayed at this particular Holiday Inn Express??? All in all this stay made my first trip to San Diego a very pleasant one. I would highly recommend to any family visiting the Sea World area or any part of SanDiego for that matter. Thanks to Holday Inn Express for providing a quality experience.\n",
      "('pred_class:', 2)\n",
      "('true_class:', 2)\n",
      "\n",
      "Stayed in the Palace Tower overlooking the pool area. The room was lovely and very quiet. The staff were all very polite and helpful. We have been to Vegas many times but our first time at Caesars Palace and hopefully we will return we had a great time.\n",
      "('pred_class:', 2)\n",
      "('true_class:', 2)\n",
      "\n",
      "Edison hotel was in a great location - literally around the corner frm Time's Square and next to all the Broadway theaters. I will stay there again when I visited NYC. The rooms could use some updates and they were not the cleanest. That said, the room was much cleaner and bigger than my last experience at a hotel in New York. Overall, it is great value for NYC and the staff is very helpful.\n",
      "('pred_class:', 2)\n",
      "('true_class:', 2)\n",
      "\n",
      "The room/suite was much lager than I had thought. Love having a washer & dryer in room. Ask front desk for a blender if there isn't one in your room:) Great snorkeling right infront of the hotel. It was our honeymoon and we stayed for two weeks, we were so comfortable and felt like we had everthing we needed. Loved being able to bus to Lahaina and/or Whaler's Village for drinks and cheap cab home. Even though we rented a car for day trips it's nice to be able to go out near by and not worry about driving. Loved Kaanapali Shores....can't wait to go back!\n",
      "('pred_class:', 2)\n",
      "('true_class:', 2)\n",
      "\n",
      "I stayed with my three children in Building 3 in mid-April. I found the registration staff less than welcoming, but that was balanced by the cleanliness of the room. Since I only paid $77/night (booking hotel and air together thru jetblue), I wasn't expecting much - just a clean place to stay with a free shuttle bus to Disney. I was pleasantly surprised by the good food at Mandolins restaurant (pricey for dinner, but kids eat free for breakfast), and by the fun pool and game room. When I say \"fun pool\" I mean the heated pool - in April, the large pool with the water slide (as youv'e read elsewhere on this site) was beyond cold. The shuttle bus was right on time, and extremely reliable, but DO get to the bus stop early, as seats fill up fast, and you'll be left standing (no fun at the end of a long day at the parks). We ate one night at Charley's across the street, which we later learned is one of the top ranked steakhouses in Florida. I would have enjoyed it more if I was just there with my husband (who couldn't make it on this trip) -- the kids' burgers were overdone, which at those prices was shameful. All in all, a great trip to take in April - remember coverups because it was cold at night, but the weather was perfect for the parks during the day. Would recommend this hotel highly for those looking to save on their accommodations portion of the travel budget.\n",
      "('pred_class:', 2)\n",
      "('true_class:', 2)\n",
      "\n",
      "We stayed at the MGM for 4 days and enjoyed ourselves. The rooms are nice, clean, with great views. The rooms are spacious. The cost of the rooms are well prices. My only criticism would be the air conditioning really smells of stale cigarettes and so do the rooms. Good location. efficient staff. The pool area was great-lots of fun!!\n",
      "('pred_class:', 2)\n",
      "('true_class:', 1)\n",
      "\n",
      "My husband, daughter (2 years old), and I stayed at the Hotel Monaco early in July for 4 nights. We all absolutely loved it! A highlight for the family was the window seats...our daughter fell in LOVE with them and that was the only place she wanted to be while we were in our room. She loved to sit up there and \"see what happens\" (her words). We had also requested a goldfish in our room prior to our arrival, and we received not one, but TWO goldfish on our second day, which we named Harold and Dorothy. She loved having the fish to come home to each day! The rooms are modern, yet comfortable. We stayed in a Mediterranean Suite on the 3rd floor, and it was a great location. The soaking tub was probably one of the biggest, deepest tubs I have ever seen. The shower is very tiny, so be prepared for that. I am 5'3\", and it was a little difficult to maneuver around in it. Our room was cleaned each day, and we also had turndown service on most evenings, which was nice. We did take advantage of the wine hour most nights. This was very enjoyable...great wine (also some sangria), and great conversation with some of the other guests staying at the hotel. They even had board games and Jeopardy! on the Wii for people to enjoy. Also, I would definitely recommend becoming a Facebook fan of the hotel. You just might get a little extra gift from the hotel (we received two cupcakes from Sugar Bliss, SO delicious!). The hotel is in a great location...very close to the river walk, as well as Millennium Park and Michigan Avenue, among other things. One tiny issue was the cost of parking. Everything we looked at on their website said that parking was $42 a night, but when we got there, it was $46 a night. It might be helpful to others if they update their website and promotional materials so everyone is informed. I know it's only a $4 difference per night, but it adds up after a few nights. I could go on and on about all of the positive attributes of this hotel, but all in all, it was spectactular. They have really thought of just about everything, and there are so many unique extras offered by them that you don't see often from other hotels, especially at such an affordable hotel as this one. The window seats alone are worth it! Don't hesitate to book this hotel, you will be very happy that you did! It is certainly at the top of our list for the next time we come to Chicago!\n",
      "('pred_class:', 2)\n",
      "('true_class:', 2)\n",
      "\n",
      "i really enjoyed staying here. however a few of our attendees at our conference said the hotel wasn't that spectacular. i personally enjoyed it and would stay there again. i liked how quickly we got our room, got up to them and how clean and nice they were. the restaurants were good and we really enjoyed the casino floor. i would stay here again.\n",
      "('pred_class:', 2)\n",
      "('true_class:', 2)\n",
      "\n",
      "Check in staff rude and abusive. Security staff had to come and reset my safe as previous guest had left it locked and then they stayed and watched tv for 30 minutes! I felt that the staff didn't care about their hotel guests at all everything aimed very much towards the casino. The hotel was always extremley busy what with the multitude of clubs, eateries, and shows that are on offer, so therefore made even a semi relaxing break impossible. Will not be back ever to this hotel even if I was offered their best suite for free I would rather go to prison!\n",
      "('pred_class:', 0)\n",
      "('true_class:', 0)\n",
      "\n",
      "Probleme mit W-LAN   showReview(17431661, 'full');\n",
      "('pred_class:', 2)\n",
      "('true_class:', 2)\n",
      "\n",
      "Great location. Awesome views in corner room. Mostly windows to the city!\n",
      "('pred_class:', 2)\n",
      "('true_class:', 2)\n",
      "\n",
      "Small room. Charged to workout in gym. Large charge for parking. Forced to wait until check-in time. Watched as a possible patron was denied an examination of room. Called desk because of internet problems...told to fix the problem myself. Internet rarely worked. I fly to SD twice/yr for business...won't recommend this hotel.\n",
      "('pred_class:', 0)\n",
      "('true_class:', 0)\n",
      "\n",
      "We stayed for 3 nights. The hotel staff was very accomodating. We stayed on the 18th floor ( only 19 floors), we had to move rooms after the first night due to some renovations on the top floor. We ended up being in a balony king suite, there wasnt a view, just buildings across the street. The room was nice, toliet-shower area is very tiny! The bed was very comfortable. The door to the balcony didnt block out much noise. I was woken up 3 times by a fire truck and police cars, there is a fire station down the street from the hotel. I was woken up also by banging etc above us, not sure if it was construction, but it almost sounded as if someone was dropping shoes or something above our room. The breakfast at the hotel was just ok, the hot food was cold and the cold food (milk) was warm. We had 2 free coupons for breakfast, but its isnt worth the money if you do pay. Overall the staff was helpful, and the rooms were clean.\n",
      "('pred_class:', 2)\n",
      "('true_class:', 2)\n",
      "\n",
      "This hotel was absolutely fabulous. The room was spotless, the king size bed was comfortable and the location was magnificent! It was in a very safe neighborhood and within walking distance of great restaurants and shopping, plus the bus stopped right down the street. Gary was a great help in securing our shuttle to the airport and helping us with places to eat. The hotel was very quiet as it was at the end of Lombard street. Great place to stay and the price was right.\n",
      "('pred_class:', 2)\n",
      "('true_class:', 2)\n",
      "\n",
      "I booked 2 rooms for Decadence at the Place D Armes. I have stayed at the hotel before and know it is not the best ran hotel in New Orleans. I knew the rooms would be dated and the staff sub-par. My past experiences all told me no, but due to the courtyard, pool, plus location, I booked. Gustav. I arrived Thursday and got my two rooms. Dated as usual but one kudos for the size of 222. The real story here is how the staff handled the incoming storm. When I arrived, a manager was telling us that we may have to leave on Sunday. Reservations were through Monday. When we went out, no others had heard this info. The staff continually kept us updated. They even posted signs and put stuff on our doors. Again, few others had heard anything from their hotels and several did not make plans to leave. The continuous flow of communication from the hotel staff, who were much nicer this time, allowed us to change our flights and get out with little stress. Additionally, I prepaid for the rooms and they refunded me for the missed day. WOW! That was unexpected since anything other (like passes) were refunded. The staff seemed to go out of their way to help get taxi service also which was hard when the cab companies were closing. All in all...it was not a 5 star room but I knew that going in. What was unexpected was the 5 star treatment of their guests in an uncertain atmosphere. We had more info than most others and that was something most others did not get. Great job!\n",
      "('pred_class:', 2)\n",
      "('true_class:', 2)\n",
      "\n",
      "What you expect from a ramada I have been as their rates are good Front desk staff is very friendly and gave us instructions to the Target store Thereâ€™s a upper class breakfast, eggs, sausages, muffins, juice, toast, raisin brans etc. The room was OK, no fuss, basic cable There is a nice pool with lawn chairs so thatâ€™s good Near a few fast-food restaurants and gas stations in the area Not too far from the airport but we didnt flew in or out of Dallas Good parking for our rented a car\n",
      "('pred_class:', 2)\n",
      "('true_class:', 2)\n",
      "\n",
      "This hotel is very nice and clean. Excellent location to shopping/restaurants/Park/theatre - all within walking distance. Lots of freebies: Starbucks coffee and tea in the lobby beginning at 6:00 AM. Wine served at 5:00. Always fresh water in the lobby. Staff is very friendly and accomodating. Room deco is great, bed comfy and normal size bathroom! I was very pleased with the stay and will definately stay there again.\n",
      "('pred_class:', 2)\n",
      "('true_class:', 2)\n",
      "\n",
      "This is a good hotel in an excellent location. However there was a lot of noise from the street - including delivery noise in the night. Having said that when we asked if we could change rooms we were given a quiet room in a different part of the hotel.\n",
      "('pred_class:', 2)\n",
      "('true_class:', 2)\n",
      "\n",
      "Booked this hotel knowing that it was not in the best area of town. The neighborhood was not the problem. Upon arrival late at night, parking was a chore even with a deck. After checking in, we bring our bags in from the car, ask where the elevator is -- yep, it's broken. Four flights of stairs with no help or apologies. Ok, fine. Then up to the room, which would have been fine if it were clean. Hairs everywhere, even liquid makeup drops on the floor. The saving grace was the great coffee shop downstairs. I woud not stay there again.\n",
      "('pred_class:', 2)\n",
      "('true_class:', 0)\n",
      "\n",
      "I really can't believe the negativity in some reviews towards this hotel. The price was great, the location was super convinient, it was clean, the water was super hot and the maid service was superb - friendly and secure. The location was great near some decent diners and pubs (Lansdowne Road) and not far from Times Square. We always felt safe even walking alone after dark. We did have a pool room but you come to expect noise in a city anyway Overall no problems - the decor maybe wasn't the most fashionable but I didn't go to New York to stay in and look at bedcovers!\n",
      "('pred_class:', 2)\n",
      "('true_class:', 2)\n",
      "\n",
      "Overall I was disappointed with this hotel. -We arrived several hours after check-in and the rooms were not ready -The fact that you are staying there, get you no discounts to any of the clubs/shows onsite -Internet $15 per day -Gym $30 per day -About one cocktail waitress for the entire place -Drinks were very over-priced +Room was real nice +Good music always playing Bottomline for the oppulence, I would have expected the same free ammenities of your standard Holiday Inn.\n",
      "('pred_class:', 0)\n",
      "('true_class:', 0)\n",
      "\n",
      "Great location! Just a few blocks in each direction from French Quarter, river front, casino, street cars, etc. Easy walk to wherever you want to go. Room was a little small but we didn't spend much time in room. Bed was comfortable. Staff was friendly and helpful.\n",
      "('pred_class:', 2)\n",
      "('true_class:', 2)\n",
      "\n",
      "For a hotel close to LAX this is the perfect choice. Couldn't fault anything and there was a Starbucks in the lobby (could get my latte at 6am...jetlagged!) and a Subway 2mins walk away. Easy overnight option for a family.\n",
      "('pred_class:', 2)\n",
      "('true_class:', 2)\n",
      "\n",
      "Fabulously friendly Just back from a trip to NY in which we experienced at least three seasons' weather in four days (-16 windchill, blizzards then monsoon rain) all of which could have been a real dampener except for the fantastically warm reception at the Affinia Gardens. The receptionist and concierge deserve special mention for their patience and cheerfulness and the fact that nothing seems too much trouble, from recommending a great place for brunch to getting a car to come earlier when we changed our minds. My teenage daughters and I loved the location, even trudging back in the snow when the yellow cab drivers all went home! The rooms are large and the beds so comfortable, we nearly didn't want to get up in the morning. The kitchenette was a bonus, especially the night we arrived late and just wanted something from the excellent local deli, the Food Emporium. We loved Eat Here Now for a typical US breakfast and had a lovely meal at JoJo's. We agree with every review here, this is a great hotel for the money and we can't wait to go back 鈥?but maybe not in February.\n",
      "('pred_class:', 2)\n",
      "('true_class:', 2)\n",
      "\n",
      "My husband and I thoroughly enjoyed our stay at Mandalay Bay and will definitely be returning! Everyone we encountered was just as nice as could be and the service was impeccable. On our last visit to LV, we stayed at the Venetian, and I thought that staying on the opposite end of the strip might not be as fun. But we barely needed or wanted to leave the property! We walked to Luxor and Excalibur (skip the latter) and it's also connected to the tram, which we did not get to use. The property is awesome. The beach was closed but it looked amazing, and if we bring the kids with us next time they'll love it, and all the other pools. The room seemed small for a suite. We loved the modern decor, a sweet square couch for two, and iPod dock. The bed itself was comfy, but the pillows were quite soft. It doesn't bother me, but my husband had a hard time sleeping because of it. Also, the sheets were comfortable but shabby. A few were even ripped. And I cannot understand why they use flat sheets on the mattress. It never stays; every morning I'd wake up with my face on the bare mattress...yuck! The blanket was one of those plasticky 80s style hotel blankets that feels like it's made out of styrofoam fabric. And the comforter, while stylish, lacked comfort. The bathroom was spacious and clean, with plenty of storage, and a wonderful jacuzzi bathtub. The casino was great and the staff was amazing. We had a great time at RM Seafood, which took fish to a whole new level of deliciousness! The buffet was decent, totally worth the day pass. We ate at the House of Blues during the gospel brunch...big mistake, the service was horrible. Good food, though. We were disappointed in the lunch specials at the Noodle Bowl; that was pretty much the only disappointing meal. Outside the MB, we visited Hash House a Go-Go, which was the best and biggest breakfast I've ever had! We visited Gold and Silver Pawn of \"Pawn Stars\" fame, which was fun; we got to see all the guys and purchased a few keepsakes :). We also saw \"La Reve\", which was amazing. In essence, Mandalay Bay is a great stay, and especially worth it to go when the weather is hot and the beach is open. They definitely need to upgrade the bedding and put more emphasis on the comfort rather than the modern. You can definitely do posh AND cozy, nowadays! However, the service cant be beat! We'll definitely be back, hopefully sooner rather than later!\n",
      "('pred_class:', 2)\n",
      "('true_class:', 2)\n",
      "\n",
      "I went with a group of women to stay at the three bedroom condo. First - the pictures on the website are WRONG! Pictures show second and third bedrooms both with 2 double beds. Only one bedroom has two beds - the other is one - which is fine as long as people know they are sleeping on a sofa bed and not a real bed! I can't respond on the sleep quality since I was one of the ones on the sofa bed! Room smelled horribly like smoke every time we left which is what a bunch of other people have said. My guess is this was once a smoking room and the carpets and such have not been changed. Paint on walls was chipping off, walls were dirty. Halls outside of condos were very old looking. We had a great time despite our accomodations but I would never stay there again!\n",
      "('pred_class:', 0)\n",
      "('true_class:', 0)\n",
      "\n",
      "We would not have booked this hotel had we known there was active construction underway. Arrived on a Thursday and stayed on the concierge floor. The lounge there had a beautiful view of the new and improved harbor but only 10 tables. We were given a room by the elevators, which were very very slow, and asked to be moved and are very glad that we did. We were at the opposite side of the hotel from the lounge and it was fairly quiet. The lounge was to small to accommodate the crowds for breakfast and even though we paid to stay on the floor we had to eat else where or in our rooms. The room was remodeled and clean. Bathroom is small but worked. Expected much more for the price we paid..over looking Columbus Park and the Rose Kennedy parkway. Around the corner from the aquarium and all the tour boats leave from the pier right outside the door.\n",
      "('pred_class:', 0)\n",
      "('true_class:', 1)\n",
      "\n",
      "We chose this hotel because of happy stays in Kimpton hotels in San Francisco and Seattle. The Burnham met the standard - friendly staff, interesting decor, a good restaurant, smallish but comfortable room (with the traditional jungle themed bathrobes) - and in this case, an historic location in the beautifully refurbished Reliance building, one of Chicago's first skyscrapers. The Burnham is a short walk from many cultural spots including the theatre district and the Art Institute. The museum campus is about a 25 walk through Grant Park and along the lakefront. Macy's is across the street. We had inadvertently left some of my wife's sweaters in the room, which were found and shipped to us on our return, thereby reinforcing our satisfaction.\n",
      "('pred_class:', 2)\n",
      "('true_class:', 2)\n",
      "\n",
      "WE had a great stay at the hotel - I have recommended to my colleagues and others if they are headed to Chicago. The location downtown is ideal - two blocks for the subway and walking distance to everything on the north side of the river.\n",
      "('pred_class:', 2)\n",
      "('true_class:', 2)\n",
      "\n",
      "Hotel is average. Very Poor Service. No refill for Soaps or Shampoos provided. You may have to remind them twice and may get it after 1 hr. The bed is not comfortable. It scracthes you. Noticed that Mattress cover is of harsh material which scratches your skin. Better to remove it.\n",
      "('pred_class:', 0)\n",
      "('true_class:', 1)\n",
      "\n",
      "I've stayed at many casinos, and this one was by far the best! From 10-12 Feb 2004, this was my first time staying at the Bellagio, but now it will be my hotel of choice while in Vegas. The Bellagio got it right, down to the smallest detail. We stayed in a Bellagio suite (which we got at a deep discount by signing up with their website) and the room was immaculate and gorgeous. From the top-quality chocolates on our pillows to the wonderful staff in the hotel and casino, we were thoroughly impressed. We didn't have any run ins with the construction and loved our view, even though it wasn't of the fountains. Overall, this is a must-stay!\n",
      "('pred_class:', 2)\n",
      "('true_class:', 2)\n",
      "\n",
      "i can forgive the reufbishement - even if the work starts at 7am. I can forgive the fact that the top 3 floors of the hotel are open to the elements during the refurb. I can forgive the fact that the room might have done with a deeper clean- it was okay, But the staff are so sullen its unbelieveable. The management really needs to sort this out. Free shuttle to the airport - very handy. Dont use the concierge for anything. they will rip you off. We priced various trips - they wanted 100 dollars for Universal Studios (50 dollars for the bus???? or 45 dollars for the Getty - when its free. Figure out other ways to get there.\n",
      "('pred_class:', 2)\n",
      "('true_class:', 0)\n",
      "\n",
      "My husband and I stayed at the Marriott Grande Vista from July 2nd to July 8th. We stayed in a 1 bedroom. It was absolutely amazing! I felt like I was at a home away from home. Spacious kitchens... large rooms.. and we loved the jacuzzi tub. Plus, my hubby and I took advantage of the kitchen and cooked breakfast. We ate our breakfast on the balcony overlooking the golf course. There is plenty to do from paddle boating to the game rooms and dining at the restaurants. We will definitely stay here again.\n",
      "('pred_class:', 2)\n",
      "('true_class:', 2)\n",
      "\n",
      "We stayed here three times during 2007, 2008 and 2009. I was in Boston for medical reasons. Stayed for up to three weeks at a time. The hotel staff was outstanding. Whenever a upgrade was available, they always provided us one at no cost. Room service was fast and helpful. Ceio is the best resturant in the area but expensive. The upper rooms on the inside are preferred Each time we returned they asked how I was feeling. Duringa Oct visit I asked if is was possibe to get a Red Sox ticket for the first game of the playoffs. They found a friend that let us have then for less than the going $$$$ Weather left a little to be desired during the months of Jan and Feb.\n",
      "('pred_class:', 2)\n",
      "('true_class:', 2)\n",
      "\n",
      "First time at PH. Comped a 2 bedroom panorama suite through Total Rewards host. The room was cool- very big with living/dining rooms, 3 baths and multiple TVs. View was great. Furniture was pretty dirty, they prob shouldn't furnish the rooms with light colored chairs and couches. The location was great, walking distance to the new City Center. Knew going in the pool was not great. Took one look and never went back, spent a lot of time at Ceasers pool, Aria, Nikki Beach ect. Casino was nice, friendly, funny dealers, loud and lots of action. Food was great in hotel. PF Changs, Planet Dailes, Earl. Ordered lots of room service which was average. I suppose I would consider staying at PH again, but likely would pass and go somewhere else. It's a confusing casino to navigate. Even after 4 days it was still hard to find elevators. I guess the best things about PH are the location and the atmosphere of the casino and bars there. Outside of that, nothing about PH really excited us or stood out. We spent a lot of time at the Cosmopolitan and that property was phenomenal. Planning to stay there in the future.\n",
      "('pred_class:', 2)\n",
      "('true_class:', 1)\n",
      "\n",
      "This was a great place to say. The one bedroom suite had a lot of space but the decor was a little tired though in great condition. The shower takes several minutes to warm up (as stated by the sign on the door). The resort was not crowded because we were in the off season but there were people above us and we could hear footsteps when they walked around. The restaurant had good food and service. I would stay here again if in town to visit people but as tourist stop. It's a little out of the way and the resort lacks a convience store.\n",
      "('pred_class:', 2)\n",
      "('true_class:', 2)\n",
      "\n",
      "Lahaina Shores is an excellent place to stay due to location and outlay. Having a full kitchen condo suite is a great bonus. The ocean views are outstanding with an excellent lanai. You are only two blocks from the center of Lahaina, hence only a short walk from the old town with excellent amenities for any age group. I personally utilized the Maui bus service which was very good, for all travel around Maui other than the paid excursions which were excellent. The beach access was excellent, and the whole persona was quiet and mature. Very friendly people, with outstanding service from Classic Resorts in Lahaina who did my booking. Thank you Cynthia.\n",
      "('pred_class:', 2)\n",
      "('true_class:', 2)\n",
      "\n",
      "My husband, 2 year old and I stayed here for a week in June 2011. Very convenient location, right around the corner from Disney. Our 2-bed, 2-bath unit was overall immaculate and quiet. The master bedroom's sheets had some hair on it, but the response from the hotel was immediate. We called the front desk and someone was there within 5 minutes to change the room over. We were very impressed with the responsiveness. Nice pool area, playground---very family-friendly. One downside for us was that smoking was allowed in the pool area. Since the pool isn't enormous, I didn't like that we had to be around it. The other disadvantage was there is not free wifi internet----it is $8/day or $30/week, which seemed unnecessarily steep.\n",
      "('pred_class:', 2)\n",
      "('true_class:', 2)\n",
      "\n",
      "I have to say I found Treasure Island …pretty weak. Not that anything was glaringly bad, but comparatively speaking, it’s about the last place on the strip I’d like to stay in again. It was kind of old and dingy. Nothing modern or fun. The crowd was the same. The nightlife within the casino was non-existent. The casino itself was drab and dreary. The food options were not very good. And I found the service in and around the casino quite rude and generally not pleasant. I was playing table games and slots had virtually no drink service and when I did it was some grumpy old lady, boobs to her waist, mad at the world, mad at Las Vegas, mad at serving tourists drinks. Spent some time at Planet Hollywood and what a difference (yes, I know there’s cost difference too). But I got served drinks quickly. Frequently. Nicely. The rooms themselves were totally fine. The beds were comfy and the showers had nice pressure. Just the experience was below average. Spend a tad more to go to PH, Caesar’s, Mirage ….\n",
      "('pred_class:', 2)\n",
      "('true_class:', 0)\n",
      "\n",
      "I have been staying at this hotel whenever in LA for 25 years . The people are great from Mike payton the GM to Denise Lowe my Sales Person to Tony who works in the 16th floor Priority Club . The price is right , great restaraunt and bar ( jazz on Thursday nites ) and only minutes from LAX by shuttle . Excellent for the price !!!\n",
      "('pred_class:', 2)\n",
      "('true_class:', 2)\n",
      "\n",
      "I stayed at the Triton with 3 other girls for a dental convention from September 26-30. Our hotel was booked through the ADA but I picked it out because I thought it looked like fun. From the second we got there to the second we left we were treated like old friends. Remember the old saying, treat others the way you would like to be treated. If you walk into any hotel with an attitude or a chip on your shoulder you're probably going to get the same in return... and ya know what? Ya probably deserve it. Anything we needed they were right on it. They made dinner reservations for us on a few occasions and if we needed anything else they took care of it immediately. I didn't seem to need anything though. There wasn't a thing wrong with the room, the beds were comfortable, and the room was clean. Anyone that complains about the room size is just being a pain in the rear. you think that's small? Go to Europe! If you want a bigger room go stay at a $400 a night hotel! Who cares! I'm not 500 pounds so I had a fine time getting around with my roommate and I don't plan to be in the room but to sleep anyway so that shouldn't even matter. I loved the fresh cookies and wine offered. All free. I also thought the complimentary massages and tarot card readings were cool. It's dog friendly which is nice for those who need it. But I didn't see one trace of any animals the whole time I was there. It's located in a great area, right across the street from China Town. And for those who complain about the noise, get over it! IT'S A CITY PEOPLE!, there is going to be street noise. I slept like a baby. You think thats bad... go to New York!! If you want 100% absolute quite go stay in a bed and breakfast in the mountains of Montana! Gee, some of these other reviews really errked me! At any rate, this is a great hotel, there is a fantastic pub around the corner called the Irish Bank, ask for Mark, tell him Alicia sent ya. I can't wait to go back and I am definatly staying at the Triton! Oh and just a note for you single girls out there..... there is no place on earth better to meet single STRAIGHT men! :)\n",
      "('pred_class:', 2)\n",
      "('true_class:', 2)\n",
      "\n",
      "We were married at Mandalay Bay on May 14, 2011. For the wedding we reserved a Vista Suite (34135) and the room was amazing. The room was showing a little wear but the view is by far the best draw of the Vista Suites. The room is very large and well appointed. There are 1 and a half bathrooms and they were both very nice. There is a large soaking tub and a steam shower. I really can not complain about the room. The property is spacious and well laid out. We are pretty frequent travelers to Vegas and this hotel by far had the most kids of any we have stayed at. The pool area is very nice and there are several chairs. There are also several paid cabanas. We ended up renting a cabana the day after our wedding so we did not have to deal with the crowds and I would do it again in a heartbeat. There are several dining options in Mandalay Bay and we ate at a few of them. There is a pretty wide variety and a 24 hour place so everyone can find something to eat. The wedding chapel was awesome to work with. We were married at the Valley of the Falls and I could not have asked for a better ceremony. Everything was very professional and run very smoothly. I have zero complaints with them. We had many family members stay at Mandalay Bay and all of them were treated well. The negatives I have are these. The hallways were filthy. Just gross. Someone vomited in the hallway halfway to our room and it was there for two days. The walls are in need of painting and the carpet needs to be changed. The elevators were also horrible. It usually took about 20 minutes to get up tp the 34th floor. Something seriously needs to be done about this. The casino is starting to look very dated. Some of the staff have zero personality, and while I am not expecting the level of service I have received at other 5 star properties in Vegas, a smile would have been nice. Overall, Mandalay Bay is a good mid level property in Vegas. There is much to do here and it is great for families.\n",
      "('pred_class:', 2)\n",
      "('true_class:', 2)\n",
      "\n",
      "The overall location of this hotel is good. Very convenient to walk to the Gas Lamp district and located right on the marina. We had awesome views of the marina from our rooms. However, be warned: trains pass in front of hotel across the street and loudly blast their horns at all hours of the day and night. Like many hotels today, this one is no exception, they charge for everything (like parking & internet). Luckily, because we had booked such a large block of rooms, we were able to get the parking & internet fees waived. The rooms were average. Nothing special or spectacular with the size, layout, or furnishings. The staff was friendly and helpful. Large pool area. Starbucks was very busy at times and closed by mid-afternoon. We couldn't find any signs that specifically stated their hours.\n",
      "('pred_class:', 2)\n",
      "('true_class:', 2)\n",
      "\n",
      "My husband and I stayed in Room 528 on Saturday Night, May 2, 2009. The room was very nice and bright and even the bathroom had a window in the shower area to allow for natural light and ventilation. No space for toiletries on the bathroom pedestal sink, but there was room at the end of the tub. We simply placed deodorants, combs, etc., near the TV. Our adult daughter and adult niece stopped in to pick us up and commented on both the nice hotel lobby and our room. Complimentary coffee was available on the mezzanine for hours in the morning, as well as a complimentary wine hour from 5:30 to 6:30pm. There was a large outdoor area on the 3rd floor. We will return.\n",
      "('pred_class:', 2)\n",
      "('true_class:', 2)\n",
      "\n",
      "My husband and I were there for a long weekend with friends. We got a great deal on the room through Magellan. The rooms were nice but very tight. The lighting was very dim, had a hard time seeing what was in the suitcase. I had requested 2 luggage racks, but only got 1. The closet could not accomadate a heavy coat and clothes, they needed coat hooks on the wall. The breakfast was a nice touch, and good. The coffee in the library was good. I would stay again if I was able to get a great rate like I got this time. Can't beat the location!\n",
      "('pred_class:', 2)\n",
      "('true_class:', 1)\n",
      "\n",
      "Depends what you want We had mixed emotions about our stay at this hotel. There was nothing terribly wrong, but it also didn't seem to be a very good value for what it cost. I did not go through Priceline and get $80-$90 like many seem to here, and I probably would have found this hotel to be a good value at that price. Location is outstanding if you are avoiding renting a car and paying the outrageous parking fees. It is right at a BART station and the beginning of the California st cable car line. Many bus routes stop within 2-3 blocks. The Ferry building is right across the street with neat shops and restaurants. Access to the wharf areas was an easy trolley ride away or a comfortable 20-30 minute walk (over flat terrain) if you are looking for a pleasant walk.Rooms and amenities are very standard business-focused hotel issue. The deck was nice as the weather was very good when we were there and it was a pleasant place to sit and read. The only noise issues were from very loud motorcycles that seem to cruise endlessly down the Embarcadero into the very wee hours of the morning during weekends. Front desk service was very helpful and quick. We didn't eat at any of the restaurants - too many good places to eat in SF to do that.Overall a fine experience, but not special enough to justify the cost.\n",
      "('pred_class:', 0)\n",
      "('true_class:', 1)\n",
      "\n",
      "All of what other reviewers write about the excellent location of the Park Central are true, so I will skip any extended narrative about what a good location it is - it's great! We were very pleased with the Park Central. Our experiences with staff were consistently friendly and helpful - everyone from the front desk personnel, to the door men, to the cleaning staff. They truly went out of their way to try and be accommodating. Only the bartender in the hotel bar seemed grumpy, but she may not even be a hotel employee. And, our room was well-sized and well-cleaned during our three day visit. Everywhere in the hotel seemed clean, in very good condition, and well-equipped to handle the huge amount of guests they welcome on a daily basis. Also, we used the hotel's shuttle to LaGuardia Airport when leaving, which cost $45 and offered a much more comfortable experience for two couples to ride in a spacious, comfortable SUV rather than a cramped cab. I only offer two ideas of where the hotel could have more greatly met our needs/expectations. First, we arrived into the city several hours before check-in. They didn't have our room ready, which we absolutely understood. They do offer a luggage check room for $3 a bag, which seems fair and we had no problems with using it. However, the other couple in our party, who arrived two hours after us, were offered a voucher for free luggage check for their bags. We were under the same reservation (though in separate rooms), so I have no idea why our friends received this perk and we did not. But, when inquiring about checking in early, definitely ask the front desk if they can offer you a voucher for free baggage check if your room isn't ready. It would have saved us $12. Second, I am usually a great sleeper but had difficultly sleeping in the hotel for two reasons. First, I believe our room was near some kind of generator or water pump station for the hotel, and there was a regular mechanical noise throughout most of the night that kept me up. Second (and I realize this sounds silly), but the hotel beds have the noisest sheets I have ever experienced. Every little move my husband or I made was well-amplified because of these sheets. Otherwise, the bed was quite comfy. And, I would definitely stay in this hotel again. It provides a great starting place from which to see Manhattan, and in a friendly, accommodating, comfortable atmosphere.\n",
      "('pred_class:', 2)\n",
      "('true_class:', 2)\n",
      "\n",
      "I can't believe some of the bad reviews here about the Mirage! We stayed here in January and had the best time ever. We had moved here from the Luxor to try a different hotel during our stay and we were thrilled with our decision. The room we had was recently refurbished with beatiful decor, flatscreen TV, mini bar, iPod dock, two amazingly comfy beds and a beatiful bathroom (not that you use them much in Las Vegas!) The hallways, elevators and hotel itself were all very stylish and luxiourous. The Beatles bar was so fun and the show itself was breathtaking. I didn't like the secret garden as i thought the animals were treated very badly. The lions, tigers and cheetahs were locked in very small enclosures with people blinding them with camera flashes all day. They looked either despondent or very agitated. Either way, they weren't happy campers so the whole experience was a bit of a downer for me. The Mirage was great overall though - typical glitzy Vegas style! The drinks were rather expensive though, as they were in most of the popular hotels. We had a great stay at the Mirage and were sad to say goodbye! We'd definitely return!\n",
      "('pred_class:', 2)\n",
      "('true_class:', 2)\n",
      "\n",
      "I have stayed at a lot of Hiltons over the years and this one was surely the worst. The lobby is nice, but once you get past it, the hotel is dingy: poorly lit hallways, stained carpets, chipped furnishings, sagging closet doors. Bed was okay and it was quiet, but those were the only good things. Would not stay again and would be more skeptical about Hiltons in general in the future. Hotels like this do a real damage to their brand.\n",
      "('pred_class:', 0)\n",
      "('true_class:', 0)\n",
      "\n",
      "We got a great deal through Priceline. The hotel is in a great area. It was only 1/2 block to catch the cable car and a few blocks from Union Square. The service in the hotel was impeccable. The bellmen were the best.......very professional and could not be more helpful. The rooms were average...nothing spectacular. At times it was a bit noisy....you could hear the bellmen's whistle early in the morning and the maid vacuuming. The room service menu was a bit pricey. I would definately stay there again because of the price and great service.\n",
      "('pred_class:', 2)\n",
      "('true_class:', 2)\n",
      "\n"
     ]
    }
   ],
   "source": [
    "ids_of_titles = range(0,100) # range(X_test.shape[0]) \n",
    "\n",
    "for i in ids_of_titles:\n",
    "    pred_class = np.argmax(model.predict([X_test_padded_seqs[i]]))\n",
    "    true_class = np.argmax(y_test[i])\n",
    "    \n",
    "    print(X_test.values[i])\n",
    "    print('pred_class:', le.inverse_transform(pred_class))\n",
    "    print('true_class:', le.inverse_transform(true_class))\n",
    "    print('')"
   ]
  }
 ],
 "metadata": {
  "anaconda-cloud": {},
  "kernelspec": {
   "display_name": "Python [conda env:cs670]",
   "language": "python",
   "name": "conda-env-cs670-py"
  },
  "language_info": {
   "codemirror_mode": {
    "name": "ipython",
    "version": 2
   },
   "file_extension": ".py",
   "mimetype": "text/x-python",
   "name": "python",
   "nbconvert_exporter": "python",
   "pygments_lexer": "ipython2",
   "version": "2.7.13"
  }
 },
 "nbformat": 4,
 "nbformat_minor": 1
}
