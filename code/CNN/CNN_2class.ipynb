{
 "cells": [
  {
   "cell_type": "code",
   "execution_count": 1,
   "metadata": {
    "collapsed": true
   },
   "outputs": [],
   "source": [
    "import sys\n",
    "import tensorflow as tf\n",
    "import json\n",
    "import os\n",
    "n_epoch = 3\n",
    "import pandas as pd"
   ]
  },
  {
   "cell_type": "code",
   "execution_count": 4,
   "metadata": {
    "collapsed": false
   },
   "outputs": [
    {
     "data": {
      "text/html": [
       "<div>\n",
       "<table border=\"1\" class=\"dataframe\">\n",
       "  <thead>\n",
       "    <tr style=\"text-align: right;\">\n",
       "      <th></th>\n",
       "      <th>Ratings</th>\n",
       "      <th>Content</th>\n",
       "    </tr>\n",
       "  </thead>\n",
       "  <tbody>\n",
       "    <tr>\n",
       "      <th>0</th>\n",
       "      <td>5.0</td>\n",
       "      <td>Usually stay near the airport, but this trip w...</td>\n",
       "    </tr>\n",
       "    <tr>\n",
       "      <th>1</th>\n",
       "      <td>4.0</td>\n",
       "      <td>Stayed at this Hilton for 2 nights. It was lik...</td>\n",
       "    </tr>\n",
       "    <tr>\n",
       "      <th>2</th>\n",
       "      <td>4.0</td>\n",
       "      <td>Stayed there one night, December 16, on the wa...</td>\n",
       "    </tr>\n",
       "    <tr>\n",
       "      <th>3</th>\n",
       "      <td>5.0</td>\n",
       "      <td>I just stayed here last weekend and have alrea...</td>\n",
       "    </tr>\n",
       "    <tr>\n",
       "      <th>4</th>\n",
       "      <td>5.0</td>\n",
       "      <td>My mother who is 90 and I stayed one night on ...</td>\n",
       "    </tr>\n",
       "    <tr>\n",
       "      <th>5</th>\n",
       "      <td>4.0</td>\n",
       "      <td>A fabulous stop. Clean, friendly, excellent lo...</td>\n",
       "    </tr>\n",
       "    <tr>\n",
       "      <th>6</th>\n",
       "      <td>4.0</td>\n",
       "      <td>I stopped here just for the night on a road tr...</td>\n",
       "    </tr>\n",
       "    <tr>\n",
       "      <th>7</th>\n",
       "      <td>4.0</td>\n",
       "      <td>Great spot close to shops and dinning but perh...</td>\n",
       "    </tr>\n",
       "    <tr>\n",
       "      <th>8</th>\n",
       "      <td>4.0</td>\n",
       "      <td>My husband and I go to Baltimore often as he h...</td>\n",
       "    </tr>\n",
       "    <tr>\n",
       "      <th>9</th>\n",
       "      <td>5.0</td>\n",
       "      <td>Super clean. Great hotel to stay at. We actual...</td>\n",
       "    </tr>\n",
       "  </tbody>\n",
       "</table>\n",
       "</div>"
      ],
      "text/plain": [
       "   Ratings                                            Content\n",
       "0      5.0  Usually stay near the airport, but this trip w...\n",
       "1      4.0  Stayed at this Hilton for 2 nights. It was lik...\n",
       "2      4.0  Stayed there one night, December 16, on the wa...\n",
       "3      5.0  I just stayed here last weekend and have alrea...\n",
       "4      5.0  My mother who is 90 and I stayed one night on ...\n",
       "5      4.0  A fabulous stop. Clean, friendly, excellent lo...\n",
       "6      4.0  I stopped here just for the night on a road tr...\n",
       "7      4.0  Great spot close to shops and dinning but perh...\n",
       "8      4.0  My husband and I go to Baltimore often as he h...\n",
       "9      5.0  Super clean. Great hotel to stay at. We actual..."
      ]
     },
     "execution_count": 4,
     "metadata": {},
     "output_type": "execute_result"
    }
   ],
   "source": [
    "import pandas as pd\n",
    "df = pd.read_csv('../RNN/tripadv.csv')\n",
    "df.head(10)"
   ]
  },
  {
   "cell_type": "code",
   "execution_count": 5,
   "metadata": {
    "collapsed": false
   },
   "outputs": [
    {
     "data": {
      "text/plain": [
       "0    5.0\n",
       "1    4.0\n",
       "2    4.0\n",
       "3    5.0\n",
       "4    5.0\n",
       "5    4.0\n",
       "6    4.0\n",
       "7    4.0\n",
       "8    4.0\n",
       "9    5.0\n",
       "Name: Ratings, dtype: float64"
      ]
     },
     "execution_count": 5,
     "metadata": {},
     "output_type": "execute_result"
    }
   ],
   "source": [
    "X = df.Content\n",
    "y = df.Ratings\n",
    "X.head(10)\n",
    "y.head(10)"
   ]
  },
  {
   "cell_type": "code",
   "execution_count": 6,
   "metadata": {
    "collapsed": false
   },
   "outputs": [],
   "source": [
    "def get_positive_or_negative_classes_two_classes(y):\n",
    "    return y.apply(lambda val: 0 if val<=2 else 1)\n",
    "def get_positive_or_negative_classes_three_classes(y):\n",
    "    return y.apply(lambda val: 0 if val<=2 else 2 if val > 3 else 1)\n",
    "def get_positive_or_negative_classes_five_classes(y):\n",
    "    return y.apply(lambda val: 0 if val=='' else val)"
   ]
  },
  {
   "cell_type": "code",
   "execution_count": 7,
   "metadata": {
    "collapsed": false
   },
   "outputs": [],
   "source": [
    "import tflearn\n",
    "from tflearn.data_utils import to_categorical, pad_sequences\n",
    "from sklearn.model_selection import train_test_split\n",
    "X_train, X_test, y_train, y_test = train_test_split(X, y, test_size=0.1, random_state=42)\n",
    "y_train = get_positive_or_negative_classes_three_classes(y_train)\n",
    "y_test = get_positive_or_negative_classes_three_classes(y_test)"
   ]
  },
  {
   "cell_type": "code",
   "execution_count": 8,
   "metadata": {
    "collapsed": true
   },
   "outputs": [],
   "source": [
    "import string\n",
    "from sklearn.feature_extraction.text import CountVectorizer\n",
    "vect = CountVectorizer(ngram_range=(1,1), token_pattern=r'\\b\\w{1,}\\b')"
   ]
  },
  {
   "cell_type": "code",
   "execution_count": 9,
   "metadata": {
    "collapsed": false
   },
   "outputs": [
    {
     "data": {
      "text/plain": [
       "132362"
      ]
     },
     "execution_count": 9,
     "metadata": {},
     "output_type": "execute_result"
    }
   ],
   "source": [
    "vect.fit(X_train)\n",
    "vocab = vect.vocabulary_\n",
    "len(vocab)"
   ]
  },
  {
   "cell_type": "code",
   "execution_count": 10,
   "metadata": {
    "collapsed": true
   },
   "outputs": [],
   "source": [
    "def convert_X_to_X_word_ids(X):\n",
    "    return X.apply( lambda x: [vocab[w] for w in [w.lower().strip() for w in x.split()] if w in vocab] )"
   ]
  },
  {
   "cell_type": "code",
   "execution_count": 11,
   "metadata": {
    "collapsed": false
   },
   "outputs": [],
   "source": [
    "X_train_word_ids = convert_X_to_X_word_ids(X_train)\n",
    "X_test_word_ids  = convert_X_to_X_word_ids(X_test)\n"
   ]
  },
  {
   "cell_type": "code",
   "execution_count": 16,
   "metadata": {
    "collapsed": false
   },
   "outputs": [
    {
     "data": {
      "text/plain": [
       "87742     [61869, 117272, 96328, 91452, 103347, 53053, 6...\n",
       "178022    [20262, 102137, 130008, 14055, 80615, 73925, 6...\n",
       "214335    [57226, 4595, 118614, 126568, 117939, 127793, ...\n",
       "115399    [128249, 112180, 117939, 61869, 43304, 118986,...\n",
       "45982     [128249, 55082, 86553, 85218, 37384, 10077, 12...\n",
       "Name: Content, dtype: object"
      ]
     },
     "execution_count": 16,
     "metadata": {},
     "output_type": "execute_result"
    }
   ],
   "source": [
    "X_train_word_ids.head()"
   ]
  },
  {
   "cell_type": "code",
   "execution_count": 17,
   "metadata": {
    "collapsed": false
   },
   "outputs": [
    {
     "data": {
      "text/plain": [
       "87742     Ancient, Budget-Minded Hotel The Ramada Plaza ...\n",
       "178022    Beautiful rooms with american movie memorabili...\n",
       "214335    Great 1st Time Visit This was my first visit t...\n",
       "115399    We stayed this hotel due to a flight cancellat...\n",
       "45982     We gave our olders daughter a trip to New York...\n",
       "Name: Content, dtype: object"
      ]
     },
     "execution_count": 17,
     "metadata": {},
     "output_type": "execute_result"
    }
   ],
   "source": [
    "X_train.head()"
   ]
  },
  {
   "cell_type": "code",
   "execution_count": 18,
   "metadata": {
    "collapsed": true
   },
   "outputs": [],
   "source": [
    "X_train_padded_seqs = pad_sequences(X_train_word_ids, maxlen=20, value=0)\n",
    "X_test_padded_seqs  = pad_sequences(X_test_word_ids , maxlen=20, value=0)"
   ]
  },
  {
   "cell_type": "code",
   "execution_count": 69,
   "metadata": {
    "collapsed": false
   },
   "outputs": [
    {
     "name": "stdout",
     "output_type": "stream",
     "text": [
      "('X_train_padded_seqs.shape:', (249481, 20))\n",
      "('X_test_padded_seqs.shape:', (27721, 20))\n"
     ]
    }
   ],
   "source": [
    "print('X_train_padded_seqs.shape:', X_train_padded_seqs.shape)\n",
    "print('X_test_padded_seqs.shape:', X_test_padded_seqs.shape)"
   ]
  },
  {
   "cell_type": "code",
   "execution_count": 11,
   "metadata": {
    "collapsed": false
   },
   "outputs": [
    {
     "data": {
      "text/html": [
       "<div>\n",
       "<table border=\"1\" class=\"dataframe\">\n",
       "  <thead>\n",
       "    <tr style=\"text-align: right;\">\n",
       "      <th></th>\n",
       "      <th>0</th>\n",
       "      <th>1</th>\n",
       "      <th>2</th>\n",
       "      <th>3</th>\n",
       "      <th>4</th>\n",
       "      <th>5</th>\n",
       "      <th>6</th>\n",
       "      <th>7</th>\n",
       "      <th>8</th>\n",
       "      <th>9</th>\n",
       "      <th>10</th>\n",
       "      <th>11</th>\n",
       "      <th>12</th>\n",
       "      <th>13</th>\n",
       "      <th>14</th>\n",
       "      <th>15</th>\n",
       "      <th>16</th>\n",
       "      <th>17</th>\n",
       "      <th>18</th>\n",
       "      <th>19</th>\n",
       "    </tr>\n",
       "  </thead>\n",
       "  <tbody>\n",
       "    <tr>\n",
       "      <th>0</th>\n",
       "      <td>117940</td>\n",
       "      <td>27635</td>\n",
       "      <td>14806</td>\n",
       "      <td>100844</td>\n",
       "      <td>16499</td>\n",
       "      <td>129388</td>\n",
       "      <td>126708</td>\n",
       "      <td>63449</td>\n",
       "      <td>61002</td>\n",
       "      <td>98215</td>\n",
       "      <td>44384</td>\n",
       "      <td>17548</td>\n",
       "      <td>117940</td>\n",
       "      <td>43140</td>\n",
       "      <td>83959</td>\n",
       "      <td>117940</td>\n",
       "      <td>52758</td>\n",
       "      <td>14806</td>\n",
       "      <td>17679</td>\n",
       "      <td>129388</td>\n",
       "    </tr>\n",
       "    <tr>\n",
       "      <th>1</th>\n",
       "      <td>0</td>\n",
       "      <td>0</td>\n",
       "      <td>0</td>\n",
       "      <td>0</td>\n",
       "      <td>0</td>\n",
       "      <td>0</td>\n",
       "      <td>0</td>\n",
       "      <td>0</td>\n",
       "      <td>0</td>\n",
       "      <td>0</td>\n",
       "      <td>0</td>\n",
       "      <td>0</td>\n",
       "      <td>0</td>\n",
       "      <td>0</td>\n",
       "      <td>0</td>\n",
       "      <td>0</td>\n",
       "      <td>0</td>\n",
       "      <td>0</td>\n",
       "      <td>0</td>\n",
       "      <td>0</td>\n",
       "    </tr>\n",
       "    <tr>\n",
       "      <th>2</th>\n",
       "      <td>51666</td>\n",
       "      <td>63449</td>\n",
       "      <td>14170</td>\n",
       "      <td>84176</td>\n",
       "      <td>10430</td>\n",
       "      <td>28576</td>\n",
       "      <td>62322</td>\n",
       "      <td>58600</td>\n",
       "      <td>17548</td>\n",
       "      <td>25872</td>\n",
       "      <td>63749</td>\n",
       "      <td>81749</td>\n",
       "      <td>50547</td>\n",
       "      <td>23913</td>\n",
       "      <td>62322</td>\n",
       "      <td>67114</td>\n",
       "      <td>110215</td>\n",
       "      <td>87187</td>\n",
       "      <td>64574</td>\n",
       "      <td>63449</td>\n",
       "    </tr>\n",
       "    <tr>\n",
       "      <th>3</th>\n",
       "      <td>63749</td>\n",
       "      <td>132436</td>\n",
       "      <td>65988</td>\n",
       "      <td>85956</td>\n",
       "      <td>56872</td>\n",
       "      <td>119676</td>\n",
       "      <td>126271</td>\n",
       "      <td>63449</td>\n",
       "      <td>131441</td>\n",
       "      <td>104520</td>\n",
       "      <td>119299</td>\n",
       "      <td>59703</td>\n",
       "      <td>89264</td>\n",
       "      <td>117940</td>\n",
       "      <td>21252</td>\n",
       "      <td>39522</td>\n",
       "      <td>85956</td>\n",
       "      <td>129653</td>\n",
       "      <td>132436</td>\n",
       "      <td>118618</td>\n",
       "    </tr>\n",
       "    <tr>\n",
       "      <th>4</th>\n",
       "      <td>63749</td>\n",
       "      <td>132436</td>\n",
       "      <td>82930</td>\n",
       "      <td>75287</td>\n",
       "      <td>132522</td>\n",
       "      <td>128890</td>\n",
       "      <td>119676</td>\n",
       "      <td>117940</td>\n",
       "      <td>129480</td>\n",
       "      <td>132436</td>\n",
       "      <td>79726</td>\n",
       "      <td>87187</td>\n",
       "      <td>85956</td>\n",
       "      <td>10430</td>\n",
       "      <td>27635</td>\n",
       "      <td>117940</td>\n",
       "      <td>72978</td>\n",
       "      <td>130345</td>\n",
       "      <td>82930</td>\n",
       "      <td>20370</td>\n",
       "    </tr>\n",
       "  </tbody>\n",
       "</table>\n",
       "</div>"
      ],
      "text/plain": [
       "       0       1      2       3       4       5       6       7       8   \\\n",
       "0  117940   27635  14806  100844   16499  129388  126708   63449   61002   \n",
       "1       0       0      0       0       0       0       0       0       0   \n",
       "2   51666   63449  14170   84176   10430   28576   62322   58600   17548   \n",
       "3   63749  132436  65988   85956   56872  119676  126271   63449  131441   \n",
       "4   63749  132436  82930   75287  132522  128890  119676  117940  129480   \n",
       "\n",
       "       9       10     11      12      13     14      15      16      17  \\\n",
       "0   98215   44384  17548  117940   43140  83959  117940   52758   14806   \n",
       "1       0       0      0       0       0      0       0       0       0   \n",
       "2   25872   63749  81749   50547   23913  62322   67114  110215   87187   \n",
       "3  104520  119299  59703   89264  117940  21252   39522   85956  129653   \n",
       "4  132436   79726  87187   85956   10430  27635  117940   72978  130345   \n",
       "\n",
       "       18      19  \n",
       "0   17679  129388  \n",
       "1       0       0  \n",
       "2   64574   63449  \n",
       "3  132436  118618  \n",
       "4   82930   20370  "
      ]
     },
     "execution_count": 11,
     "metadata": {},
     "output_type": "execute_result"
    }
   ],
   "source": [
    "pd.DataFrame(X_train_padded_seqs).head()\n"
   ]
  },
  {
   "cell_type": "code",
   "execution_count": 12,
   "metadata": {
    "collapsed": false
   },
   "outputs": [
    {
     "data": {
      "text/html": [
       "<div>\n",
       "<table border=\"1\" class=\"dataframe\">\n",
       "  <thead>\n",
       "    <tr style=\"text-align: right;\">\n",
       "      <th></th>\n",
       "      <th>0</th>\n",
       "      <th>1</th>\n",
       "      <th>2</th>\n",
       "      <th>3</th>\n",
       "      <th>4</th>\n",
       "      <th>5</th>\n",
       "      <th>6</th>\n",
       "      <th>7</th>\n",
       "      <th>8</th>\n",
       "      <th>9</th>\n",
       "      <th>10</th>\n",
       "      <th>11</th>\n",
       "      <th>12</th>\n",
       "      <th>13</th>\n",
       "      <th>14</th>\n",
       "      <th>15</th>\n",
       "      <th>16</th>\n",
       "      <th>17</th>\n",
       "      <th>18</th>\n",
       "      <th>19</th>\n",
       "    </tr>\n",
       "  </thead>\n",
       "  <tbody>\n",
       "    <tr>\n",
       "      <th>0</th>\n",
       "      <td>63449</td>\n",
       "      <td>128501</td>\n",
       "      <td>74099</td>\n",
       "      <td>53247</td>\n",
       "      <td>119676</td>\n",
       "      <td>117940</td>\n",
       "      <td>57402</td>\n",
       "      <td>127950</td>\n",
       "      <td>12661</td>\n",
       "      <td>63449</td>\n",
       "      <td>58745</td>\n",
       "      <td>105785</td>\n",
       "      <td>67296</td>\n",
       "      <td>85956</td>\n",
       "      <td>117940</td>\n",
       "      <td>121126</td>\n",
       "      <td>63449</td>\n",
       "      <td>128501</td>\n",
       "      <td>84176</td>\n",
       "      <td>10684</td>\n",
       "    </tr>\n",
       "    <tr>\n",
       "      <th>1</th>\n",
       "      <td>81749</td>\n",
       "      <td>56404</td>\n",
       "      <td>117940</td>\n",
       "      <td>80712</td>\n",
       "      <td>85956</td>\n",
       "      <td>117897</td>\n",
       "      <td>14806</td>\n",
       "      <td>63449</td>\n",
       "      <td>23469</td>\n",
       "      <td>10430</td>\n",
       "      <td>112472</td>\n",
       "      <td>102671</td>\n",
       "      <td>17548</td>\n",
       "      <td>117940</td>\n",
       "      <td>16610</td>\n",
       "      <td>52890</td>\n",
       "      <td>87117</td>\n",
       "      <td>126271</td>\n",
       "      <td>17062</td>\n",
       "      <td>63449</td>\n",
       "    </tr>\n",
       "    <tr>\n",
       "      <th>2</th>\n",
       "      <td>118618</td>\n",
       "      <td>67114</td>\n",
       "      <td>10430</td>\n",
       "      <td>83179</td>\n",
       "      <td>95059</td>\n",
       "      <td>14806</td>\n",
       "      <td>10430</td>\n",
       "      <td>57663</td>\n",
       "      <td>73724</td>\n",
       "      <td>52890</td>\n",
       "      <td>126993</td>\n",
       "      <td>85396</td>\n",
       "      <td>117940</td>\n",
       "      <td>20249</td>\n",
       "      <td>14806</td>\n",
       "      <td>82292</td>\n",
       "      <td>117940</td>\n",
       "      <td>102755</td>\n",
       "      <td>16477</td>\n",
       "      <td>119519</td>\n",
       "    </tr>\n",
       "    <tr>\n",
       "      <th>3</th>\n",
       "      <td>90093</td>\n",
       "      <td>130345</td>\n",
       "      <td>14149</td>\n",
       "      <td>59851</td>\n",
       "      <td>63449</td>\n",
       "      <td>51666</td>\n",
       "      <td>112831</td>\n",
       "      <td>18753</td>\n",
       "      <td>84719</td>\n",
       "      <td>64574</td>\n",
       "      <td>106175</td>\n",
       "      <td>52890</td>\n",
       "      <td>8235</td>\n",
       "      <td>63449</td>\n",
       "      <td>58745</td>\n",
       "      <td>10430</td>\n",
       "      <td>131060</td>\n",
       "      <td>119299</td>\n",
       "      <td>25872</td>\n",
       "      <td>40435</td>\n",
       "    </tr>\n",
       "    <tr>\n",
       "      <th>4</th>\n",
       "      <td>121430</td>\n",
       "      <td>97478</td>\n",
       "      <td>96355</td>\n",
       "      <td>29180</td>\n",
       "      <td>48253</td>\n",
       "      <td>101862</td>\n",
       "      <td>64574</td>\n",
       "      <td>117940</td>\n",
       "      <td>60159</td>\n",
       "      <td>85396</td>\n",
       "      <td>78839</td>\n",
       "      <td>128107</td>\n",
       "      <td>67114</td>\n",
       "      <td>11661</td>\n",
       "      <td>117940</td>\n",
       "      <td>128176</td>\n",
       "      <td>41924</td>\n",
       "      <td>119676</td>\n",
       "      <td>102349</td>\n",
       "      <td>28296</td>\n",
       "    </tr>\n",
       "  </tbody>\n",
       "</table>\n",
       "</div>"
      ],
      "text/plain": [
       "       0       1       2      3       4       5       6       7      8   \\\n",
       "0   63449  128501   74099  53247  119676  117940   57402  127950  12661   \n",
       "1   81749   56404  117940  80712   85956  117897   14806   63449  23469   \n",
       "2  118618   67114   10430  83179   95059   14806   10430   57663  73724   \n",
       "3   90093  130345   14149  59851   63449   51666  112831   18753  84719   \n",
       "4  121430   97478   96355  29180   48253  101862   64574  117940  60159   \n",
       "\n",
       "      9       10      11      12      13      14      15      16      17  \\\n",
       "0  63449   58745  105785   67296   85956  117940  121126   63449  128501   \n",
       "1  10430  112472  102671   17548  117940   16610   52890   87117  126271   \n",
       "2  52890  126993   85396  117940   20249   14806   82292  117940  102755   \n",
       "3  64574  106175   52890    8235   63449   58745   10430  131060  119299   \n",
       "4  85396   78839  128107   67114   11661  117940  128176   41924  119676   \n",
       "\n",
       "       18      19  \n",
       "0   84176   10684  \n",
       "1   17062   63449  \n",
       "2   16477  119519  \n",
       "3   25872   40435  \n",
       "4  102349   28296  "
      ]
     },
     "execution_count": 12,
     "metadata": {},
     "output_type": "execute_result"
    }
   ],
   "source": [
    "pd.DataFrame(X_test_padded_seqs).head()\n"
   ]
  },
  {
   "cell_type": "code",
   "execution_count": 19,
   "metadata": {
    "collapsed": false
   },
   "outputs": [
    {
     "data": {
      "text/plain": [
       "[5.0, 4.0, 3.0, 2.0, 1.0]"
      ]
     },
     "execution_count": 19,
     "metadata": {},
     "output_type": "execute_result"
    }
   ],
   "source": [
    "unique_y_labels = list(y_train.value_counts().index)\n",
    "unique_y_labels"
   ]
  },
  {
   "cell_type": "code",
   "execution_count": 41,
   "metadata": {
    "collapsed": false
   },
   "outputs": [
    {
     "data": {
      "text/plain": [
       "array([[ 0.,  1.,  0.,  0.,  0.],\n",
       "       [ 0.,  0.,  0.,  0.,  1.],\n",
       "       [ 0.,  0.,  0.,  1.,  0.],\n",
       "       ..., \n",
       "       [ 0.,  0.,  0.,  0.,  1.],\n",
       "       [ 0.,  0.,  0.,  1.,  0.],\n",
       "       [ 0.,  0.,  0.,  0.,  1.]])"
      ]
     },
     "execution_count": 41,
     "metadata": {},
     "output_type": "execute_result"
    }
   ],
   "source": [
    "y_train"
   ]
  },
  {
   "cell_type": "code",
   "execution_count": 13,
   "metadata": {
    "collapsed": false
   },
   "outputs": [
    {
     "name": "stderr",
     "output_type": "stream",
     "text": [
      "Using TensorFlow backend.\n"
     ]
    }
   ],
   "source": [
    "import numpy as np\n",
    "from keras.models import Sequential\n",
    "from keras.layers import Dense\n",
    "from keras.layers import Flatten\n",
    "from keras.layers.convolutional import Conv1D\n",
    "from keras.layers.convolutional import MaxPooling1D\n",
    "from keras.layers.embeddings import Embedding\n",
    "from keras.preprocessing import sequence\n",
    "seed = 7\n",
    "np.random.seed(seed)"
   ]
  },
  {
   "cell_type": "code",
   "execution_count": 14,
   "metadata": {
    "collapsed": true
   },
   "outputs": [],
   "source": [
    "def get_positive_or_negative_classes(y):\n",
    "    return y.apply(lambda val: 0 if val<=2 else 2 if val > 3 else 0 )"
   ]
  },
  {
   "cell_type": "code",
   "execution_count": 15,
   "metadata": {
    "collapsed": false
   },
   "outputs": [],
   "source": [
    "# np_array = np.genfromtxt ('out.csv', delimiter=\",\")\n",
    "from sklearn.model_selection import train_test_split\n",
    "X_train, X_test, y_train, y_test = train_test_split(X, y, test_size=0.1, random_state=42)\n",
    "max_words = 20\n",
    "X_train_word_ids = convert_X_to_X_word_ids(X_train)\n",
    "X_test_word_ids  = convert_X_to_X_word_ids(X_test)\n",
    "X_train_word_ids = np.array(X_train_word_ids)\n",
    "X_test_word_ids = np.array(X_test_word_ids)\n",
    "y_train = get_positive_or_negative_classes_three_classes(y_train)\n",
    "y_test = get_positive_or_negative_classes_three_classes(y_test)\n",
    "y_train = np.array(y_train)\n",
    "y_test = np.array(y_test)\n",
    "X_train_padded_seqs = sequence.pad_sequences(X_train_word_ids, maxlen=max_words, value=0)\n",
    "X_test_padded_seqs  = sequence.pad_sequences(X_test_word_ids , maxlen=max_words, value=0)"
   ]
  },
  {
   "cell_type": "code",
   "execution_count": null,
   "metadata": {
    "collapsed": false
   },
   "outputs": [],
   "source": []
  },
  {
   "cell_type": "code",
   "execution_count": 16,
   "metadata": {
    "collapsed": false
   },
   "outputs": [
    {
     "name": "stdout",
     "output_type": "stream",
     "text": [
      "_________________________________________________________________\n",
      "Layer (type)                 Output Shape              Param #   \n",
      "=================================================================\n",
      "embedding_1 (Embedding)      (None, 20, 32)            4235584   \n",
      "_________________________________________________________________\n",
      "conv1d_1 (Conv1D)            (None, 20, 32)            3104      \n",
      "_________________________________________________________________\n",
      "max_pooling1d_1 (MaxPooling1 (None, 10, 32)            0         \n",
      "_________________________________________________________________\n",
      "flatten_1 (Flatten)          (None, 320)               0         \n",
      "_________________________________________________________________\n",
      "dense_1 (Dense)              (None, 250)               80250     \n",
      "_________________________________________________________________\n",
      "dense_2 (Dense)              (None, 1)                 251       \n",
      "=================================================================\n",
      "Total params: 4,319,189\n",
      "Trainable params: 4,319,189\n",
      "Non-trainable params: 0\n",
      "_________________________________________________________________\n",
      "None\n"
     ]
    }
   ],
   "source": [
    "model = Sequential()\n",
    "top_words = len(vocab)\n",
    "model.add(Embedding(top_words, 32, input_length=max_words))\n",
    "model.add(Conv1D(filters=32, kernel_size=3, padding='same', activation='relu'))\n",
    "model.add(MaxPooling1D(pool_size=2))\n",
    "model.add(Flatten())\n",
    "model.add(Dense(250, activation='relu'))\n",
    "model.add(Dense(1, activation='sigmoid'))\n",
    "model.compile(loss='binary_crossentropy', optimizer='adam', metrics=['accuracy'])\n",
    "print(model.summary())"
   ]
  },
  {
   "cell_type": "code",
   "execution_count": 17,
   "metadata": {
    "collapsed": false
   },
   "outputs": [
    {
     "name": "stdout",
     "output_type": "stream",
     "text": [
      "_________________________________________________________________\n",
      "Layer (type)                 Output Shape              Param #   \n",
      "=================================================================\n",
      "embedding_2 (Embedding)      (None, 20, 32)            4235584   \n",
      "_________________________________________________________________\n",
      "flatten_2 (Flatten)          (None, 640)               0         \n",
      "_________________________________________________________________\n",
      "dense_3 (Dense)              (None, 250)               160250    \n",
      "_________________________________________________________________\n",
      "dense_4 (Dense)              (None, 1)                 251       \n",
      "=================================================================\n",
      "Total params: 4,396,085\n",
      "Trainable params: 4,396,085\n",
      "Non-trainable params: 0\n",
      "_________________________________________________________________\n",
      "None\n"
     ]
    }
   ],
   "source": [
    "model = Sequential()\n",
    "model.add(Embedding(top_words, 32, input_length=max_words))\n",
    "model.add(Flatten())\n",
    "model.add(Dense(250, activation='relu'))\n",
    "model.add(Dense(1, activation='sigmoid'))\n",
    "model.compile(loss='binary_crossentropy', optimizer='adam', metrics=['accuracy'])\n",
    "print(model.summary())"
   ]
  },
  {
   "cell_type": "code",
   "execution_count": null,
   "metadata": {
    "collapsed": false
   },
   "outputs": [
    {
     "name": "stdout",
     "output_type": "stream",
     "text": [
      "Train on 249050 samples, validate on 27673 samples\n",
      "Epoch 1/2\n",
      "219s - loss: -8.3519e+00 - acc: 0.1517 - val_loss: -9.0058e+00 - val_acc: 0.1802\n",
      "Epoch 2/2\n"
     ]
    }
   ],
   "source": [
    "model.fit(X_train_padded_seqs, y_train, validation_data=(X_test_padded_seqs, y_test), epochs=2, batch_size=128, verbose=2)\n",
    "# Final evaluation of the model\n",
    "scores = model.evaluate(X_test_padded_seqs, y_test, verbose=0)\n",
    "print(\"Accuracy: %.2f%%\" % (scores[1]*100))\n"
   ]
  },
  {
   "cell_type": "code",
   "execution_count": 49,
   "metadata": {
    "collapsed": false
   },
   "outputs": [
    {
     "name": "stdout",
     "output_type": "stream",
     "text": [
      "\n",
      "CNN Classifier's Accuracy: 0.86821\n",
      "\n",
      "('Confusion Matrix:', array([[ 1990,  2551],\n",
      "       [ 1096, 22036]]))\n",
      "Classification Report\n",
      "             precision    recall  f1-score   support\n",
      "\n",
      "          0       0.64      0.44      0.52      4541\n",
      "          1       0.90      0.95      0.92     23132\n",
      "\n",
      "avg / total       0.85      0.87      0.86     27673\n",
      "\n"
     ]
    }
   ],
   "source": [
    "import numpy as np\n",
    "from sklearn import metrics\n",
    "pred_classes = [round(i) for i in model.predict(X_test_padded_seqs)]\n",
    "true_classes = y_test.tolist()\n",
    "print('\\nCNN Classifier\\'s Accuracy: %0.5f\\n' % metrics.accuracy_score(true_classes, pred_classes))\n",
    "print ('Confusion Matrix:', metrics.confusion_matrix(true_classes, pred_classes))\n",
    "print ('Classification Report')\n",
    "print metrics.classification_report(true_classes, pred_classes)"
   ]
  }
 ],
 "metadata": {
  "anaconda-cloud": {},
  "kernelspec": {
   "display_name": "Python [conda env:cs670]",
   "language": "python",
   "name": "conda-env-cs670-py"
  },
  "language_info": {
   "codemirror_mode": {
    "name": "ipython",
    "version": 2
   },
   "file_extension": ".py",
   "mimetype": "text/x-python",
   "name": "python",
   "nbconvert_exporter": "python",
   "pygments_lexer": "ipython2",
   "version": "2.7.13"
  }
 },
 "nbformat": 4,
 "nbformat_minor": 1
}
